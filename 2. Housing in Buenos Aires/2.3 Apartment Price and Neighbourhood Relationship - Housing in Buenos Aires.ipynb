{
 "cells": [
  {
   "cell_type": "markdown",
   "id": "e954bd79",
   "metadata": {},
   "source": [
    "* In 2.2 we looked at location in terms of latitude and longitude to predict Apartment price\n",
    "* This time we would look at location in terms of Neighbourhood to predict Apartment price\n",
    "* **OBJECTIVES**\n",
    "    * Build a model to predict apartment price based on **neighbourhood**\n",
    "    * Encode **categorical data** to train a linear model\n",
    "    * Battle **overfitting** using **regularisation**\n",
    "    \n",
    "**MACHINE LEARNING WORKFLOW**\n",
    "1. **Preparing Data**\n",
    "    * Importing data: `wrangle` function and `for` loop\n",
    "    * Exploring data: extract neighbourhood information from string\n",
    "    * Splitting data\n",
    "2. **Building the Model**\n",
    "    * Baselining\n",
    "    * Iterating: `One-Hot Ecoding` for Categorical data\n",
    "    * Evaluating: Overfitting \n",
    "3. **Communicating Results**\n",
    "    * Curse of Dimensionality\n",
    "    * Regularisation: Ridge Regression Model\n",
    "    * Bar Charts for Coefficients"
   ]
  },
  {
   "cell_type": "code",
   "execution_count": 1,
   "id": "552bde64",
   "metadata": {},
   "outputs": [],
   "source": [
    "# importing libraries\n",
    "\n",
    "from glob import glob # To search for files which follow a certain pattern\n",
    "\n",
    "import matplotlib.pyplot as plt\n",
    "import numpy as np\n",
    "import pandas as pd\n",
    "\n",
    "from category_encoders import OneHotEncoder # scikit has its own OneHotEncoder as well\n",
    "from sklearn.impute import SimpleImputer\n",
    "from sklearn.linear_model import LinearRegression, Ridge\n",
    "from sklearn.metrics import mean_absolute_error\n",
    "from sklearn.pipeline import make_pipeline"
   ]
  },
  {
   "cell_type": "markdown",
   "id": "082cb8c9",
   "metadata": {},
   "source": [
    "# 1. Preparing Data\n",
    "## 1.1 Importing Data"
   ]
  },
  {
   "cell_type": "code",
   "execution_count": 2,
   "id": "c3763541",
   "metadata": {},
   "outputs": [],
   "source": [
    "# Using the wrangle function from 2.2 file\n",
    "\n",
    "def wrangle(filepath):\n",
    "    # Read CSV file\n",
    "    df = pd.read_csv(filepath)\n",
    "\n",
    "    # Subset data: Apartments in \"Capital Federal\", less than 400,000\n",
    "    mask_ba = df[\"place_with_parent_names\"].str.contains(\"Capital Federal\")\n",
    "    mask_apt = df[\"property_type\"] == \"apartment\"\n",
    "    mask_price = df[\"price_aprox_usd\"] < 400_000\n",
    "    df = df[mask_ba & mask_apt & mask_price]\n",
    "\n",
    "    # Subset data: Remove outliers for \"surface_covered_in_m2\"\n",
    "    low, high = df[\"surface_covered_in_m2\"].quantile([0.1, 0.9])\n",
    "    mask_area = df[\"surface_covered_in_m2\"].between(low, high)\n",
    "    df = df[mask_area]\n",
    "\n",
    "    # Split \"lat-lon\" column\n",
    "    df[[\"lat\", \"lon\"]] = df[\"lat-lon\"].str.split(\",\", expand=True).astype(float)\n",
    "    df.drop(columns=\"lat-lon\", inplace=True)\n",
    "\n",
    "    \n",
    "\n",
    "    return df"
   ]
  },
  {
   "cell_type": "markdown",
   "id": "0d089a13",
   "metadata": {},
   "source": [
    "#### To import multiple similarly names files at the same time, glob library can be used. Just need to put asterisk *"
   ]
  },
  {
   "cell_type": "code",
   "execution_count": 3,
   "id": "c5e21069",
   "metadata": {},
   "outputs": [
    {
     "data": {
      "text/plain": [
       "['buenos-aires-real-estate-1.csv',\n",
       " 'buenos-aires-real-estate-2.csv',\n",
       " 'buenos-aires-real-estate-3.csv',\n",
       " 'buenos-aires-real-estate-4.csv',\n",
       " 'buenos-aires-real-estate-5.csv']"
      ]
     },
     "execution_count": 3,
     "metadata": {},
     "output_type": "execute_result"
    }
   ],
   "source": [
    "files = glob('buenos-aires-real-estate-*.csv') \n",
    "# * implies a wildcard, any file with title matching before * would be pulled. Can work for any file format\n",
    "files"
   ]
  },
  {
   "cell_type": "markdown",
   "id": "751521e9",
   "metadata": {},
   "source": [
    "**Pulling data from files above into DataFrames using a `for` loop**"
   ]
  },
  {
   "cell_type": "code",
   "execution_count": 4,
   "id": "e5bf8bdd",
   "metadata": {},
   "outputs": [],
   "source": [
    "frames = [] # An empty list which is to be filled with dataframes \n",
    "for file in files:\n",
    "    df = wrangle(file)\n",
    "    frames.append(df)"
   ]
  },
  {
   "cell_type": "markdown",
   "id": "75f03d30",
   "metadata": {},
   "source": [
    "**Concatenating DataFrames in frames list**"
   ]
  },
  {
   "cell_type": "code",
   "execution_count": 5,
   "id": "455756ac",
   "metadata": {},
   "outputs": [
    {
     "data": {
      "text/plain": [
       "(6582, 17)"
      ]
     },
     "execution_count": 5,
     "metadata": {},
     "output_type": "execute_result"
    }
   ],
   "source": [
    "df = pd.concat(frames, ignore_index=True)\n",
    "df.shape"
   ]
  },
  {
   "cell_type": "markdown",
   "id": "712400ba",
   "metadata": {},
   "source": [
    "## 1.2 Exploring Data\n",
    "We want neighbourhood information in such a way that makes it easier to predict Apartment priices"
   ]
  },
  {
   "cell_type": "code",
   "execution_count": 6,
   "id": "e75d94a4",
   "metadata": {},
   "outputs": [
    {
     "data": {
      "text/html": [
       "<div>\n",
       "<style scoped>\n",
       "    .dataframe tbody tr th:only-of-type {\n",
       "        vertical-align: middle;\n",
       "    }\n",
       "\n",
       "    .dataframe tbody tr th {\n",
       "        vertical-align: top;\n",
       "    }\n",
       "\n",
       "    .dataframe thead th {\n",
       "        text-align: right;\n",
       "    }\n",
       "</style>\n",
       "<table border=\"1\" class=\"dataframe\">\n",
       "  <thead>\n",
       "    <tr style=\"text-align: right;\">\n",
       "      <th></th>\n",
       "      <th>operation</th>\n",
       "      <th>property_type</th>\n",
       "      <th>place_with_parent_names</th>\n",
       "      <th>price</th>\n",
       "      <th>currency</th>\n",
       "      <th>price_aprox_local_currency</th>\n",
       "      <th>price_aprox_usd</th>\n",
       "      <th>surface_total_in_m2</th>\n",
       "      <th>surface_covered_in_m2</th>\n",
       "      <th>price_usd_per_m2</th>\n",
       "      <th>price_per_m2</th>\n",
       "      <th>floor</th>\n",
       "      <th>rooms</th>\n",
       "      <th>expenses</th>\n",
       "      <th>properati_url</th>\n",
       "      <th>lat</th>\n",
       "      <th>lon</th>\n",
       "    </tr>\n",
       "  </thead>\n",
       "  <tbody>\n",
       "    <tr>\n",
       "      <th>0</th>\n",
       "      <td>sell</td>\n",
       "      <td>apartment</td>\n",
       "      <td>|Argentina|Capital Federal|Chacarita|</td>\n",
       "      <td>129000.0</td>\n",
       "      <td>USD</td>\n",
       "      <td>1955949.6</td>\n",
       "      <td>129000.0</td>\n",
       "      <td>76.0</td>\n",
       "      <td>70.0</td>\n",
       "      <td>1697.368421</td>\n",
       "      <td>1842.857143</td>\n",
       "      <td>NaN</td>\n",
       "      <td>NaN</td>\n",
       "      <td>NaN</td>\n",
       "      <td>http://chacarita.properati.com.ar/10qlv_venta_...</td>\n",
       "      <td>-34.584651</td>\n",
       "      <td>-58.454693</td>\n",
       "    </tr>\n",
       "    <tr>\n",
       "      <th>1</th>\n",
       "      <td>sell</td>\n",
       "      <td>apartment</td>\n",
       "      <td>|Argentina|Capital Federal|Villa Luro|</td>\n",
       "      <td>87000.0</td>\n",
       "      <td>USD</td>\n",
       "      <td>1319128.8</td>\n",
       "      <td>87000.0</td>\n",
       "      <td>48.0</td>\n",
       "      <td>42.0</td>\n",
       "      <td>1812.500000</td>\n",
       "      <td>2071.428571</td>\n",
       "      <td>NaN</td>\n",
       "      <td>NaN</td>\n",
       "      <td>NaN</td>\n",
       "      <td>http://villa-luro.properati.com.ar/12m82_venta...</td>\n",
       "      <td>-34.638979</td>\n",
       "      <td>-58.500115</td>\n",
       "    </tr>\n",
       "    <tr>\n",
       "      <th>2</th>\n",
       "      <td>sell</td>\n",
       "      <td>apartment</td>\n",
       "      <td>|Argentina|Capital Federal|Caballito|</td>\n",
       "      <td>118000.0</td>\n",
       "      <td>USD</td>\n",
       "      <td>1789163.2</td>\n",
       "      <td>118000.0</td>\n",
       "      <td>NaN</td>\n",
       "      <td>54.0</td>\n",
       "      <td>NaN</td>\n",
       "      <td>2185.185185</td>\n",
       "      <td>NaN</td>\n",
       "      <td>2.0</td>\n",
       "      <td>NaN</td>\n",
       "      <td>http://caballito.properati.com.ar/11wqh_venta_...</td>\n",
       "      <td>-34.615847</td>\n",
       "      <td>-58.459957</td>\n",
       "    </tr>\n",
       "    <tr>\n",
       "      <th>3</th>\n",
       "      <td>sell</td>\n",
       "      <td>apartment</td>\n",
       "      <td>|Argentina|Capital Federal|Constitución|</td>\n",
       "      <td>57000.0</td>\n",
       "      <td>USD</td>\n",
       "      <td>864256.8</td>\n",
       "      <td>57000.0</td>\n",
       "      <td>42.0</td>\n",
       "      <td>42.0</td>\n",
       "      <td>1357.142857</td>\n",
       "      <td>1357.142857</td>\n",
       "      <td>5.0</td>\n",
       "      <td>2.0</td>\n",
       "      <td>364</td>\n",
       "      <td>http://constitucion.properati.com.ar/k2f0_vent...</td>\n",
       "      <td>-34.625222</td>\n",
       "      <td>-58.382382</td>\n",
       "    </tr>\n",
       "    <tr>\n",
       "      <th>4</th>\n",
       "      <td>sell</td>\n",
       "      <td>apartment</td>\n",
       "      <td>|Argentina|Capital Federal|Once|</td>\n",
       "      <td>90000.0</td>\n",
       "      <td>USD</td>\n",
       "      <td>1364616.0</td>\n",
       "      <td>90000.0</td>\n",
       "      <td>57.0</td>\n",
       "      <td>50.0</td>\n",
       "      <td>1578.947368</td>\n",
       "      <td>1800.000000</td>\n",
       "      <td>NaN</td>\n",
       "      <td>3.0</td>\n",
       "      <td>450</td>\n",
       "      <td>http://once.properati.com.ar/suwa_venta_depart...</td>\n",
       "      <td>-34.610610</td>\n",
       "      <td>-58.412511</td>\n",
       "    </tr>\n",
       "  </tbody>\n",
       "</table>\n",
       "</div>"
      ],
      "text/plain": [
       "  operation property_type                   place_with_parent_names     price  \\\n",
       "0      sell     apartment     |Argentina|Capital Federal|Chacarita|  129000.0   \n",
       "1      sell     apartment    |Argentina|Capital Federal|Villa Luro|   87000.0   \n",
       "2      sell     apartment     |Argentina|Capital Federal|Caballito|  118000.0   \n",
       "3      sell     apartment  |Argentina|Capital Federal|Constitución|   57000.0   \n",
       "4      sell     apartment          |Argentina|Capital Federal|Once|   90000.0   \n",
       "\n",
       "  currency  price_aprox_local_currency  price_aprox_usd  surface_total_in_m2  \\\n",
       "0      USD                   1955949.6         129000.0                 76.0   \n",
       "1      USD                   1319128.8          87000.0                 48.0   \n",
       "2      USD                   1789163.2         118000.0                  NaN   \n",
       "3      USD                    864256.8          57000.0                 42.0   \n",
       "4      USD                   1364616.0          90000.0                 57.0   \n",
       "\n",
       "   surface_covered_in_m2  price_usd_per_m2  price_per_m2  floor  rooms  \\\n",
       "0                   70.0       1697.368421   1842.857143    NaN    NaN   \n",
       "1                   42.0       1812.500000   2071.428571    NaN    NaN   \n",
       "2                   54.0               NaN   2185.185185    NaN    2.0   \n",
       "3                   42.0       1357.142857   1357.142857    5.0    2.0   \n",
       "4                   50.0       1578.947368   1800.000000    NaN    3.0   \n",
       "\n",
       "  expenses                                      properati_url        lat  \\\n",
       "0      NaN  http://chacarita.properati.com.ar/10qlv_venta_... -34.584651   \n",
       "1      NaN  http://villa-luro.properati.com.ar/12m82_venta... -34.638979   \n",
       "2      NaN  http://caballito.properati.com.ar/11wqh_venta_... -34.615847   \n",
       "3      364  http://constitucion.properati.com.ar/k2f0_vent... -34.625222   \n",
       "4      450  http://once.properati.com.ar/suwa_venta_depart... -34.610610   \n",
       "\n",
       "         lon  \n",
       "0 -58.454693  \n",
       "1 -58.500115  \n",
       "2 -58.459957  \n",
       "3 -58.382382  \n",
       "4 -58.412511  "
      ]
     },
     "execution_count": 6,
     "metadata": {},
     "output_type": "execute_result"
    }
   ],
   "source": [
    "df.head()"
   ]
  },
  {
   "cell_type": "markdown",
   "id": "219f5138",
   "metadata": {},
   "source": [
    "In the column `place_with_parent_names`, we have country, province and neighbourhood information. We only need neighbourhood information"
   ]
  },
  {
   "cell_type": "code",
   "execution_count": 7,
   "id": "7e1e83a1",
   "metadata": {},
   "outputs": [
    {
     "data": {
      "text/plain": [
       "0       Chacarita\n",
       "1      Villa Luro\n",
       "2       Caballito\n",
       "3    Constitución\n",
       "4            Once\n",
       "Name: 3, dtype: object"
      ]
     },
     "execution_count": 7,
     "metadata": {},
     "output_type": "execute_result"
    }
   ],
   "source": [
    "# Splitting string to get neighbourhood information\n",
    "df['place_with_parent_names'].str.split('|', expand = True)[3].head()"
   ]
  },
  {
   "cell_type": "code",
   "execution_count": 8,
   "id": "2627fcec",
   "metadata": {},
   "outputs": [],
   "source": [
    "# Modifying wrangle function\n",
    "\n",
    "def wrangle(filepath):\n",
    "    # Read CSV file\n",
    "    df = pd.read_csv(filepath)\n",
    "\n",
    "    # Subset data: Apartments in \"Capital Federal\", less than 400,000\n",
    "    mask_ba = df[\"place_with_parent_names\"].str.contains(\"Capital Federal\")\n",
    "    mask_apt = df[\"property_type\"] == \"apartment\"\n",
    "    mask_price = df[\"price_aprox_usd\"] < 400_000\n",
    "    df = df[mask_ba & mask_apt & mask_price]\n",
    "\n",
    "    # Subset data: Remove outliers for \"surface_covered_in_m2\"\n",
    "    low, high = df[\"surface_covered_in_m2\"].quantile([0.1, 0.9])\n",
    "    mask_area = df[\"surface_covered_in_m2\"].between(low, high)\n",
    "    df = df[mask_area]\n",
    "\n",
    "    # Split \"lat-lon\" column\n",
    "    df[[\"lat\", \"lon\"]] = df[\"lat-lon\"].str.split(\",\", expand=True).astype(float)\n",
    "    df.drop(columns=\"lat-lon\", inplace=True)\n",
    "\n",
    "    # Extracting neighbourhood information\n",
    "    df['neighbourhood'] = df['place_with_parent_names'].str.split('|', expand = True)[3]\n",
    "    df.drop(columns = 'place_with_parent_names', inplace = True)\n",
    "\n",
    "    return df"
   ]
  },
  {
   "cell_type": "code",
   "execution_count": 9,
   "id": "3a146287",
   "metadata": {},
   "outputs": [
    {
     "data": {
      "text/html": [
       "<div>\n",
       "<style scoped>\n",
       "    .dataframe tbody tr th:only-of-type {\n",
       "        vertical-align: middle;\n",
       "    }\n",
       "\n",
       "    .dataframe tbody tr th {\n",
       "        vertical-align: top;\n",
       "    }\n",
       "\n",
       "    .dataframe thead th {\n",
       "        text-align: right;\n",
       "    }\n",
       "</style>\n",
       "<table border=\"1\" class=\"dataframe\">\n",
       "  <thead>\n",
       "    <tr style=\"text-align: right;\">\n",
       "      <th></th>\n",
       "      <th>operation</th>\n",
       "      <th>property_type</th>\n",
       "      <th>price</th>\n",
       "      <th>currency</th>\n",
       "      <th>price_aprox_local_currency</th>\n",
       "      <th>price_aprox_usd</th>\n",
       "      <th>surface_total_in_m2</th>\n",
       "      <th>surface_covered_in_m2</th>\n",
       "      <th>price_usd_per_m2</th>\n",
       "      <th>price_per_m2</th>\n",
       "      <th>floor</th>\n",
       "      <th>rooms</th>\n",
       "      <th>expenses</th>\n",
       "      <th>properati_url</th>\n",
       "      <th>lat</th>\n",
       "      <th>lon</th>\n",
       "      <th>neighbourhood</th>\n",
       "    </tr>\n",
       "  </thead>\n",
       "  <tbody>\n",
       "    <tr>\n",
       "      <th>0</th>\n",
       "      <td>sell</td>\n",
       "      <td>apartment</td>\n",
       "      <td>129000.0</td>\n",
       "      <td>USD</td>\n",
       "      <td>1955949.6</td>\n",
       "      <td>129000.0</td>\n",
       "      <td>76.0</td>\n",
       "      <td>70.0</td>\n",
       "      <td>1697.368421</td>\n",
       "      <td>1842.857143</td>\n",
       "      <td>NaN</td>\n",
       "      <td>NaN</td>\n",
       "      <td>NaN</td>\n",
       "      <td>http://chacarita.properati.com.ar/10qlv_venta_...</td>\n",
       "      <td>-34.584651</td>\n",
       "      <td>-58.454693</td>\n",
       "      <td>Chacarita</td>\n",
       "    </tr>\n",
       "    <tr>\n",
       "      <th>1</th>\n",
       "      <td>sell</td>\n",
       "      <td>apartment</td>\n",
       "      <td>87000.0</td>\n",
       "      <td>USD</td>\n",
       "      <td>1319128.8</td>\n",
       "      <td>87000.0</td>\n",
       "      <td>48.0</td>\n",
       "      <td>42.0</td>\n",
       "      <td>1812.500000</td>\n",
       "      <td>2071.428571</td>\n",
       "      <td>NaN</td>\n",
       "      <td>NaN</td>\n",
       "      <td>NaN</td>\n",
       "      <td>http://villa-luro.properati.com.ar/12m82_venta...</td>\n",
       "      <td>-34.638979</td>\n",
       "      <td>-58.500115</td>\n",
       "      <td>Villa Luro</td>\n",
       "    </tr>\n",
       "    <tr>\n",
       "      <th>2</th>\n",
       "      <td>sell</td>\n",
       "      <td>apartment</td>\n",
       "      <td>118000.0</td>\n",
       "      <td>USD</td>\n",
       "      <td>1789163.2</td>\n",
       "      <td>118000.0</td>\n",
       "      <td>NaN</td>\n",
       "      <td>54.0</td>\n",
       "      <td>NaN</td>\n",
       "      <td>2185.185185</td>\n",
       "      <td>NaN</td>\n",
       "      <td>2.0</td>\n",
       "      <td>NaN</td>\n",
       "      <td>http://caballito.properati.com.ar/11wqh_venta_...</td>\n",
       "      <td>-34.615847</td>\n",
       "      <td>-58.459957</td>\n",
       "      <td>Caballito</td>\n",
       "    </tr>\n",
       "    <tr>\n",
       "      <th>3</th>\n",
       "      <td>sell</td>\n",
       "      <td>apartment</td>\n",
       "      <td>57000.0</td>\n",
       "      <td>USD</td>\n",
       "      <td>864256.8</td>\n",
       "      <td>57000.0</td>\n",
       "      <td>42.0</td>\n",
       "      <td>42.0</td>\n",
       "      <td>1357.142857</td>\n",
       "      <td>1357.142857</td>\n",
       "      <td>5.0</td>\n",
       "      <td>2.0</td>\n",
       "      <td>364</td>\n",
       "      <td>http://constitucion.properati.com.ar/k2f0_vent...</td>\n",
       "      <td>-34.625222</td>\n",
       "      <td>-58.382382</td>\n",
       "      <td>Constitución</td>\n",
       "    </tr>\n",
       "    <tr>\n",
       "      <th>4</th>\n",
       "      <td>sell</td>\n",
       "      <td>apartment</td>\n",
       "      <td>90000.0</td>\n",
       "      <td>USD</td>\n",
       "      <td>1364616.0</td>\n",
       "      <td>90000.0</td>\n",
       "      <td>57.0</td>\n",
       "      <td>50.0</td>\n",
       "      <td>1578.947368</td>\n",
       "      <td>1800.000000</td>\n",
       "      <td>NaN</td>\n",
       "      <td>3.0</td>\n",
       "      <td>450</td>\n",
       "      <td>http://once.properati.com.ar/suwa_venta_depart...</td>\n",
       "      <td>-34.610610</td>\n",
       "      <td>-58.412511</td>\n",
       "      <td>Once</td>\n",
       "    </tr>\n",
       "  </tbody>\n",
       "</table>\n",
       "</div>"
      ],
      "text/plain": [
       "  operation property_type     price currency  price_aprox_local_currency  \\\n",
       "0      sell     apartment  129000.0      USD                   1955949.6   \n",
       "1      sell     apartment   87000.0      USD                   1319128.8   \n",
       "2      sell     apartment  118000.0      USD                   1789163.2   \n",
       "3      sell     apartment   57000.0      USD                    864256.8   \n",
       "4      sell     apartment   90000.0      USD                   1364616.0   \n",
       "\n",
       "   price_aprox_usd  surface_total_in_m2  surface_covered_in_m2  \\\n",
       "0         129000.0                 76.0                   70.0   \n",
       "1          87000.0                 48.0                   42.0   \n",
       "2         118000.0                  NaN                   54.0   \n",
       "3          57000.0                 42.0                   42.0   \n",
       "4          90000.0                 57.0                   50.0   \n",
       "\n",
       "   price_usd_per_m2  price_per_m2  floor  rooms expenses  \\\n",
       "0       1697.368421   1842.857143    NaN    NaN      NaN   \n",
       "1       1812.500000   2071.428571    NaN    NaN      NaN   \n",
       "2               NaN   2185.185185    NaN    2.0      NaN   \n",
       "3       1357.142857   1357.142857    5.0    2.0      364   \n",
       "4       1578.947368   1800.000000    NaN    3.0      450   \n",
       "\n",
       "                                       properati_url        lat        lon  \\\n",
       "0  http://chacarita.properati.com.ar/10qlv_venta_... -34.584651 -58.454693   \n",
       "1  http://villa-luro.properati.com.ar/12m82_venta... -34.638979 -58.500115   \n",
       "2  http://caballito.properati.com.ar/11wqh_venta_... -34.615847 -58.459957   \n",
       "3  http://constitucion.properati.com.ar/k2f0_vent... -34.625222 -58.382382   \n",
       "4  http://once.properati.com.ar/suwa_venta_depart... -34.610610 -58.412511   \n",
       "\n",
       "  neighbourhood  \n",
       "0     Chacarita  \n",
       "1    Villa Luro  \n",
       "2     Caballito  \n",
       "3  Constitución  \n",
       "4          Once  "
      ]
     },
     "execution_count": 9,
     "metadata": {},
     "output_type": "execute_result"
    }
   ],
   "source": [
    "# re-running wrnagle function to get updated data\n",
    "frames = []\n",
    "for file in files:\n",
    "    df = wrangle(file)\n",
    "    frames.append(df)\n",
    "df = pd.concat(frames, ignore_index=True)\n",
    "df.head()"
   ]
  },
  {
   "cell_type": "markdown",
   "id": "f38aa232",
   "metadata": {},
   "source": [
    "## 1.3 Splitting Data"
   ]
  },
  {
   "cell_type": "code",
   "execution_count": 10,
   "id": "e5e8b6e7",
   "metadata": {},
   "outputs": [],
   "source": [
    "target = 'price_aprox_usd'\n",
    "features = ['neighbourhood']\n",
    "y_train = df[target]\n",
    "X_train = df[features]"
   ]
  },
  {
   "cell_type": "markdown",
   "id": "4fbb0d03",
   "metadata": {},
   "source": [
    "# 2. Building Model\n",
    "## 2.1 Baselining"
   ]
  },
  {
   "cell_type": "code",
   "execution_count": 11,
   "id": "3e67243c",
   "metadata": {},
   "outputs": [
    {
     "name": "stdout",
     "output_type": "stream",
     "text": [
      "Mean Apt. Price: 132383.84\n",
      "Baseline MAE: 44860.11\n"
     ]
    }
   ],
   "source": [
    "y_mean = round(y_train.mean(), 2)\n",
    "y_pred_baseline = [y_mean] * len(y_train)\n",
    "print('Mean Apt. Price:', y_mean)\n",
    "print('Baseline MAE:', round(mean_absolute_error(y_train, y_pred_baseline), 2))"
   ]
  },
  {
   "cell_type": "markdown",
   "id": "6d84707e",
   "metadata": {},
   "source": [
    "## 2.2 Iterating\n",
    "#### OneHotEncoding neighbourhood data\n",
    "    * At this stage we can not use a Linear Regression model for neighbourhood\n",
    "    * It is because the neighbourhood values are a string and the model requires float values\n",
    "    * So neighbourhood information needs to be **encoded** into a numerical form\n",
    "    * OneHotEncoder (OHE) from Category Encoders library can be used for this purpose\n",
    "        * OHE goes through the column to be encoded and finds the unique values in the column\n",
    "        * Now these values can be represented in a binary way (sort of like on/off switch)\n",
    "    * Normally OHE is done inside the pipeline"
   ]
  },
  {
   "cell_type": "code",
   "execution_count": 12,
   "id": "c6d28312",
   "metadata": {},
   "outputs": [
    {
     "data": {
      "text/html": [
       "<div>\n",
       "<style scoped>\n",
       "    .dataframe tbody tr th:only-of-type {\n",
       "        vertical-align: middle;\n",
       "    }\n",
       "\n",
       "    .dataframe tbody tr th {\n",
       "        vertical-align: top;\n",
       "    }\n",
       "\n",
       "    .dataframe thead th {\n",
       "        text-align: right;\n",
       "    }\n",
       "</style>\n",
       "<table border=\"1\" class=\"dataframe\">\n",
       "  <thead>\n",
       "    <tr style=\"text-align: right;\">\n",
       "      <th></th>\n",
       "      <th>neighbourhood</th>\n",
       "    </tr>\n",
       "  </thead>\n",
       "  <tbody>\n",
       "    <tr>\n",
       "      <th>0</th>\n",
       "      <td>Chacarita</td>\n",
       "    </tr>\n",
       "    <tr>\n",
       "      <th>1</th>\n",
       "      <td>Villa Luro</td>\n",
       "    </tr>\n",
       "    <tr>\n",
       "      <th>2</th>\n",
       "      <td>Caballito</td>\n",
       "    </tr>\n",
       "    <tr>\n",
       "      <th>3</th>\n",
       "      <td>Constitución</td>\n",
       "    </tr>\n",
       "    <tr>\n",
       "      <th>4</th>\n",
       "      <td>Once</td>\n",
       "    </tr>\n",
       "  </tbody>\n",
       "</table>\n",
       "</div>"
      ],
      "text/plain": [
       "  neighbourhood\n",
       "0     Chacarita\n",
       "1    Villa Luro\n",
       "2     Caballito\n",
       "3  Constitución\n",
       "4          Once"
      ]
     },
     "execution_count": 12,
     "metadata": {},
     "output_type": "execute_result"
    }
   ],
   "source": [
    "X_train.head()"
   ]
  },
  {
   "cell_type": "code",
   "execution_count": 13,
   "id": "35be3549",
   "metadata": {},
   "outputs": [
    {
     "name": "stdout",
     "output_type": "stream",
     "text": [
      "(6582, 57)\n"
     ]
    },
    {
     "data": {
      "text/html": [
       "<div>\n",
       "<style scoped>\n",
       "    .dataframe tbody tr th:only-of-type {\n",
       "        vertical-align: middle;\n",
       "    }\n",
       "\n",
       "    .dataframe tbody tr th {\n",
       "        vertical-align: top;\n",
       "    }\n",
       "\n",
       "    .dataframe thead th {\n",
       "        text-align: right;\n",
       "    }\n",
       "</style>\n",
       "<table border=\"1\" class=\"dataframe\">\n",
       "  <thead>\n",
       "    <tr style=\"text-align: right;\">\n",
       "      <th></th>\n",
       "      <th>neighbourhood_Chacarita</th>\n",
       "      <th>neighbourhood_Villa Luro</th>\n",
       "      <th>neighbourhood_Caballito</th>\n",
       "      <th>neighbourhood_Constitución</th>\n",
       "      <th>neighbourhood_Once</th>\n",
       "      <th>neighbourhood_Almagro</th>\n",
       "      <th>neighbourhood_Palermo</th>\n",
       "      <th>neighbourhood_Flores</th>\n",
       "      <th>neighbourhood_Belgrano</th>\n",
       "      <th>neighbourhood_Liniers</th>\n",
       "      <th>...</th>\n",
       "      <th>neighbourhood_Puerto Madero</th>\n",
       "      <th>neighbourhood_Agronomía</th>\n",
       "      <th>neighbourhood_Monte Castro</th>\n",
       "      <th>neighbourhood_Tribunales</th>\n",
       "      <th>neighbourhood_Villa Santa Rita</th>\n",
       "      <th>neighbourhood_Velez Sarsfield</th>\n",
       "      <th>neighbourhood_Villa Soldati</th>\n",
       "      <th>neighbourhood_Villa Real</th>\n",
       "      <th>neighbourhood_Pompeya</th>\n",
       "      <th>neighbourhood_Catalinas</th>\n",
       "    </tr>\n",
       "  </thead>\n",
       "  <tbody>\n",
       "    <tr>\n",
       "      <th>0</th>\n",
       "      <td>1</td>\n",
       "      <td>0</td>\n",
       "      <td>0</td>\n",
       "      <td>0</td>\n",
       "      <td>0</td>\n",
       "      <td>0</td>\n",
       "      <td>0</td>\n",
       "      <td>0</td>\n",
       "      <td>0</td>\n",
       "      <td>0</td>\n",
       "      <td>...</td>\n",
       "      <td>0</td>\n",
       "      <td>0</td>\n",
       "      <td>0</td>\n",
       "      <td>0</td>\n",
       "      <td>0</td>\n",
       "      <td>0</td>\n",
       "      <td>0</td>\n",
       "      <td>0</td>\n",
       "      <td>0</td>\n",
       "      <td>0</td>\n",
       "    </tr>\n",
       "    <tr>\n",
       "      <th>1</th>\n",
       "      <td>0</td>\n",
       "      <td>1</td>\n",
       "      <td>0</td>\n",
       "      <td>0</td>\n",
       "      <td>0</td>\n",
       "      <td>0</td>\n",
       "      <td>0</td>\n",
       "      <td>0</td>\n",
       "      <td>0</td>\n",
       "      <td>0</td>\n",
       "      <td>...</td>\n",
       "      <td>0</td>\n",
       "      <td>0</td>\n",
       "      <td>0</td>\n",
       "      <td>0</td>\n",
       "      <td>0</td>\n",
       "      <td>0</td>\n",
       "      <td>0</td>\n",
       "      <td>0</td>\n",
       "      <td>0</td>\n",
       "      <td>0</td>\n",
       "    </tr>\n",
       "    <tr>\n",
       "      <th>2</th>\n",
       "      <td>0</td>\n",
       "      <td>0</td>\n",
       "      <td>1</td>\n",
       "      <td>0</td>\n",
       "      <td>0</td>\n",
       "      <td>0</td>\n",
       "      <td>0</td>\n",
       "      <td>0</td>\n",
       "      <td>0</td>\n",
       "      <td>0</td>\n",
       "      <td>...</td>\n",
       "      <td>0</td>\n",
       "      <td>0</td>\n",
       "      <td>0</td>\n",
       "      <td>0</td>\n",
       "      <td>0</td>\n",
       "      <td>0</td>\n",
       "      <td>0</td>\n",
       "      <td>0</td>\n",
       "      <td>0</td>\n",
       "      <td>0</td>\n",
       "    </tr>\n",
       "    <tr>\n",
       "      <th>3</th>\n",
       "      <td>0</td>\n",
       "      <td>0</td>\n",
       "      <td>0</td>\n",
       "      <td>1</td>\n",
       "      <td>0</td>\n",
       "      <td>0</td>\n",
       "      <td>0</td>\n",
       "      <td>0</td>\n",
       "      <td>0</td>\n",
       "      <td>0</td>\n",
       "      <td>...</td>\n",
       "      <td>0</td>\n",
       "      <td>0</td>\n",
       "      <td>0</td>\n",
       "      <td>0</td>\n",
       "      <td>0</td>\n",
       "      <td>0</td>\n",
       "      <td>0</td>\n",
       "      <td>0</td>\n",
       "      <td>0</td>\n",
       "      <td>0</td>\n",
       "    </tr>\n",
       "    <tr>\n",
       "      <th>4</th>\n",
       "      <td>0</td>\n",
       "      <td>0</td>\n",
       "      <td>0</td>\n",
       "      <td>0</td>\n",
       "      <td>1</td>\n",
       "      <td>0</td>\n",
       "      <td>0</td>\n",
       "      <td>0</td>\n",
       "      <td>0</td>\n",
       "      <td>0</td>\n",
       "      <td>...</td>\n",
       "      <td>0</td>\n",
       "      <td>0</td>\n",
       "      <td>0</td>\n",
       "      <td>0</td>\n",
       "      <td>0</td>\n",
       "      <td>0</td>\n",
       "      <td>0</td>\n",
       "      <td>0</td>\n",
       "      <td>0</td>\n",
       "      <td>0</td>\n",
       "    </tr>\n",
       "  </tbody>\n",
       "</table>\n",
       "<p>5 rows × 57 columns</p>\n",
       "</div>"
      ],
      "text/plain": [
       "   neighbourhood_Chacarita  neighbourhood_Villa Luro  neighbourhood_Caballito  \\\n",
       "0                        1                         0                        0   \n",
       "1                        0                         1                        0   \n",
       "2                        0                         0                        1   \n",
       "3                        0                         0                        0   \n",
       "4                        0                         0                        0   \n",
       "\n",
       "   neighbourhood_Constitución  neighbourhood_Once  neighbourhood_Almagro  \\\n",
       "0                           0                   0                      0   \n",
       "1                           0                   0                      0   \n",
       "2                           0                   0                      0   \n",
       "3                           1                   0                      0   \n",
       "4                           0                   1                      0   \n",
       "\n",
       "   neighbourhood_Palermo  neighbourhood_Flores  neighbourhood_Belgrano  \\\n",
       "0                      0                     0                       0   \n",
       "1                      0                     0                       0   \n",
       "2                      0                     0                       0   \n",
       "3                      0                     0                       0   \n",
       "4                      0                     0                       0   \n",
       "\n",
       "   neighbourhood_Liniers  ...  neighbourhood_Puerto Madero  \\\n",
       "0                      0  ...                            0   \n",
       "1                      0  ...                            0   \n",
       "2                      0  ...                            0   \n",
       "3                      0  ...                            0   \n",
       "4                      0  ...                            0   \n",
       "\n",
       "   neighbourhood_Agronomía  neighbourhood_Monte Castro  \\\n",
       "0                        0                           0   \n",
       "1                        0                           0   \n",
       "2                        0                           0   \n",
       "3                        0                           0   \n",
       "4                        0                           0   \n",
       "\n",
       "   neighbourhood_Tribunales  neighbourhood_Villa Santa Rita  \\\n",
       "0                         0                               0   \n",
       "1                         0                               0   \n",
       "2                         0                               0   \n",
       "3                         0                               0   \n",
       "4                         0                               0   \n",
       "\n",
       "   neighbourhood_Velez Sarsfield  neighbourhood_Villa Soldati  \\\n",
       "0                              0                            0   \n",
       "1                              0                            0   \n",
       "2                              0                            0   \n",
       "3                              0                            0   \n",
       "4                              0                            0   \n",
       "\n",
       "   neighbourhood_Villa Real  neighbourhood_Pompeya  neighbourhood_Catalinas  \n",
       "0                         0                      0                        0  \n",
       "1                         0                      0                        0  \n",
       "2                         0                      0                        0  \n",
       "3                         0                      0                        0  \n",
       "4                         0                      0                        0  \n",
       "\n",
       "[5 rows x 57 columns]"
      ]
     },
     "execution_count": 13,
     "metadata": {},
     "output_type": "execute_result"
    }
   ],
   "source": [
    "# Instantiating OneHotEncoder Transformer\n",
    "ohe = OneHotEncoder(use_cat_names = True)\n",
    "# Fitting training data to ohe\n",
    "ohe.fit(X_train)\n",
    "# Transforming training data\n",
    "XT_train = ohe.transform(X_train)\n",
    "print(XT_train.shape)\n",
    "XT_train.head()"
   ]
  },
  {
   "cell_type": "markdown",
   "id": "70de783c",
   "metadata": {},
   "source": [
    "As can be seen from above, the neighbourhood string has been encoded for all observations in training data"
   ]
  },
  {
   "cell_type": "markdown",
   "id": "d0234e53",
   "metadata": {},
   "source": [
    "**Pipelining**"
   ]
  },
  {
   "cell_type": "code",
   "execution_count": 14,
   "id": "476d4c10",
   "metadata": {},
   "outputs": [
    {
     "data": {
      "text/plain": [
       "Pipeline(steps=[('onehotencoder',\n",
       "                 OneHotEncoder(cols=['neighbourhood'], use_cat_names=True)),\n",
       "                ('linearregression', LinearRegression())])"
      ]
     },
     "execution_count": 14,
     "metadata": {},
     "output_type": "execute_result"
    }
   ],
   "source": [
    "# Instantiating model with Transformer and LinearRegression Predictor components\n",
    "model = make_pipeline(\n",
    "    OneHotEncoder(use_cat_names=True),\n",
    "    LinearRegression()\n",
    ")\n",
    "\n",
    "# Fitting model to training data\n",
    "model.fit(X_train, y_train)"
   ]
  },
  {
   "cell_type": "markdown",
   "id": "17fcb0a4",
   "metadata": {},
   "source": [
    "## 2.3 Evaluating"
   ]
  },
  {
   "cell_type": "code",
   "execution_count": 15,
   "id": "0865c094",
   "metadata": {},
   "outputs": [
    {
     "name": "stdout",
     "output_type": "stream",
     "text": [
      "Training MAE: 39339.72\n"
     ]
    }
   ],
   "source": [
    "# Checking how the model performed on training data\n",
    "y_pred_training = model.predict(X_train)\n",
    "mae_training = mean_absolute_error(y_train, y_pred_training)\n",
    "print('Training MAE:', round(mae_training, 2))"
   ]
  },
  {
   "cell_type": "code",
   "execution_count": 16,
   "id": "a7abce1a",
   "metadata": {},
   "outputs": [
    {
     "data": {
      "text/plain": [
       "0    249409.478261\n",
       "1    161530.079797\n",
       "2     98036.930192\n",
       "3    110675.394444\n",
       "4    127796.268745\n",
       "dtype: float64"
      ]
     },
     "execution_count": 16,
     "metadata": {},
     "output_type": "execute_result"
    }
   ],
   "source": [
    "X_test = pd.read_csv(\"buenos-aires-test-features.csv\")[features]\n",
    "y_pred_test = pd.Series(model.predict(X_test))\n",
    "y_pred_test.head()"
   ]
  },
  {
   "cell_type": "markdown",
   "id": "0b287d3b",
   "metadata": {},
   "source": [
    "# 3. Communicating Results\n",
    "The mean absolute error for our  model on test data is in billions. The reason for that is there are too many variables which are the neighbourhoods. This is the curse of dimensionality. "
   ]
  },
  {
   "cell_type": "markdown",
   "id": "fb1f84b1",
   "metadata": {},
   "source": [
    "#### Extracting intercept and coefficient"
   ]
  },
  {
   "cell_type": "code",
   "execution_count": 17,
   "id": "f7d818c1",
   "metadata": {},
   "outputs": [
    {
     "name": "stdout",
     "output_type": "stream",
     "text": [
      "coefficients len: 57\n",
      "[ -1910.75043614   1046.27470672  10324.25164214 -41623.85243614\n",
      "  -2217.13905402]\n"
     ]
    }
   ],
   "source": [
    "intercept = model.named_steps['linearregression'].intercept_\n",
    "coefficients = model.named_steps['linearregression'].coef_\n",
    "print('coefficients len:', len(coefficients))\n",
    "print(coefficients[:5])"
   ]
  },
  {
   "cell_type": "markdown",
   "id": "c1d2f42e",
   "metadata": {},
   "source": [
    "#### Extracting feature names from `OneHotEncoder`"
   ]
  },
  {
   "cell_type": "code",
   "execution_count": 18,
   "id": "93e21e75",
   "metadata": {},
   "outputs": [
    {
     "name": "stdout",
     "output_type": "stream",
     "text": [
      "features len: 57\n",
      "['neighbourhood_Chacarita', 'neighbourhood_Villa Luro', 'neighbourhood_Caballito', 'neighbourhood_Constitución', 'neighbourhood_Once']\n"
     ]
    }
   ],
   "source": [
    "feature_names = model.named_steps['onehotencoder'].get_feature_names()\n",
    "print('features len:', len(feature_names))\n",
    "print(feature_names[:5])"
   ]
  },
  {
   "cell_type": "markdown",
   "id": "e7f5c9f7",
   "metadata": {},
   "source": [
    "#### Putting coefficients and feature names together in a series"
   ]
  },
  {
   "cell_type": "code",
   "execution_count": 19,
   "id": "8581f269",
   "metadata": {},
   "outputs": [
    {
     "data": {
      "text/plain": [
       "neighbourhood_Chacarita       -1910.750436\n",
       "neighbourhood_Villa Luro       1046.274707\n",
       "neighbourhood_Caballito       10324.251642\n",
       "neighbourhood_Constitución   -41623.852436\n",
       "neighbourhood_Once            -2217.139054\n",
       "dtype: float64"
      ]
     },
     "execution_count": 19,
     "metadata": {},
     "output_type": "execute_result"
    }
   ],
   "source": [
    "feat_imp = pd.Series(coefficients, index = feature_names)\n",
    "feat_imp.head()"
   ]
  },
  {
   "cell_type": "markdown",
   "id": "8e41a236",
   "metadata": {},
   "source": [
    "### Curse of dimensionality and Ridge\n",
    "* The more dimensions are added, data points get further and further apart. When a linear model tries to fit these points, it gets wacky and starts shooting up all over the space. It begins to favour certain data points and is unable to generalise for the data the model has not seen before\n",
    "* One way to overcome this Overfitting is by **Regularisation techniques**. It brings the model to normal. \n",
    "    * There are many techniques, and for Linear Regression, Ridge Regression technique comes in handy\n",
    "    * A Ridge Regression tries to get as close to data points without making the coefficients extreme"
   ]
  },
  {
   "cell_type": "code",
   "execution_count": 25,
   "id": "3a6e9c3d",
   "metadata": {},
   "outputs": [
    {
     "data": {
      "text/plain": [
       "Pipeline(steps=[('onehotencoder',\n",
       "                 OneHotEncoder(cols=['neighbourhood'], use_cat_names=True)),\n",
       "                ('ridge', Ridge())])"
      ]
     },
     "execution_count": 25,
     "metadata": {},
     "output_type": "execute_result"
    }
   ],
   "source": [
    "# trying with Ridge regression model again\n",
    "model2 = make_pipeline(\n",
    "    OneHotEncoder(use_cat_names=True),\n",
    "    Ridge()\n",
    ")\n",
    "model2.fit(X_train, y_train)"
   ]
  },
  {
   "cell_type": "code",
   "execution_count": 26,
   "id": "70a6dbcd",
   "metadata": {},
   "outputs": [
    {
     "name": "stdout",
     "output_type": "stream",
     "text": [
      "Training MAE: 39350.22\n"
     ]
    }
   ],
   "source": [
    "# Checking how the model performed on training data\n",
    "y_pred_training = model2.predict(X_train)\n",
    "mae_training = mean_absolute_error(y_train, y_pred_training)\n",
    "print('Training MAE:', round(mae_training, 2))"
   ]
  },
  {
   "cell_type": "code",
   "execution_count": 28,
   "id": "8442c53e",
   "metadata": {},
   "outputs": [
    {
     "data": {
      "text/plain": [
       "0    246624.69\n",
       "1    161355.97\n",
       "2     98232.05\n",
       "3    110846.03\n",
       "4    127777.54\n",
       "dtype: float64"
      ]
     },
     "execution_count": 28,
     "metadata": {},
     "output_type": "execute_result"
    }
   ],
   "source": [
    "# Testing model on test data\n",
    "X_test = pd.read_csv(\"buenos-aires-test-features.csv\")[features]\n",
    "y_pred_test = pd.Series(model2.predict(X_test)).round(2)\n",
    "y_pred_test.head()"
   ]
  },
  {
   "cell_type": "code",
   "execution_count": 33,
   "id": "bfe16704",
   "metadata": {},
   "outputs": [
    {
     "name": "stdout",
     "output_type": "stream",
     "text": [
      "coefficients2 len: 57\n",
      "[-2.89895934e+03 -6.29555347e+00  9.25289088e+03 -4.17487330e+04\n",
      " -3.23037446e+03]\n"
     ]
    }
   ],
   "source": [
    "# Extracting intercept and coefficient\n",
    "intercept2 = model2.named_steps['ridge'].intercept_\n",
    "coefficients2 = model2.named_steps['ridge'].coef_\n",
    "print('coefficients2 len:', len(coefficients2))\n",
    "print(coefficients2[:5])"
   ]
  },
  {
   "cell_type": "code",
   "execution_count": 31,
   "id": "571c9b5e",
   "metadata": {},
   "outputs": [
    {
     "name": "stdout",
     "output_type": "stream",
     "text": [
      "features len: 57\n",
      "['neighbourhood_Chacarita', 'neighbourhood_Villa Luro', 'neighbourhood_Caballito', 'neighbourhood_Constitución', 'neighbourhood_Once']\n"
     ]
    }
   ],
   "source": [
    "# Extracting feature names\n",
    "feature_names = model2.named_steps['onehotencoder'].get_feature_names()\n",
    "print('features len:', len(feature_names))\n",
    "print(feature_names[:5])"
   ]
  },
  {
   "cell_type": "code",
   "execution_count": 35,
   "id": "3c521d78",
   "metadata": {},
   "outputs": [
    {
     "data": {
      "text/plain": [
       "neighbourhood_Chacarita       -2898.959335\n",
       "neighbourhood_Villa Luro         -6.295553\n",
       "neighbourhood_Caballito        9252.890876\n",
       "neighbourhood_Constitución   -41748.733031\n",
       "neighbourhood_Once            -3230.374461\n",
       "dtype: float64"
      ]
     },
     "execution_count": 35,
     "metadata": {},
     "output_type": "execute_result"
    }
   ],
   "source": [
    "# Putting features and coefficients in a series\n",
    "feat_imp2 = pd.Series(coefficients2, index = feature_names)\n",
    "feat_imp2.head()"
   ]
  },
  {
   "cell_type": "code",
   "execution_count": 37,
   "id": "85cfd87f",
   "metadata": {},
   "outputs": [
    {
     "name": "stdout",
     "output_type": "stream",
     "text": [
      "price = 118524.65\n",
      "+ (-2898.96 * neighbourhood_Chacarita)\n",
      "+ (-6.3 * neighbourhood_Villa Luro)\n",
      "+ (9252.89 * neighbourhood_Caballito)\n",
      "+ (-41748.73 * neighbourhood_Constitución)\n",
      "+ (-3230.37 * neighbourhood_Once)\n",
      "+ (2903.34 * neighbourhood_Almagro)\n",
      "+ (45934.41 * neighbourhood_Palermo)\n",
      "+ (-8662.28 * neighbourhood_Flores)\n",
      "+ (46954.21 * neighbourhood_Belgrano)\n",
      "+ (-13729.1 * neighbourhood_Liniers)\n",
      "+ (6277.05 * neighbourhood_Villa Crespo)\n",
      "+ (-10678.63 * neighbourhood_San Cristobal)\n",
      "+ (-7974.66 * neighbourhood_Congreso)\n",
      "+ (14701.16 * neighbourhood_Saavedra)\n",
      "+ (-11172.55 * neighbourhood_Balvanera)\n",
      "+ (-29585.61 * neighbourhood_Parque Avellaneda)\n",
      "+ (72740.78 * neighbourhood_Recoleta)\n",
      "+ (5638.47 * neighbourhood_San Telmo)\n",
      "+ (42831.32 * neighbourhood_Nuñez)\n",
      "+ (55590.93 * neighbourhood_Barrio Norte)\n",
      "+ (-6323.68 * neighbourhood_Parque Centenario)\n",
      "+ (4330.55 * neighbourhood_Abasto)\n",
      "+ (-7905.29 * neighbourhood_Centro / Microcentro)\n",
      "+ (-19370.74 * neighbourhood_)\n",
      "+ (-7108.23 * neighbourhood_Paternal)\n",
      "+ (-21078.78 * neighbourhood_Mataderos)\n",
      "+ (-48669.35 * neighbourhood_Villa Lugano)\n",
      "+ (12223.11 * neighbourhood_Coghlan)\n",
      "+ (72270.21 * neighbourhood_Las Cañitas)\n",
      "+ (12671.71 * neighbourhood_Villa Urquiza)\n",
      "+ (-20292.6 * neighbourhood_Monserrat)\n",
      "+ (-8093.45 * neighbourhood_Villa Pueyrredón)\n",
      "+ (-15807.01 * neighbourhood_Parque Patricios)\n",
      "+ (-10734.35 * neighbourhood_San Nicolás)\n",
      "+ (-12595.5 * neighbourhood_Villa del Parque)\n",
      "+ (-6837.4 * neighbourhood_Boedo)\n",
      "+ (-7678.62 * neighbourhood_Parque Chacabuco)\n",
      "+ (-4618.66 * neighbourhood_Barracas)\n",
      "+ (-32439.87 * neighbourhood_Parque Chas)\n",
      "+ (38436.33 * neighbourhood_Colegiales)\n",
      "+ (7714.62 * neighbourhood_Villa General Mitre)\n",
      "+ (-11208.9 * neighbourhood_Villa Ortuzar)\n",
      "+ (3860.58 * neighbourhood_Villa Devoto)\n",
      "+ (-14088.02 * neighbourhood_Floresta)\n",
      "+ (27042.61 * neighbourhood_Retiro)\n",
      "+ (-4937.21 * neighbourhood_Versalles)\n",
      "+ (-28353.36 * neighbourhood_Boca)\n",
      "+ (128100.05 * neighbourhood_Puerto Madero)\n",
      "+ (-772.7 * neighbourhood_Agronomía)\n",
      "+ (-3427.44 * neighbourhood_Monte Castro)\n",
      "+ (-7818.09 * neighbourhood_Tribunales)\n",
      "+ (-19843.92 * neighbourhood_Villa Santa Rita)\n",
      "+ (-27219.72 * neighbourhood_Velez Sarsfield)\n",
      "+ (-59248.81 * neighbourhood_Villa Soldati)\n",
      "+ (-7393.49 * neighbourhood_Villa Real)\n",
      "+ (-43909.59 * neighbourhood_Pompeya)\n",
      "+ (-22012.32 * neighbourhood_Catalinas)\n"
     ]
    }
   ],
   "source": [
    "# Printing the linear equation for model\n",
    "print(f'price = {intercept2.round(2)}')\n",
    "for f, c in feat_imp2.items():\n",
    "    print(f'+ ({round(c, 2)} * {f})')"
   ]
  },
  {
   "cell_type": "markdown",
   "id": "c810c537",
   "metadata": {},
   "source": [
    "**The model makes more sense now that being in a certain neighbourhood increases or decreases the apartment price by a few thousand dollars**"
   ]
  },
  {
   "cell_type": "markdown",
   "id": "16291eac",
   "metadata": {},
   "source": [
    "### Visualising using a BarChart"
   ]
  },
  {
   "cell_type": "code",
   "execution_count": 38,
   "id": "10578092",
   "metadata": {},
   "outputs": [
    {
     "data": {
      "image/png": "[encoded data removed]",
      "text/plain": [
       "<Figure size 432x288 with 1 Axes>"
      ]
     },
     "metadata": {
      "needs_background": "light"
     },
     "output_type": "display_data"
    }
   ],
   "source": [
    "# Sorting absolute values from smallest to largest. taking last 15 values (the most influential ones)\n",
    "feat_imp2.sort_values(key = abs).tail(15).plot(kind = 'barh') # This chart is being built on  pandas\n",
    "plt.xlabel('Importance [USD]')# Using matplotlib for axis labels\n",
    "plt.ylabel('Feature')\n",
    "plt.title('Feature Importance for Apartment Price');"
   ]
  },
  {
   "cell_type": "markdown",
   "id": "4524a6dd",
   "metadata": {},
   "source": [
    "**It makes sense that Puerto Madero is one of the poshest neighbourhood in Buenos Aires which is reflected in the increased price by almost 125_000 USD. Villa Soldati is one of the more deprived neighbourhoods and it is reflected in the penalty of over 50_000 USD**"
   ]
  },
  {
   "cell_type": "code",
   "execution_count": null,
   "id": "feeedc78",
   "metadata": {},
   "outputs": [],
   "source": []
  }
 ],
 "metadata": {
  "kernelspec": {
   "display_name": "Python 3 (ipykernel)",
   "language": "python",
   "name": "python3"
  },
  "language_info": {
   "codemirror_mode": {
    "name": "ipython",
    "version": 3
   },
   "file_extension": ".py",
   "mimetype": "text/x-python",
   "name": "python",
   "nbconvert_exporter": "python",
   "pygments_lexer": "ipython3",
   "version": "3.8.11"
  }
 },
 "nbformat": 4,
 "nbformat_minor": 5
}
