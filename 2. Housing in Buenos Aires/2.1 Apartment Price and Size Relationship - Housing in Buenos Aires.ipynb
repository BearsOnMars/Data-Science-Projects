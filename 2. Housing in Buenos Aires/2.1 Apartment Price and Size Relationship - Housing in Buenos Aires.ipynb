{
 "cells": [
  {
   "cell_type": "markdown",
   "id": "4c63a20b",
   "metadata": {},
   "source": [
    "### This project involves creating a Machine Learning Linear Regression model that predicts apartment prices in Buenos Aires, Argentina -- with a focus on apartments that cost less than $400,000\n",
    "\n",
    "Key objectives of this project are:\n",
    "\n",
    "* Creating a linear regression model using the scikit-learn library.\n",
    "* Building a data pipeline for imputing missing values and encoding categorical features.\n",
    "* Improving model performance by reducing overfitting.\n",
    "* Creating a dynamic dashboard for interacting with completed model."
   ]
  },
  {
   "cell_type": "markdown",
   "id": "33b0745d",
   "metadata": {},
   "source": [
    "### In the first part our goal is to establish a model based on relationship between the apartment size and its price"
   ]
  },
  {
   "cell_type": "code",
   "execution_count": 1,
   "id": "714e6473",
   "metadata": {},
   "outputs": [],
   "source": [
    "# Importing required libraries\n",
    "import matplotlib.pyplot as plt\n",
    "import pandas as pd\n",
    "\n",
    "from sklearn.linear_model import LinearRegression # For building the model\n",
    "from sklearn.metrics import mean_absolute_error # For evaluating the model"
   ]
  },
  {
   "cell_type": "markdown",
   "id": "028176bb",
   "metadata": {},
   "source": [
    "#### Creating a function to wrangle data"
   ]
  },
  {
   "cell_type": "code",
   "execution_count": 2,
   "id": "d5e3d182",
   "metadata": {},
   "outputs": [],
   "source": [
    "# Creating a function called wrangle to clean the csv files\n",
    "# sometimes nothing is included inside parentheses(). If something is included it is called an argument (here a filepath)\n",
    "# the `filepath` is generic here\n",
    "\n",
    "def wrangle (filepath):\n",
    "    # Read csv file into DataFrame\n",
    "    df = pd.read_csv(filepath)\n",
    "    return df    "
   ]
  },
  {
   "cell_type": "code",
   "execution_count": 3,
   "id": "a440e491",
   "metadata": {},
   "outputs": [
    {
     "name": "stdout",
     "output_type": "stream",
     "text": [
      "df shape: (8606, 16)\n"
     ]
    },
    {
     "data": {
      "text/html": [
       "<div>\n",
       "<style scoped>\n",
       "    .dataframe tbody tr th:only-of-type {\n",
       "        vertical-align: middle;\n",
       "    }\n",
       "\n",
       "    .dataframe tbody tr th {\n",
       "        vertical-align: top;\n",
       "    }\n",
       "\n",
       "    .dataframe thead th {\n",
       "        text-align: right;\n",
       "    }\n",
       "</style>\n",
       "<table border=\"1\" class=\"dataframe\">\n",
       "  <thead>\n",
       "    <tr style=\"text-align: right;\">\n",
       "      <th></th>\n",
       "      <th>operation</th>\n",
       "      <th>property_type</th>\n",
       "      <th>place_with_parent_names</th>\n",
       "      <th>lat-lon</th>\n",
       "      <th>price</th>\n",
       "      <th>currency</th>\n",
       "      <th>price_aprox_local_currency</th>\n",
       "      <th>price_aprox_usd</th>\n",
       "      <th>surface_total_in_m2</th>\n",
       "      <th>surface_covered_in_m2</th>\n",
       "      <th>price_usd_per_m2</th>\n",
       "      <th>price_per_m2</th>\n",
       "      <th>floor</th>\n",
       "      <th>rooms</th>\n",
       "      <th>expenses</th>\n",
       "      <th>properati_url</th>\n",
       "    </tr>\n",
       "  </thead>\n",
       "  <tbody>\n",
       "    <tr>\n",
       "      <th>0</th>\n",
       "      <td>sell</td>\n",
       "      <td>apartment</td>\n",
       "      <td>|Argentina|Capital Federal|Villa Crespo|</td>\n",
       "      <td>-34.6047834183,-58.4586812499</td>\n",
       "      <td>180000.0</td>\n",
       "      <td>USD</td>\n",
       "      <td>2729232.0</td>\n",
       "      <td>180000.0</td>\n",
       "      <td>120.0</td>\n",
       "      <td>110.0</td>\n",
       "      <td>1500.000000</td>\n",
       "      <td>1636.363636</td>\n",
       "      <td>NaN</td>\n",
       "      <td>4.0</td>\n",
       "      <td>NaN</td>\n",
       "      <td>http://villa-crespo.properati.com.ar/12egq_ven...</td>\n",
       "    </tr>\n",
       "    <tr>\n",
       "      <th>1</th>\n",
       "      <td>sell</td>\n",
       "      <td>house</td>\n",
       "      <td>|Argentina|Bs.As. G.B.A. Zona Oeste|La Matanza...</td>\n",
       "      <td>NaN</td>\n",
       "      <td>250000.0</td>\n",
       "      <td>USD</td>\n",
       "      <td>3790600.0</td>\n",
       "      <td>250000.0</td>\n",
       "      <td>117.0</td>\n",
       "      <td>120.0</td>\n",
       "      <td>2136.752137</td>\n",
       "      <td>2083.333333</td>\n",
       "      <td>NaN</td>\n",
       "      <td>4.0</td>\n",
       "      <td>NaN</td>\n",
       "      <td>http://ramos-mejia.properati.com.ar/s7pd_venta...</td>\n",
       "    </tr>\n",
       "    <tr>\n",
       "      <th>2</th>\n",
       "      <td>sell</td>\n",
       "      <td>house</td>\n",
       "      <td>|Argentina|Bs.As. G.B.A. Zona Oeste|Morón|Cast...</td>\n",
       "      <td>-34.6497002,-58.658073</td>\n",
       "      <td>410000.0</td>\n",
       "      <td>USD</td>\n",
       "      <td>6216584.0</td>\n",
       "      <td>410000.0</td>\n",
       "      <td>410.0</td>\n",
       "      <td>220.0</td>\n",
       "      <td>1000.000000</td>\n",
       "      <td>1863.636364</td>\n",
       "      <td>NaN</td>\n",
       "      <td>NaN</td>\n",
       "      <td>NaN</td>\n",
       "      <td>http://castelar-moron.properati.com.ar/11vgn_v...</td>\n",
       "    </tr>\n",
       "    <tr>\n",
       "      <th>3</th>\n",
       "      <td>sell</td>\n",
       "      <td>house</td>\n",
       "      <td>|Argentina|Bs.As. G.B.A. Zona Oeste|Tres de Fe...</td>\n",
       "      <td>-34.5957086,-58.5669503</td>\n",
       "      <td>180000.0</td>\n",
       "      <td>USD</td>\n",
       "      <td>2729232.0</td>\n",
       "      <td>180000.0</td>\n",
       "      <td>200.0</td>\n",
       "      <td>135.0</td>\n",
       "      <td>900.000000</td>\n",
       "      <td>1333.333333</td>\n",
       "      <td>NaN</td>\n",
       "      <td>5.0</td>\n",
       "      <td>NaN</td>\n",
       "      <td>http://tres-de-febrero.properati.com.ar/7f7u_v...</td>\n",
       "    </tr>\n",
       "    <tr>\n",
       "      <th>4</th>\n",
       "      <td>sell</td>\n",
       "      <td>apartment</td>\n",
       "      <td>|Argentina|Capital Federal|Chacarita|</td>\n",
       "      <td>-34.5846508988,-58.4546932614</td>\n",
       "      <td>129000.0</td>\n",
       "      <td>USD</td>\n",
       "      <td>1955949.6</td>\n",
       "      <td>129000.0</td>\n",
       "      <td>76.0</td>\n",
       "      <td>70.0</td>\n",
       "      <td>1697.368421</td>\n",
       "      <td>1842.857143</td>\n",
       "      <td>NaN</td>\n",
       "      <td>NaN</td>\n",
       "      <td>NaN</td>\n",
       "      <td>http://chacarita.properati.com.ar/10qlv_venta_...</td>\n",
       "    </tr>\n",
       "  </tbody>\n",
       "</table>\n",
       "</div>"
      ],
      "text/plain": [
       "  operation property_type                            place_with_parent_names  \\\n",
       "0      sell     apartment           |Argentina|Capital Federal|Villa Crespo|   \n",
       "1      sell         house  |Argentina|Bs.As. G.B.A. Zona Oeste|La Matanza...   \n",
       "2      sell         house  |Argentina|Bs.As. G.B.A. Zona Oeste|Morón|Cast...   \n",
       "3      sell         house  |Argentina|Bs.As. G.B.A. Zona Oeste|Tres de Fe...   \n",
       "4      sell     apartment              |Argentina|Capital Federal|Chacarita|   \n",
       "\n",
       "                         lat-lon     price currency  \\\n",
       "0  -34.6047834183,-58.4586812499  180000.0      USD   \n",
       "1                            NaN  250000.0      USD   \n",
       "2         -34.6497002,-58.658073  410000.0      USD   \n",
       "3        -34.5957086,-58.5669503  180000.0      USD   \n",
       "4  -34.5846508988,-58.4546932614  129000.0      USD   \n",
       "\n",
       "   price_aprox_local_currency  price_aprox_usd  surface_total_in_m2  \\\n",
       "0                   2729232.0         180000.0                120.0   \n",
       "1                   3790600.0         250000.0                117.0   \n",
       "2                   6216584.0         410000.0                410.0   \n",
       "3                   2729232.0         180000.0                200.0   \n",
       "4                   1955949.6         129000.0                 76.0   \n",
       "\n",
       "   surface_covered_in_m2  price_usd_per_m2  price_per_m2  floor  rooms  \\\n",
       "0                  110.0       1500.000000   1636.363636    NaN    4.0   \n",
       "1                  120.0       2136.752137   2083.333333    NaN    4.0   \n",
       "2                  220.0       1000.000000   1863.636364    NaN    NaN   \n",
       "3                  135.0        900.000000   1333.333333    NaN    5.0   \n",
       "4                   70.0       1697.368421   1842.857143    NaN    NaN   \n",
       "\n",
       "  expenses                                      properati_url  \n",
       "0      NaN  http://villa-crespo.properati.com.ar/12egq_ven...  \n",
       "1      NaN  http://ramos-mejia.properati.com.ar/s7pd_venta...  \n",
       "2      NaN  http://castelar-moron.properati.com.ar/11vgn_v...  \n",
       "3      NaN  http://tres-de-febrero.properati.com.ar/7f7u_v...  \n",
       "4      NaN  http://chacarita.properati.com.ar/10qlv_venta_...  "
      ]
     },
     "execution_count": 3,
     "metadata": {},
     "output_type": "execute_result"
    }
   ],
   "source": [
    "# Assigning files to a global dataframe df and importing files using wrangle function.\n",
    "# printing the shape of dataframe and observing first 5 rows\n",
    "df = wrangle('buenos-aires-real-estate-1.csv')\n",
    "print('df shape:', df.shape)\n",
    "df.head()"
   ]
  },
  {
   "cell_type": "markdown",
   "id": "27343e4e",
   "metadata": {},
   "source": [
    "* It is important to note the distinction between the df in input 5, and the df used inside the wrangle function\n",
    "* The scope of df inside the wrangle function is limited to that function, whereas the df just above is global"
   ]
  },
  {
   "cell_type": "markdown",
   "id": "90e06ae2",
   "metadata": {},
   "source": [
    "### We only want apartment properties in Buenos Aires ('Capital Federal'), which cost less than $400,000"
   ]
  },
  {
   "cell_type": "code",
   "execution_count": 4,
   "id": "4572ae89",
   "metadata": {},
   "outputs": [
    {
     "data": {
      "text/plain": [
       "0     True\n",
       "1    False\n",
       "2    False\n",
       "3    False\n",
       "4     True\n",
       "Name: place_with_parent_names, dtype: bool"
      ]
     },
     "execution_count": 4,
     "metadata": {},
     "output_type": "execute_result"
    }
   ],
   "source": [
    "# Creating a mask for subsetting properties with required parameters\n",
    "mask_ba = df['place_with_parent_names'].str.contains('Capital Federal')\n",
    "mask_ba.head()"
   ]
  },
  {
   "cell_type": "markdown",
   "id": "7f0fe863",
   "metadata": {},
   "source": [
    "The rows we are interested in are marked as True"
   ]
  },
  {
   "cell_type": "code",
   "execution_count": 5,
   "id": "50f845bb",
   "metadata": {},
   "outputs": [
    {
     "data": {
      "text/html": [
       "<div>\n",
       "<style scoped>\n",
       "    .dataframe tbody tr th:only-of-type {\n",
       "        vertical-align: middle;\n",
       "    }\n",
       "\n",
       "    .dataframe tbody tr th {\n",
       "        vertical-align: top;\n",
       "    }\n",
       "\n",
       "    .dataframe thead th {\n",
       "        text-align: right;\n",
       "    }\n",
       "</style>\n",
       "<table border=\"1\" class=\"dataframe\">\n",
       "  <thead>\n",
       "    <tr style=\"text-align: right;\">\n",
       "      <th></th>\n",
       "      <th>operation</th>\n",
       "      <th>property_type</th>\n",
       "      <th>place_with_parent_names</th>\n",
       "      <th>lat-lon</th>\n",
       "      <th>price</th>\n",
       "      <th>currency</th>\n",
       "      <th>price_aprox_local_currency</th>\n",
       "      <th>price_aprox_usd</th>\n",
       "      <th>surface_total_in_m2</th>\n",
       "      <th>surface_covered_in_m2</th>\n",
       "      <th>price_usd_per_m2</th>\n",
       "      <th>price_per_m2</th>\n",
       "      <th>floor</th>\n",
       "      <th>rooms</th>\n",
       "      <th>expenses</th>\n",
       "      <th>properati_url</th>\n",
       "    </tr>\n",
       "  </thead>\n",
       "  <tbody>\n",
       "    <tr>\n",
       "      <th>0</th>\n",
       "      <td>sell</td>\n",
       "      <td>apartment</td>\n",
       "      <td>|Argentina|Capital Federal|Villa Crespo|</td>\n",
       "      <td>-34.6047834183,-58.4586812499</td>\n",
       "      <td>180000.0</td>\n",
       "      <td>USD</td>\n",
       "      <td>2729232.0</td>\n",
       "      <td>180000.0</td>\n",
       "      <td>120.0</td>\n",
       "      <td>110.0</td>\n",
       "      <td>1500.000000</td>\n",
       "      <td>1636.363636</td>\n",
       "      <td>NaN</td>\n",
       "      <td>4.0</td>\n",
       "      <td>NaN</td>\n",
       "      <td>http://villa-crespo.properati.com.ar/12egq_ven...</td>\n",
       "    </tr>\n",
       "    <tr>\n",
       "      <th>4</th>\n",
       "      <td>sell</td>\n",
       "      <td>apartment</td>\n",
       "      <td>|Argentina|Capital Federal|Chacarita|</td>\n",
       "      <td>-34.5846508988,-58.4546932614</td>\n",
       "      <td>129000.0</td>\n",
       "      <td>USD</td>\n",
       "      <td>1955949.6</td>\n",
       "      <td>129000.0</td>\n",
       "      <td>76.0</td>\n",
       "      <td>70.0</td>\n",
       "      <td>1697.368421</td>\n",
       "      <td>1842.857143</td>\n",
       "      <td>NaN</td>\n",
       "      <td>NaN</td>\n",
       "      <td>NaN</td>\n",
       "      <td>http://chacarita.properati.com.ar/10qlv_venta_...</td>\n",
       "    </tr>\n",
       "    <tr>\n",
       "      <th>9</th>\n",
       "      <td>sell</td>\n",
       "      <td>apartment</td>\n",
       "      <td>|Argentina|Capital Federal|Villa Luro|</td>\n",
       "      <td>-34.6389789,-58.500115</td>\n",
       "      <td>87000.0</td>\n",
       "      <td>USD</td>\n",
       "      <td>1319128.8</td>\n",
       "      <td>87000.0</td>\n",
       "      <td>48.0</td>\n",
       "      <td>42.0</td>\n",
       "      <td>1812.500000</td>\n",
       "      <td>2071.428571</td>\n",
       "      <td>NaN</td>\n",
       "      <td>NaN</td>\n",
       "      <td>NaN</td>\n",
       "      <td>http://villa-luro.properati.com.ar/12m82_venta...</td>\n",
       "    </tr>\n",
       "    <tr>\n",
       "      <th>11</th>\n",
       "      <td>sell</td>\n",
       "      <td>apartment</td>\n",
       "      <td>|Argentina|Capital Federal|Once|</td>\n",
       "      <td>-34.6050060697,-58.4001162302</td>\n",
       "      <td>60000.0</td>\n",
       "      <td>USD</td>\n",
       "      <td>909744.0</td>\n",
       "      <td>60000.0</td>\n",
       "      <td>28.0</td>\n",
       "      <td>28.0</td>\n",
       "      <td>2142.857143</td>\n",
       "      <td>2142.857143</td>\n",
       "      <td>NaN</td>\n",
       "      <td>1.0</td>\n",
       "      <td>NaN</td>\n",
       "      <td>http://once.properati.com.ar/zz0q_venta_depart...</td>\n",
       "    </tr>\n",
       "    <tr>\n",
       "      <th>18</th>\n",
       "      <td>sell</td>\n",
       "      <td>apartment</td>\n",
       "      <td>|Argentina|Capital Federal|Belgrano|</td>\n",
       "      <td>-34.5646269,-58.4412741</td>\n",
       "      <td>600000.0</td>\n",
       "      <td>USD</td>\n",
       "      <td>9097440.0</td>\n",
       "      <td>600000.0</td>\n",
       "      <td>220.0</td>\n",
       "      <td>NaN</td>\n",
       "      <td>2727.272727</td>\n",
       "      <td>NaN</td>\n",
       "      <td>NaN</td>\n",
       "      <td>5.0</td>\n",
       "      <td>NaN</td>\n",
       "      <td>http://belgrano.properati.com.ar/jvge_venta_de...</td>\n",
       "    </tr>\n",
       "  </tbody>\n",
       "</table>\n",
       "</div>"
      ],
      "text/plain": [
       "   operation property_type                   place_with_parent_names  \\\n",
       "0       sell     apartment  |Argentina|Capital Federal|Villa Crespo|   \n",
       "4       sell     apartment     |Argentina|Capital Federal|Chacarita|   \n",
       "9       sell     apartment    |Argentina|Capital Federal|Villa Luro|   \n",
       "11      sell     apartment          |Argentina|Capital Federal|Once|   \n",
       "18      sell     apartment      |Argentina|Capital Federal|Belgrano|   \n",
       "\n",
       "                          lat-lon     price currency  \\\n",
       "0   -34.6047834183,-58.4586812499  180000.0      USD   \n",
       "4   -34.5846508988,-58.4546932614  129000.0      USD   \n",
       "9          -34.6389789,-58.500115   87000.0      USD   \n",
       "11  -34.6050060697,-58.4001162302   60000.0      USD   \n",
       "18        -34.5646269,-58.4412741  600000.0      USD   \n",
       "\n",
       "    price_aprox_local_currency  price_aprox_usd  surface_total_in_m2  \\\n",
       "0                    2729232.0         180000.0                120.0   \n",
       "4                    1955949.6         129000.0                 76.0   \n",
       "9                    1319128.8          87000.0                 48.0   \n",
       "11                    909744.0          60000.0                 28.0   \n",
       "18                   9097440.0         600000.0                220.0   \n",
       "\n",
       "    surface_covered_in_m2  price_usd_per_m2  price_per_m2  floor  rooms  \\\n",
       "0                   110.0       1500.000000   1636.363636    NaN    4.0   \n",
       "4                    70.0       1697.368421   1842.857143    NaN    NaN   \n",
       "9                    42.0       1812.500000   2071.428571    NaN    NaN   \n",
       "11                   28.0       2142.857143   2142.857143    NaN    1.0   \n",
       "18                    NaN       2727.272727           NaN    NaN    5.0   \n",
       "\n",
       "   expenses                                      properati_url  \n",
       "0       NaN  http://villa-crespo.properati.com.ar/12egq_ven...  \n",
       "4       NaN  http://chacarita.properati.com.ar/10qlv_venta_...  \n",
       "9       NaN  http://villa-luro.properati.com.ar/12m82_venta...  \n",
       "11      NaN  http://once.properati.com.ar/zz0q_venta_depart...  \n",
       "18      NaN  http://belgrano.properati.com.ar/jvge_venta_de...  "
      ]
     },
     "execution_count": 5,
     "metadata": {},
     "output_type": "execute_result"
    }
   ],
   "source": [
    "# Checking the new dataframe which only contains buenos aires ('Capital Federal')\n",
    "df[mask_ba].head()"
   ]
  },
  {
   "cell_type": "code",
   "execution_count": 6,
   "id": "15053efc",
   "metadata": {},
   "outputs": [],
   "source": [
    "# Overwriting the wrangle function to obtain properties in Buenos Aires\n",
    "# This is being done again just to show the process. Changes can be made in the original function itself in input 3\n",
    "def wrangle(filepath):\n",
    "    df = pd.read_csv(filepath)\n",
    "    \n",
    "    # Subset to select only properties in 'Capital Federal'\n",
    "    mask_ba = df['place_with_parent_names'].str.contains('Capital Federal')\n",
    "    df = df[mask_ba]\n",
    "    \n",
    "    return df"
   ]
  },
  {
   "cell_type": "code",
   "execution_count": 7,
   "id": "e6270165",
   "metadata": {},
   "outputs": [
    {
     "name": "stdout",
     "output_type": "stream",
     "text": [
      "df shape: (2524, 16)\n"
     ]
    },
    {
     "data": {
      "text/html": [
       "<div>\n",
       "<style scoped>\n",
       "    .dataframe tbody tr th:only-of-type {\n",
       "        vertical-align: middle;\n",
       "    }\n",
       "\n",
       "    .dataframe tbody tr th {\n",
       "        vertical-align: top;\n",
       "    }\n",
       "\n",
       "    .dataframe thead th {\n",
       "        text-align: right;\n",
       "    }\n",
       "</style>\n",
       "<table border=\"1\" class=\"dataframe\">\n",
       "  <thead>\n",
       "    <tr style=\"text-align: right;\">\n",
       "      <th></th>\n",
       "      <th>operation</th>\n",
       "      <th>property_type</th>\n",
       "      <th>place_with_parent_names</th>\n",
       "      <th>lat-lon</th>\n",
       "      <th>price</th>\n",
       "      <th>currency</th>\n",
       "      <th>price_aprox_local_currency</th>\n",
       "      <th>price_aprox_usd</th>\n",
       "      <th>surface_total_in_m2</th>\n",
       "      <th>surface_covered_in_m2</th>\n",
       "      <th>price_usd_per_m2</th>\n",
       "      <th>price_per_m2</th>\n",
       "      <th>floor</th>\n",
       "      <th>rooms</th>\n",
       "      <th>expenses</th>\n",
       "      <th>properati_url</th>\n",
       "    </tr>\n",
       "  </thead>\n",
       "  <tbody>\n",
       "    <tr>\n",
       "      <th>0</th>\n",
       "      <td>sell</td>\n",
       "      <td>apartment</td>\n",
       "      <td>|Argentina|Capital Federal|Villa Crespo|</td>\n",
       "      <td>-34.6047834183,-58.4586812499</td>\n",
       "      <td>180000.0</td>\n",
       "      <td>USD</td>\n",
       "      <td>2729232.0</td>\n",
       "      <td>180000.0</td>\n",
       "      <td>120.0</td>\n",
       "      <td>110.0</td>\n",
       "      <td>1500.000000</td>\n",
       "      <td>1636.363636</td>\n",
       "      <td>NaN</td>\n",
       "      <td>4.0</td>\n",
       "      <td>NaN</td>\n",
       "      <td>http://villa-crespo.properati.com.ar/12egq_ven...</td>\n",
       "    </tr>\n",
       "    <tr>\n",
       "      <th>4</th>\n",
       "      <td>sell</td>\n",
       "      <td>apartment</td>\n",
       "      <td>|Argentina|Capital Federal|Chacarita|</td>\n",
       "      <td>-34.5846508988,-58.4546932614</td>\n",
       "      <td>129000.0</td>\n",
       "      <td>USD</td>\n",
       "      <td>1955949.6</td>\n",
       "      <td>129000.0</td>\n",
       "      <td>76.0</td>\n",
       "      <td>70.0</td>\n",
       "      <td>1697.368421</td>\n",
       "      <td>1842.857143</td>\n",
       "      <td>NaN</td>\n",
       "      <td>NaN</td>\n",
       "      <td>NaN</td>\n",
       "      <td>http://chacarita.properati.com.ar/10qlv_venta_...</td>\n",
       "    </tr>\n",
       "    <tr>\n",
       "      <th>9</th>\n",
       "      <td>sell</td>\n",
       "      <td>apartment</td>\n",
       "      <td>|Argentina|Capital Federal|Villa Luro|</td>\n",
       "      <td>-34.6389789,-58.500115</td>\n",
       "      <td>87000.0</td>\n",
       "      <td>USD</td>\n",
       "      <td>1319128.8</td>\n",
       "      <td>87000.0</td>\n",
       "      <td>48.0</td>\n",
       "      <td>42.0</td>\n",
       "      <td>1812.500000</td>\n",
       "      <td>2071.428571</td>\n",
       "      <td>NaN</td>\n",
       "      <td>NaN</td>\n",
       "      <td>NaN</td>\n",
       "      <td>http://villa-luro.properati.com.ar/12m82_venta...</td>\n",
       "    </tr>\n",
       "    <tr>\n",
       "      <th>11</th>\n",
       "      <td>sell</td>\n",
       "      <td>apartment</td>\n",
       "      <td>|Argentina|Capital Federal|Once|</td>\n",
       "      <td>-34.6050060697,-58.4001162302</td>\n",
       "      <td>60000.0</td>\n",
       "      <td>USD</td>\n",
       "      <td>909744.0</td>\n",
       "      <td>60000.0</td>\n",
       "      <td>28.0</td>\n",
       "      <td>28.0</td>\n",
       "      <td>2142.857143</td>\n",
       "      <td>2142.857143</td>\n",
       "      <td>NaN</td>\n",
       "      <td>1.0</td>\n",
       "      <td>NaN</td>\n",
       "      <td>http://once.properati.com.ar/zz0q_venta_depart...</td>\n",
       "    </tr>\n",
       "    <tr>\n",
       "      <th>18</th>\n",
       "      <td>sell</td>\n",
       "      <td>apartment</td>\n",
       "      <td>|Argentina|Capital Federal|Belgrano|</td>\n",
       "      <td>-34.5646269,-58.4412741</td>\n",
       "      <td>600000.0</td>\n",
       "      <td>USD</td>\n",
       "      <td>9097440.0</td>\n",
       "      <td>600000.0</td>\n",
       "      <td>220.0</td>\n",
       "      <td>NaN</td>\n",
       "      <td>2727.272727</td>\n",
       "      <td>NaN</td>\n",
       "      <td>NaN</td>\n",
       "      <td>5.0</td>\n",
       "      <td>NaN</td>\n",
       "      <td>http://belgrano.properati.com.ar/jvge_venta_de...</td>\n",
       "    </tr>\n",
       "  </tbody>\n",
       "</table>\n",
       "</div>"
      ],
      "text/plain": [
       "   operation property_type                   place_with_parent_names  \\\n",
       "0       sell     apartment  |Argentina|Capital Federal|Villa Crespo|   \n",
       "4       sell     apartment     |Argentina|Capital Federal|Chacarita|   \n",
       "9       sell     apartment    |Argentina|Capital Federal|Villa Luro|   \n",
       "11      sell     apartment          |Argentina|Capital Federal|Once|   \n",
       "18      sell     apartment      |Argentina|Capital Federal|Belgrano|   \n",
       "\n",
       "                          lat-lon     price currency  \\\n",
       "0   -34.6047834183,-58.4586812499  180000.0      USD   \n",
       "4   -34.5846508988,-58.4546932614  129000.0      USD   \n",
       "9          -34.6389789,-58.500115   87000.0      USD   \n",
       "11  -34.6050060697,-58.4001162302   60000.0      USD   \n",
       "18        -34.5646269,-58.4412741  600000.0      USD   \n",
       "\n",
       "    price_aprox_local_currency  price_aprox_usd  surface_total_in_m2  \\\n",
       "0                    2729232.0         180000.0                120.0   \n",
       "4                    1955949.6         129000.0                 76.0   \n",
       "9                    1319128.8          87000.0                 48.0   \n",
       "11                    909744.0          60000.0                 28.0   \n",
       "18                   9097440.0         600000.0                220.0   \n",
       "\n",
       "    surface_covered_in_m2  price_usd_per_m2  price_per_m2  floor  rooms  \\\n",
       "0                   110.0       1500.000000   1636.363636    NaN    4.0   \n",
       "4                    70.0       1697.368421   1842.857143    NaN    NaN   \n",
       "9                    42.0       1812.500000   2071.428571    NaN    NaN   \n",
       "11                   28.0       2142.857143   2142.857143    NaN    1.0   \n",
       "18                    NaN       2727.272727           NaN    NaN    5.0   \n",
       "\n",
       "   expenses                                      properati_url  \n",
       "0       NaN  http://villa-crespo.properati.com.ar/12egq_ven...  \n",
       "4       NaN  http://chacarita.properati.com.ar/10qlv_venta_...  \n",
       "9       NaN  http://villa-luro.properati.com.ar/12m82_venta...  \n",
       "11      NaN  http://once.properati.com.ar/zz0q_venta_depart...  \n",
       "18      NaN  http://belgrano.properati.com.ar/jvge_venta_de...  "
      ]
     },
     "execution_count": 7,
     "metadata": {},
     "output_type": "execute_result"
    }
   ],
   "source": [
    "# Checking the new dataframe which gets imported by modified wrangle function\n",
    "df = wrangle('buenos-aires-real-estate-1.csv')\n",
    "print('df shape:', df.shape)\n",
    "df.head()"
   ]
  },
  {
   "cell_type": "markdown",
   "id": "c2e5c881",
   "metadata": {},
   "source": [
    "It can be seen that now the `wrangle` function only imports rows which have properties based in Capital Federal"
   ]
  },
  {
   "cell_type": "markdown",
   "id": "a8bca205",
   "metadata": {},
   "source": [
    "#### Now we only want apartments as property type and nothing else"
   ]
  },
  {
   "cell_type": "code",
   "execution_count": 8,
   "id": "0c38d9e2",
   "metadata": {},
   "outputs": [
    {
     "data": {
      "text/plain": [
       "array(['apartment', 'house', 'PH', 'store'], dtype=object)"
      ]
     },
     "execution_count": 8,
     "metadata": {},
     "output_type": "execute_result"
    }
   ],
   "source": [
    "# Checking the unique types of properties\n",
    "df['property_type'].unique()"
   ]
  },
  {
   "cell_type": "code",
   "execution_count": 9,
   "id": "3a430259",
   "metadata": {},
   "outputs": [
    {
     "data": {
      "text/plain": [
       "0     True\n",
       "4     True\n",
       "9     True\n",
       "11    True\n",
       "18    True\n",
       "Name: property_type, dtype: bool"
      ]
     },
     "execution_count": 9,
     "metadata": {},
     "output_type": "execute_result"
    }
   ],
   "source": [
    "# Creating a mask for only apartment properties\n",
    "mask_apt = df['property_type'] == 'apartment'\n",
    "mask_apt.head()"
   ]
  },
  {
   "cell_type": "code",
   "execution_count": 10,
   "id": "417ddb60",
   "metadata": {},
   "outputs": [],
   "source": [
    "# Now modifying the wrangle function again to insert this mask for only apartment properties\n",
    "def wrangle(filepath):\n",
    "    df = pd.read_csv(filepath)\n",
    "    \n",
    "    # Subset to select only properties in `\"Capital Federal\"`\n",
    "    mask_ba = df['place_with_parent_names'].str.contains('Capital Federal')\n",
    "    \n",
    "    # Subset to only select `\"apartment\"` properties\n",
    "    mask_apt = df['property_type'] == 'apartment'\n",
    "    \n",
    "    # Selecting properties included in both mask_ba and mask_apt dataframes\n",
    "    df = df[mask_ba & mask_apt] \n",
    "    \n",
    "    return df"
   ]
  },
  {
   "cell_type": "code",
   "execution_count": 11,
   "id": "68089d2a",
   "metadata": {},
   "outputs": [
    {
     "name": "stdout",
     "output_type": "stream",
     "text": [
      "df shape: (2068, 16)\n"
     ]
    },
    {
     "data": {
      "text/html": [
       "<div>\n",
       "<style scoped>\n",
       "    .dataframe tbody tr th:only-of-type {\n",
       "        vertical-align: middle;\n",
       "    }\n",
       "\n",
       "    .dataframe tbody tr th {\n",
       "        vertical-align: top;\n",
       "    }\n",
       "\n",
       "    .dataframe thead th {\n",
       "        text-align: right;\n",
       "    }\n",
       "</style>\n",
       "<table border=\"1\" class=\"dataframe\">\n",
       "  <thead>\n",
       "    <tr style=\"text-align: right;\">\n",
       "      <th></th>\n",
       "      <th>operation</th>\n",
       "      <th>property_type</th>\n",
       "      <th>place_with_parent_names</th>\n",
       "      <th>lat-lon</th>\n",
       "      <th>price</th>\n",
       "      <th>currency</th>\n",
       "      <th>price_aprox_local_currency</th>\n",
       "      <th>price_aprox_usd</th>\n",
       "      <th>surface_total_in_m2</th>\n",
       "      <th>surface_covered_in_m2</th>\n",
       "      <th>price_usd_per_m2</th>\n",
       "      <th>price_per_m2</th>\n",
       "      <th>floor</th>\n",
       "      <th>rooms</th>\n",
       "      <th>expenses</th>\n",
       "      <th>properati_url</th>\n",
       "    </tr>\n",
       "  </thead>\n",
       "  <tbody>\n",
       "    <tr>\n",
       "      <th>0</th>\n",
       "      <td>sell</td>\n",
       "      <td>apartment</td>\n",
       "      <td>|Argentina|Capital Federal|Villa Crespo|</td>\n",
       "      <td>-34.6047834183,-58.4586812499</td>\n",
       "      <td>180000.0</td>\n",
       "      <td>USD</td>\n",
       "      <td>2729232.0</td>\n",
       "      <td>180000.0</td>\n",
       "      <td>120.0</td>\n",
       "      <td>110.0</td>\n",
       "      <td>1500.000000</td>\n",
       "      <td>1636.363636</td>\n",
       "      <td>NaN</td>\n",
       "      <td>4.0</td>\n",
       "      <td>NaN</td>\n",
       "      <td>http://villa-crespo.properati.com.ar/12egq_ven...</td>\n",
       "    </tr>\n",
       "    <tr>\n",
       "      <th>4</th>\n",
       "      <td>sell</td>\n",
       "      <td>apartment</td>\n",
       "      <td>|Argentina|Capital Federal|Chacarita|</td>\n",
       "      <td>-34.5846508988,-58.4546932614</td>\n",
       "      <td>129000.0</td>\n",
       "      <td>USD</td>\n",
       "      <td>1955949.6</td>\n",
       "      <td>129000.0</td>\n",
       "      <td>76.0</td>\n",
       "      <td>70.0</td>\n",
       "      <td>1697.368421</td>\n",
       "      <td>1842.857143</td>\n",
       "      <td>NaN</td>\n",
       "      <td>NaN</td>\n",
       "      <td>NaN</td>\n",
       "      <td>http://chacarita.properati.com.ar/10qlv_venta_...</td>\n",
       "    </tr>\n",
       "    <tr>\n",
       "      <th>9</th>\n",
       "      <td>sell</td>\n",
       "      <td>apartment</td>\n",
       "      <td>|Argentina|Capital Federal|Villa Luro|</td>\n",
       "      <td>-34.6389789,-58.500115</td>\n",
       "      <td>87000.0</td>\n",
       "      <td>USD</td>\n",
       "      <td>1319128.8</td>\n",
       "      <td>87000.0</td>\n",
       "      <td>48.0</td>\n",
       "      <td>42.0</td>\n",
       "      <td>1812.500000</td>\n",
       "      <td>2071.428571</td>\n",
       "      <td>NaN</td>\n",
       "      <td>NaN</td>\n",
       "      <td>NaN</td>\n",
       "      <td>http://villa-luro.properati.com.ar/12m82_venta...</td>\n",
       "    </tr>\n",
       "    <tr>\n",
       "      <th>11</th>\n",
       "      <td>sell</td>\n",
       "      <td>apartment</td>\n",
       "      <td>|Argentina|Capital Federal|Once|</td>\n",
       "      <td>-34.6050060697,-58.4001162302</td>\n",
       "      <td>60000.0</td>\n",
       "      <td>USD</td>\n",
       "      <td>909744.0</td>\n",
       "      <td>60000.0</td>\n",
       "      <td>28.0</td>\n",
       "      <td>28.0</td>\n",
       "      <td>2142.857143</td>\n",
       "      <td>2142.857143</td>\n",
       "      <td>NaN</td>\n",
       "      <td>1.0</td>\n",
       "      <td>NaN</td>\n",
       "      <td>http://once.properati.com.ar/zz0q_venta_depart...</td>\n",
       "    </tr>\n",
       "    <tr>\n",
       "      <th>18</th>\n",
       "      <td>sell</td>\n",
       "      <td>apartment</td>\n",
       "      <td>|Argentina|Capital Federal|Belgrano|</td>\n",
       "      <td>-34.5646269,-58.4412741</td>\n",
       "      <td>600000.0</td>\n",
       "      <td>USD</td>\n",
       "      <td>9097440.0</td>\n",
       "      <td>600000.0</td>\n",
       "      <td>220.0</td>\n",
       "      <td>NaN</td>\n",
       "      <td>2727.272727</td>\n",
       "      <td>NaN</td>\n",
       "      <td>NaN</td>\n",
       "      <td>5.0</td>\n",
       "      <td>NaN</td>\n",
       "      <td>http://belgrano.properati.com.ar/jvge_venta_de...</td>\n",
       "    </tr>\n",
       "  </tbody>\n",
       "</table>\n",
       "</div>"
      ],
      "text/plain": [
       "   operation property_type                   place_with_parent_names  \\\n",
       "0       sell     apartment  |Argentina|Capital Federal|Villa Crespo|   \n",
       "4       sell     apartment     |Argentina|Capital Federal|Chacarita|   \n",
       "9       sell     apartment    |Argentina|Capital Federal|Villa Luro|   \n",
       "11      sell     apartment          |Argentina|Capital Federal|Once|   \n",
       "18      sell     apartment      |Argentina|Capital Federal|Belgrano|   \n",
       "\n",
       "                          lat-lon     price currency  \\\n",
       "0   -34.6047834183,-58.4586812499  180000.0      USD   \n",
       "4   -34.5846508988,-58.4546932614  129000.0      USD   \n",
       "9          -34.6389789,-58.500115   87000.0      USD   \n",
       "11  -34.6050060697,-58.4001162302   60000.0      USD   \n",
       "18        -34.5646269,-58.4412741  600000.0      USD   \n",
       "\n",
       "    price_aprox_local_currency  price_aprox_usd  surface_total_in_m2  \\\n",
       "0                    2729232.0         180000.0                120.0   \n",
       "4                    1955949.6         129000.0                 76.0   \n",
       "9                    1319128.8          87000.0                 48.0   \n",
       "11                    909744.0          60000.0                 28.0   \n",
       "18                   9097440.0         600000.0                220.0   \n",
       "\n",
       "    surface_covered_in_m2  price_usd_per_m2  price_per_m2  floor  rooms  \\\n",
       "0                   110.0       1500.000000   1636.363636    NaN    4.0   \n",
       "4                    70.0       1697.368421   1842.857143    NaN    NaN   \n",
       "9                    42.0       1812.500000   2071.428571    NaN    NaN   \n",
       "11                   28.0       2142.857143   2142.857143    NaN    1.0   \n",
       "18                    NaN       2727.272727           NaN    NaN    5.0   \n",
       "\n",
       "   expenses                                      properati_url  \n",
       "0       NaN  http://villa-crespo.properati.com.ar/12egq_ven...  \n",
       "4       NaN  http://chacarita.properati.com.ar/10qlv_venta_...  \n",
       "9       NaN  http://villa-luro.properati.com.ar/12m82_venta...  \n",
       "11      NaN  http://once.properati.com.ar/zz0q_venta_depart...  \n",
       "18      NaN  http://belgrano.properati.com.ar/jvge_venta_de...  "
      ]
     },
     "execution_count": 11,
     "metadata": {},
     "output_type": "execute_result"
    }
   ],
   "source": [
    "# Checking the functionality of wrangle function\n",
    "df = wrangle('buenos-aires-real-estate-1.csv')\n",
    "print('df shape:', df.shape)\n",
    "df.head()"
   ]
  },
  {
   "cell_type": "markdown",
   "id": "6e6100bd",
   "metadata": {},
   "source": [
    "The function works as expected. We only have apartment properties in Capital Federal aka Buenos Aires"
   ]
  },
  {
   "cell_type": "markdown",
   "id": "11ce91a3",
   "metadata": {},
   "source": [
    "#### The last criteria was that we only want properties less than $400,000\n",
    "NOTE: In python code to separate out large numbers such as currency an underscore can be used e.g.400000 can be written as 400_000 to make it clearer"
   ]
  },
  {
   "cell_type": "code",
   "execution_count": 12,
   "id": "609b7cc2",
   "metadata": {},
   "outputs": [
    {
     "data": {
      "text/plain": [
       "array(['USD', nan, 'ARS'], dtype=object)"
      ]
     },
     "execution_count": 12,
     "metadata": {},
     "output_type": "execute_result"
    }
   ],
   "source": [
    "df['currency'].unique()"
   ]
  },
  {
   "cell_type": "markdown",
   "id": "020620fa",
   "metadata": {},
   "source": [
    "This means that we can not select the price column to check values less than 400_000. the `price_approx_usd` column needs to be considered"
   ]
  },
  {
   "cell_type": "code",
   "execution_count": 13,
   "id": "d43a1a72",
   "metadata": {},
   "outputs": [
    {
     "data": {
      "text/plain": [
       "0      True\n",
       "4      True\n",
       "9      True\n",
       "11     True\n",
       "18    False\n",
       "Name: price_aprox_usd, dtype: bool"
      ]
     },
     "execution_count": 13,
     "metadata": {},
     "output_type": "execute_result"
    }
   ],
   "source": [
    "# Creating a mask for price\n",
    "mask_price = df['price_aprox_usd'] < 400_000\n",
    "mask_price.head()"
   ]
  },
  {
   "cell_type": "code",
   "execution_count": 14,
   "id": "44992dce",
   "metadata": {},
   "outputs": [],
   "source": [
    "# Inserting this price mask to modify the wrangle function\n",
    "def wrangle(filepath):\n",
    "    \n",
    "    # importing csv file\n",
    "    df = pd.read_csv(filepath)\n",
    "    \n",
    "    # Subset to select only properties in `\"Capital Federal\"`\n",
    "    mask_ba = df['place_with_parent_names'].str.contains('Capital Federal')\n",
    "    \n",
    "    # Subset to only select `\"apartment\"` properties\n",
    "    mask_apt = df['property_type'] == 'apartment'\n",
    "    \n",
    "    # Subset to only select property values lower than USD 400_000\n",
    "    mask_price = df['price_aprox_usd'] < 400_000\n",
    "    \n",
    "    # Selecting properties included in mask_ba and mask_apt and mask_price dataframes using `&`\n",
    "    df = df[mask_ba & mask_apt & mask_price] \n",
    "    \n",
    "    return df"
   ]
  },
  {
   "cell_type": "code",
   "execution_count": 15,
   "id": "63512f53",
   "metadata": {},
   "outputs": [
    {
     "name": "stdout",
     "output_type": "stream",
     "text": [
      "df shape: (1781, 16)\n"
     ]
    },
    {
     "data": {
      "text/html": [
       "<div>\n",
       "<style scoped>\n",
       "    .dataframe tbody tr th:only-of-type {\n",
       "        vertical-align: middle;\n",
       "    }\n",
       "\n",
       "    .dataframe tbody tr th {\n",
       "        vertical-align: top;\n",
       "    }\n",
       "\n",
       "    .dataframe thead th {\n",
       "        text-align: right;\n",
       "    }\n",
       "</style>\n",
       "<table border=\"1\" class=\"dataframe\">\n",
       "  <thead>\n",
       "    <tr style=\"text-align: right;\">\n",
       "      <th></th>\n",
       "      <th>operation</th>\n",
       "      <th>property_type</th>\n",
       "      <th>place_with_parent_names</th>\n",
       "      <th>lat-lon</th>\n",
       "      <th>price</th>\n",
       "      <th>currency</th>\n",
       "      <th>price_aprox_local_currency</th>\n",
       "      <th>price_aprox_usd</th>\n",
       "      <th>surface_total_in_m2</th>\n",
       "      <th>surface_covered_in_m2</th>\n",
       "      <th>price_usd_per_m2</th>\n",
       "      <th>price_per_m2</th>\n",
       "      <th>floor</th>\n",
       "      <th>rooms</th>\n",
       "      <th>expenses</th>\n",
       "      <th>properati_url</th>\n",
       "    </tr>\n",
       "  </thead>\n",
       "  <tbody>\n",
       "    <tr>\n",
       "      <th>0</th>\n",
       "      <td>sell</td>\n",
       "      <td>apartment</td>\n",
       "      <td>|Argentina|Capital Federal|Villa Crespo|</td>\n",
       "      <td>-34.6047834183,-58.4586812499</td>\n",
       "      <td>180000.0</td>\n",
       "      <td>USD</td>\n",
       "      <td>2729232.0</td>\n",
       "      <td>180000.0</td>\n",
       "      <td>120.0</td>\n",
       "      <td>110.0</td>\n",
       "      <td>1500.000000</td>\n",
       "      <td>1636.363636</td>\n",
       "      <td>NaN</td>\n",
       "      <td>4.0</td>\n",
       "      <td>NaN</td>\n",
       "      <td>http://villa-crespo.properati.com.ar/12egq_ven...</td>\n",
       "    </tr>\n",
       "    <tr>\n",
       "      <th>4</th>\n",
       "      <td>sell</td>\n",
       "      <td>apartment</td>\n",
       "      <td>|Argentina|Capital Federal|Chacarita|</td>\n",
       "      <td>-34.5846508988,-58.4546932614</td>\n",
       "      <td>129000.0</td>\n",
       "      <td>USD</td>\n",
       "      <td>1955949.6</td>\n",
       "      <td>129000.0</td>\n",
       "      <td>76.0</td>\n",
       "      <td>70.0</td>\n",
       "      <td>1697.368421</td>\n",
       "      <td>1842.857143</td>\n",
       "      <td>NaN</td>\n",
       "      <td>NaN</td>\n",
       "      <td>NaN</td>\n",
       "      <td>http://chacarita.properati.com.ar/10qlv_venta_...</td>\n",
       "    </tr>\n",
       "    <tr>\n",
       "      <th>9</th>\n",
       "      <td>sell</td>\n",
       "      <td>apartment</td>\n",
       "      <td>|Argentina|Capital Federal|Villa Luro|</td>\n",
       "      <td>-34.6389789,-58.500115</td>\n",
       "      <td>87000.0</td>\n",
       "      <td>USD</td>\n",
       "      <td>1319128.8</td>\n",
       "      <td>87000.0</td>\n",
       "      <td>48.0</td>\n",
       "      <td>42.0</td>\n",
       "      <td>1812.500000</td>\n",
       "      <td>2071.428571</td>\n",
       "      <td>NaN</td>\n",
       "      <td>NaN</td>\n",
       "      <td>NaN</td>\n",
       "      <td>http://villa-luro.properati.com.ar/12m82_venta...</td>\n",
       "    </tr>\n",
       "    <tr>\n",
       "      <th>11</th>\n",
       "      <td>sell</td>\n",
       "      <td>apartment</td>\n",
       "      <td>|Argentina|Capital Federal|Once|</td>\n",
       "      <td>-34.6050060697,-58.4001162302</td>\n",
       "      <td>60000.0</td>\n",
       "      <td>USD</td>\n",
       "      <td>909744.0</td>\n",
       "      <td>60000.0</td>\n",
       "      <td>28.0</td>\n",
       "      <td>28.0</td>\n",
       "      <td>2142.857143</td>\n",
       "      <td>2142.857143</td>\n",
       "      <td>NaN</td>\n",
       "      <td>1.0</td>\n",
       "      <td>NaN</td>\n",
       "      <td>http://once.properati.com.ar/zz0q_venta_depart...</td>\n",
       "    </tr>\n",
       "    <tr>\n",
       "      <th>20</th>\n",
       "      <td>sell</td>\n",
       "      <td>apartment</td>\n",
       "      <td>|Argentina|Capital Federal|San Nicolás|</td>\n",
       "      <td>-34.603898,-58.378617</td>\n",
       "      <td>69000.0</td>\n",
       "      <td>USD</td>\n",
       "      <td>1046205.6</td>\n",
       "      <td>69000.0</td>\n",
       "      <td>NaN</td>\n",
       "      <td>22.0</td>\n",
       "      <td>NaN</td>\n",
       "      <td>3136.363636</td>\n",
       "      <td>23.0</td>\n",
       "      <td>2.0</td>\n",
       "      <td>NaN</td>\n",
       "      <td>http://san-nicolas.properati.com.ar/rnju_venta...</td>\n",
       "    </tr>\n",
       "  </tbody>\n",
       "</table>\n",
       "</div>"
      ],
      "text/plain": [
       "   operation property_type                   place_with_parent_names  \\\n",
       "0       sell     apartment  |Argentina|Capital Federal|Villa Crespo|   \n",
       "4       sell     apartment     |Argentina|Capital Federal|Chacarita|   \n",
       "9       sell     apartment    |Argentina|Capital Federal|Villa Luro|   \n",
       "11      sell     apartment          |Argentina|Capital Federal|Once|   \n",
       "20      sell     apartment   |Argentina|Capital Federal|San Nicolás|   \n",
       "\n",
       "                          lat-lon     price currency  \\\n",
       "0   -34.6047834183,-58.4586812499  180000.0      USD   \n",
       "4   -34.5846508988,-58.4546932614  129000.0      USD   \n",
       "9          -34.6389789,-58.500115   87000.0      USD   \n",
       "11  -34.6050060697,-58.4001162302   60000.0      USD   \n",
       "20          -34.603898,-58.378617   69000.0      USD   \n",
       "\n",
       "    price_aprox_local_currency  price_aprox_usd  surface_total_in_m2  \\\n",
       "0                    2729232.0         180000.0                120.0   \n",
       "4                    1955949.6         129000.0                 76.0   \n",
       "9                    1319128.8          87000.0                 48.0   \n",
       "11                    909744.0          60000.0                 28.0   \n",
       "20                   1046205.6          69000.0                  NaN   \n",
       "\n",
       "    surface_covered_in_m2  price_usd_per_m2  price_per_m2  floor  rooms  \\\n",
       "0                   110.0       1500.000000   1636.363636    NaN    4.0   \n",
       "4                    70.0       1697.368421   1842.857143    NaN    NaN   \n",
       "9                    42.0       1812.500000   2071.428571    NaN    NaN   \n",
       "11                   28.0       2142.857143   2142.857143    NaN    1.0   \n",
       "20                   22.0               NaN   3136.363636   23.0    2.0   \n",
       "\n",
       "   expenses                                      properati_url  \n",
       "0       NaN  http://villa-crespo.properati.com.ar/12egq_ven...  \n",
       "4       NaN  http://chacarita.properati.com.ar/10qlv_venta_...  \n",
       "9       NaN  http://villa-luro.properati.com.ar/12m82_venta...  \n",
       "11      NaN  http://once.properati.com.ar/zz0q_venta_depart...  \n",
       "20      NaN  http://san-nicolas.properati.com.ar/rnju_venta...  "
      ]
     },
     "execution_count": 15,
     "metadata": {},
     "output_type": "execute_result"
    }
   ],
   "source": [
    "# Checking the new dataframe we obtain from wrangle function\n",
    "df = wrangle('buenos-aires-real-estate-1.csv')\n",
    "print('df shape:', df.shape)\n",
    "df.head()"
   ]
  },
  {
   "cell_type": "markdown",
   "id": "0d70422c",
   "metadata": {},
   "source": [
    "So we have now managed to get only the desired properties in our dataframe: Apartments in Capital Federal with value less than USD 400_000"
   ]
  },
  {
   "cell_type": "markdown",
   "id": "f99a7486",
   "metadata": {},
   "source": [
    "### Exploratory Data Analysis"
   ]
  },
  {
   "cell_type": "code",
   "execution_count": 16,
   "id": "5599f5e3",
   "metadata": {},
   "outputs": [
    {
     "data": {
      "image/png": "[encoded data removed]",
      "text/plain": [
       "<Figure size 432x288 with 1 Axes>"
      ]
     },
     "metadata": {
      "needs_background": "light"
     },
     "output_type": "display_data"
    }
   ],
   "source": [
    "# Creating a Histogram to check relationship between price and area of property\n",
    "plt.hist(df['surface_covered_in_m2'])\n",
    "plt.xlabel('Area [sq. meters]')\n",
    "plt.title('Distribution of Apartment Sizes');"
   ]
  },
  {
   "cell_type": "markdown",
   "id": "e21b4e6b",
   "metadata": {},
   "source": [
    "This Histogram looks really different from what we expect normally. Since matplotlib creates axes automatically, it does mean that some outliers may exist in the house areas with majority having sizes below 10_000 sq m"
   ]
  },
  {
   "cell_type": "code",
   "execution_count": 17,
   "id": "b89e5a4a",
   "metadata": {},
   "outputs": [
    {
     "data": {
      "text/plain": [
       "count     1635.000000\n",
       "mean        97.877064\n",
       "std       1533.057610\n",
       "min          0.000000\n",
       "25%         38.000000\n",
       "50%         50.000000\n",
       "75%         73.000000\n",
       "max      62034.000000\n",
       "Name: surface_covered_in_m2, dtype: float64"
      ]
     },
     "execution_count": 17,
     "metadata": {},
     "output_type": "execute_result"
    }
   ],
   "source": [
    "# Checking outliers in data for surface covered in m2\n",
    "df.describe()['surface_covered_in_m2']"
   ]
  },
  {
   "cell_type": "markdown",
   "id": "64359d10",
   "metadata": {},
   "source": [
    "It is clear that this data is extremely skewed. some properties have 0 area whereas some have area so much further from mean or median that they do not represent the data at all. These outliers need to be removed to build a realistic model"
   ]
  },
  {
   "cell_type": "markdown",
   "id": "580cc7e3",
   "metadata": {},
   "source": [
    "**Modifying wrangle function to remove outliers from the dataset. We would choose properties between 10 % and the 90% quantile**"
   ]
  },
  {
   "cell_type": "code",
   "execution_count": 18,
   "id": "27d8d135",
   "metadata": {},
   "outputs": [
    {
     "data": {
      "text/plain": [
       "(31.0, 100.0)"
      ]
     },
     "execution_count": 18,
     "metadata": {},
     "output_type": "execute_result"
    }
   ],
   "source": [
    "# Checking the area values at 10% and 90% quantiles and assigning them to `low` and `high` variables\n",
    "low, high = df['surface_covered_in_m2'].quantile([0.1, 0.9])\n",
    "low,high"
   ]
  },
  {
   "cell_type": "code",
   "execution_count": 19,
   "id": "4b7418b5",
   "metadata": {},
   "outputs": [
    {
     "data": {
      "text/plain": [
       "0     False\n",
       "4      True\n",
       "9      True\n",
       "11    False\n",
       "20    False\n",
       "Name: surface_covered_in_m2, dtype: bool"
      ]
     },
     "execution_count": 19,
     "metadata": {},
     "output_type": "execute_result"
    }
   ],
   "source": [
    "# Creating a mask for area\n",
    "mask_area = df['surface_covered_in_m2'].between(low, high)\n",
    "mask_area.head()"
   ]
  },
  {
   "cell_type": "code",
   "execution_count": 20,
   "id": "ea6df15d",
   "metadata": {},
   "outputs": [],
   "source": [
    "# Modifying the wrangle function\n",
    "def wrangle(filepath):\n",
    "    df = pd.read_csv(filepath)\n",
    "     \n",
    "    # Subset to select only properties in `\"Capital Federal\"`\n",
    "    mask_ba = df['place_with_parent_names'].str.contains('Capital Federal')\n",
    "    \n",
    "    # Subset to only select `\"apartment\"` properties\n",
    "    mask_apt = df['property_type'] == 'apartment'\n",
    "    \n",
    "    # Subset to only select property values lower than USD 400_000\n",
    "    mask_price = df['price_aprox_usd'] < 400_000\n",
    "    \n",
    "    # Selecting properties included in mask_ba and mask_apt & mask_price dataframes using `&`\n",
    "    df = df[mask_ba & mask_apt & mask_price] \n",
    "    \n",
    "    # Removing outliers by only selecting properties with surface area values between 10% and 90% quantiles\n",
    "    low, high = df['surface_covered_in_m2'].quantile([0.1, 0.9])\n",
    "    mask_area = df['surface_covered_in_m2'].between(low, high)\n",
    "    df = df[mask_area]\n",
    "    \n",
    "    return df"
   ]
  },
  {
   "cell_type": "code",
   "execution_count": 21,
   "id": "442fb872",
   "metadata": {},
   "outputs": [
    {
     "name": "stdout",
     "output_type": "stream",
     "text": [
      "df shape: (1343, 16)\n"
     ]
    },
    {
     "data": {
      "text/html": [
       "<div>\n",
       "<style scoped>\n",
       "    .dataframe tbody tr th:only-of-type {\n",
       "        vertical-align: middle;\n",
       "    }\n",
       "\n",
       "    .dataframe tbody tr th {\n",
       "        vertical-align: top;\n",
       "    }\n",
       "\n",
       "    .dataframe thead th {\n",
       "        text-align: right;\n",
       "    }\n",
       "</style>\n",
       "<table border=\"1\" class=\"dataframe\">\n",
       "  <thead>\n",
       "    <tr style=\"text-align: right;\">\n",
       "      <th></th>\n",
       "      <th>operation</th>\n",
       "      <th>property_type</th>\n",
       "      <th>place_with_parent_names</th>\n",
       "      <th>lat-lon</th>\n",
       "      <th>price</th>\n",
       "      <th>currency</th>\n",
       "      <th>price_aprox_local_currency</th>\n",
       "      <th>price_aprox_usd</th>\n",
       "      <th>surface_total_in_m2</th>\n",
       "      <th>surface_covered_in_m2</th>\n",
       "      <th>price_usd_per_m2</th>\n",
       "      <th>price_per_m2</th>\n",
       "      <th>floor</th>\n",
       "      <th>rooms</th>\n",
       "      <th>expenses</th>\n",
       "      <th>properati_url</th>\n",
       "    </tr>\n",
       "  </thead>\n",
       "  <tbody>\n",
       "    <tr>\n",
       "      <th>4</th>\n",
       "      <td>sell</td>\n",
       "      <td>apartment</td>\n",
       "      <td>|Argentina|Capital Federal|Chacarita|</td>\n",
       "      <td>-34.5846508988,-58.4546932614</td>\n",
       "      <td>129000.0</td>\n",
       "      <td>USD</td>\n",
       "      <td>1955949.6</td>\n",
       "      <td>129000.0</td>\n",
       "      <td>76.0</td>\n",
       "      <td>70.0</td>\n",
       "      <td>1697.368421</td>\n",
       "      <td>1842.857143</td>\n",
       "      <td>NaN</td>\n",
       "      <td>NaN</td>\n",
       "      <td>NaN</td>\n",
       "      <td>http://chacarita.properati.com.ar/10qlv_venta_...</td>\n",
       "    </tr>\n",
       "    <tr>\n",
       "      <th>9</th>\n",
       "      <td>sell</td>\n",
       "      <td>apartment</td>\n",
       "      <td>|Argentina|Capital Federal|Villa Luro|</td>\n",
       "      <td>-34.6389789,-58.500115</td>\n",
       "      <td>87000.0</td>\n",
       "      <td>USD</td>\n",
       "      <td>1319128.8</td>\n",
       "      <td>87000.0</td>\n",
       "      <td>48.0</td>\n",
       "      <td>42.0</td>\n",
       "      <td>1812.500000</td>\n",
       "      <td>2071.428571</td>\n",
       "      <td>NaN</td>\n",
       "      <td>NaN</td>\n",
       "      <td>NaN</td>\n",
       "      <td>http://villa-luro.properati.com.ar/12m82_venta...</td>\n",
       "    </tr>\n",
       "    <tr>\n",
       "      <th>29</th>\n",
       "      <td>sell</td>\n",
       "      <td>apartment</td>\n",
       "      <td>|Argentina|Capital Federal|Caballito|</td>\n",
       "      <td>-34.615847,-58.459957</td>\n",
       "      <td>118000.0</td>\n",
       "      <td>USD</td>\n",
       "      <td>1789163.2</td>\n",
       "      <td>118000.0</td>\n",
       "      <td>NaN</td>\n",
       "      <td>54.0</td>\n",
       "      <td>NaN</td>\n",
       "      <td>2185.185185</td>\n",
       "      <td>NaN</td>\n",
       "      <td>2.0</td>\n",
       "      <td>NaN</td>\n",
       "      <td>http://caballito.properati.com.ar/11wqh_venta_...</td>\n",
       "    </tr>\n",
       "    <tr>\n",
       "      <th>40</th>\n",
       "      <td>sell</td>\n",
       "      <td>apartment</td>\n",
       "      <td>|Argentina|Capital Federal|Constitución|</td>\n",
       "      <td>-34.6252219,-58.3823825</td>\n",
       "      <td>57000.0</td>\n",
       "      <td>USD</td>\n",
       "      <td>864256.8</td>\n",
       "      <td>57000.0</td>\n",
       "      <td>42.0</td>\n",
       "      <td>42.0</td>\n",
       "      <td>1357.142857</td>\n",
       "      <td>1357.142857</td>\n",
       "      <td>5.0</td>\n",
       "      <td>2.0</td>\n",
       "      <td>364</td>\n",
       "      <td>http://constitucion.properati.com.ar/k2f0_vent...</td>\n",
       "    </tr>\n",
       "    <tr>\n",
       "      <th>41</th>\n",
       "      <td>sell</td>\n",
       "      <td>apartment</td>\n",
       "      <td>|Argentina|Capital Federal|Once|</td>\n",
       "      <td>-34.6106102,-58.4125107</td>\n",
       "      <td>90000.0</td>\n",
       "      <td>USD</td>\n",
       "      <td>1364616.0</td>\n",
       "      <td>90000.0</td>\n",
       "      <td>57.0</td>\n",
       "      <td>50.0</td>\n",
       "      <td>1578.947368</td>\n",
       "      <td>1800.000000</td>\n",
       "      <td>NaN</td>\n",
       "      <td>3.0</td>\n",
       "      <td>450</td>\n",
       "      <td>http://once.properati.com.ar/suwa_venta_depart...</td>\n",
       "    </tr>\n",
       "  </tbody>\n",
       "</table>\n",
       "</div>"
      ],
      "text/plain": [
       "   operation property_type                   place_with_parent_names  \\\n",
       "4       sell     apartment     |Argentina|Capital Federal|Chacarita|   \n",
       "9       sell     apartment    |Argentina|Capital Federal|Villa Luro|   \n",
       "29      sell     apartment     |Argentina|Capital Federal|Caballito|   \n",
       "40      sell     apartment  |Argentina|Capital Federal|Constitución|   \n",
       "41      sell     apartment          |Argentina|Capital Federal|Once|   \n",
       "\n",
       "                          lat-lon     price currency  \\\n",
       "4   -34.5846508988,-58.4546932614  129000.0      USD   \n",
       "9          -34.6389789,-58.500115   87000.0      USD   \n",
       "29          -34.615847,-58.459957  118000.0      USD   \n",
       "40        -34.6252219,-58.3823825   57000.0      USD   \n",
       "41        -34.6106102,-58.4125107   90000.0      USD   \n",
       "\n",
       "    price_aprox_local_currency  price_aprox_usd  surface_total_in_m2  \\\n",
       "4                    1955949.6         129000.0                 76.0   \n",
       "9                    1319128.8          87000.0                 48.0   \n",
       "29                   1789163.2         118000.0                  NaN   \n",
       "40                    864256.8          57000.0                 42.0   \n",
       "41                   1364616.0          90000.0                 57.0   \n",
       "\n",
       "    surface_covered_in_m2  price_usd_per_m2  price_per_m2  floor  rooms  \\\n",
       "4                    70.0       1697.368421   1842.857143    NaN    NaN   \n",
       "9                    42.0       1812.500000   2071.428571    NaN    NaN   \n",
       "29                   54.0               NaN   2185.185185    NaN    2.0   \n",
       "40                   42.0       1357.142857   1357.142857    5.0    2.0   \n",
       "41                   50.0       1578.947368   1800.000000    NaN    3.0   \n",
       "\n",
       "   expenses                                      properati_url  \n",
       "4       NaN  http://chacarita.properati.com.ar/10qlv_venta_...  \n",
       "9       NaN  http://villa-luro.properati.com.ar/12m82_venta...  \n",
       "29      NaN  http://caballito.properati.com.ar/11wqh_venta_...  \n",
       "40      364  http://constitucion.properati.com.ar/k2f0_vent...  \n",
       "41      450  http://once.properati.com.ar/suwa_venta_depart...  "
      ]
     },
     "execution_count": 21,
     "metadata": {},
     "output_type": "execute_result"
    }
   ],
   "source": [
    "# Checking the modified dataframe generated by wrangle function\n",
    "df = wrangle('buenos-aires-real-estate-1.csv')\n",
    "print('df shape:', df.shape)\n",
    "df.head()"
   ]
  },
  {
   "cell_type": "markdown",
   "id": "77741c49",
   "metadata": {},
   "source": [
    "### 1. Checking relationship between price and surface area of the apartment\n",
    "using a Scatter Plot"
   ]
  },
  {
   "cell_type": "code",
   "execution_count": 22,
   "id": "ba2c139a",
   "metadata": {},
   "outputs": [
    {
     "data": {
      "image/png": "[encoded data removed]",
      "text/plain": [
       "<Figure size 432x288 with 1 Axes>"
      ]
     },
     "metadata": {
      "needs_background": "light"
     },
     "output_type": "display_data"
    }
   ],
   "source": [
    "# Creating a scatterplot to visualise price as a function of area\n",
    "plt.scatter(x = df['surface_covered_in_m2'], y = df['price_aprox_usd'])\n",
    "plt.xlabel('Area [sq.m]')\n",
    "plt.ylabel('Price [USD]')\n",
    "plt.title('Buenos Aires: Price vs. Area');"
   ]
  },
  {
   "cell_type": "markdown",
   "id": "4f81efe3",
   "metadata": {},
   "source": [
    "*It can be seen that there is a moderate positive correlation between the area of the apartment and the price of apartment*"
   ]
  },
  {
   "cell_type": "markdown",
   "id": "33759977",
   "metadata": {},
   "source": [
    "### Introduction to Linear Models\n",
    "* Linear Models are all about straight lines\n",
    "    * We attempt to draw a line which best fits our data, so that when we encounter a new apartment we can predict the price\n",
    "* **Linear Models are really concerned with distance**\n",
    "    * We wish to draw a line which minimises the distance between the straight line and the training data\n",
    "* Linear models only work when the data has some linear relationship. But that's not always the case\n",
    "    * During EDA if a Linear relationship can not be established, then it might be more suitable to use some other model which considers other factors than distance when training on data"
   ]
  },
  {
   "cell_type": "markdown",
   "id": "ffd17ece",
   "metadata": {},
   "source": [
    "### Splitting data into Feature Matrix and Target Vector\n",
    "* **Features**: The attributes a model looks at to make predictions. Denoted by **X**\n",
    "* **Target Vector**: The attribute being predicted. In this case price of the apartment. Denoted by **y**"
   ]
  },
  {
   "cell_type": "code",
   "execution_count": 23,
   "id": "6ea08afd",
   "metadata": {},
   "outputs": [
    {
     "data": {
      "text/html": [
       "<div>\n",
       "<style scoped>\n",
       "    .dataframe tbody tr th:only-of-type {\n",
       "        vertical-align: middle;\n",
       "    }\n",
       "\n",
       "    .dataframe tbody tr th {\n",
       "        vertical-align: top;\n",
       "    }\n",
       "\n",
       "    .dataframe thead th {\n",
       "        text-align: right;\n",
       "    }\n",
       "</style>\n",
       "<table border=\"1\" class=\"dataframe\">\n",
       "  <thead>\n",
       "    <tr style=\"text-align: right;\">\n",
       "      <th></th>\n",
       "      <th>surface_covered_in_m2</th>\n",
       "    </tr>\n",
       "  </thead>\n",
       "  <tbody>\n",
       "    <tr>\n",
       "      <th>4</th>\n",
       "      <td>70.0</td>\n",
       "    </tr>\n",
       "    <tr>\n",
       "      <th>9</th>\n",
       "      <td>42.0</td>\n",
       "    </tr>\n",
       "    <tr>\n",
       "      <th>29</th>\n",
       "      <td>54.0</td>\n",
       "    </tr>\n",
       "    <tr>\n",
       "      <th>40</th>\n",
       "      <td>42.0</td>\n",
       "    </tr>\n",
       "    <tr>\n",
       "      <th>41</th>\n",
       "      <td>50.0</td>\n",
       "    </tr>\n",
       "  </tbody>\n",
       "</table>\n",
       "</div>"
      ],
      "text/plain": [
       "    surface_covered_in_m2\n",
       "4                    70.0\n",
       "9                    42.0\n",
       "29                   54.0\n",
       "40                   42.0\n",
       "41                   50.0"
      ]
     },
     "execution_count": 23,
     "metadata": {},
     "output_type": "execute_result"
    }
   ],
   "source": [
    "# Creating feature matrix\n",
    "features = ['surface_covered_in_m2'] # A list is used in feature matrix, and in target vector a string is used\n",
    "X_train = df[features]\n",
    "X_train.head()"
   ]
  },
  {
   "cell_type": "code",
   "execution_count": 24,
   "id": "af780860",
   "metadata": {},
   "outputs": [
    {
     "data": {
      "text/plain": [
       "4     129000.0\n",
       "9      87000.0\n",
       "29    118000.0\n",
       "40     57000.0\n",
       "41     90000.0\n",
       "Name: price_aprox_usd, dtype: float64"
      ]
     },
     "execution_count": 24,
     "metadata": {},
     "output_type": "execute_result"
    }
   ],
   "source": [
    "# Creating Target Vector\n",
    "target = 'price_aprox_usd' # a string is used because it is a one-dimensional vector\n",
    "y_train = df[target]\n",
    "y_train.head()"
   ]
  },
  {
   "cell_type": "markdown",
   "id": "2dae7c7b",
   "metadata": {},
   "source": [
    "### Building a Linear Model\n",
    "There are 3 different parts to building a model:\n",
    "1. **Baseline**: It is done get a sense of how well the model needs to perform to be of any use to stakeholders.\n",
    "    * Check if the problem is that of Regression (Target is a continuous value e.g Price of an apartment) or Classification (Target is one of the categories e.g. would an apartment sell in next 6 months or not)\n",
    "        * We have a Regression problem here and we must first find what is the mean value of y_train\n",
    "        * A baseline model is a naive/dumb model. The base model will only make a single prediction. In case of a Regression model a good prediction to make is mean price\n",
    "    * Now that we have the one prediction that our dumb model will always make, we need to generate a list that repeats the prediction for every observation in our dataset\n",
    "    * Assign a performance metric to the Baseline Model (here `Mean Absolute Error`)\n",
    "    \n",
    "2. **Iterate**: This stage of Model Building involves 3 steps:\n",
    "    * **Instantiate**: Create a model that we can train\n",
    "    * **Train**: Train the model\n",
    "    * **Predict**: Predict the Target Vector using the Model\n",
    "3. **Evaluate**:"
   ]
  },
  {
   "cell_type": "code",
   "execution_count": 25,
   "id": "6de3fe3b",
   "metadata": {},
   "outputs": [
    {
     "data": {
      "text/plain": [
       "135527.84"
      ]
     },
     "execution_count": 25,
     "metadata": {},
     "output_type": "execute_result"
    }
   ],
   "source": [
    "y_mean = round(y_train.mean(), 2)\n",
    "y_mean"
   ]
  },
  {
   "cell_type": "markdown",
   "id": "6b25084e",
   "metadata": {},
   "source": [
    "For our baseline model, every apartment's predicted price would be 135_527 USD"
   ]
  },
  {
   "cell_type": "code",
   "execution_count": 26,
   "id": "863cb5e5",
   "metadata": {},
   "outputs": [
    {
     "data": {
      "text/plain": [
       "[135527.84, 135527.84, 135527.84, 135527.84, 135527.84]"
      ]
     },
     "execution_count": 26,
     "metadata": {},
     "output_type": "execute_result"
    }
   ],
   "source": [
    "# Creating a list that repeats the prediction for every observation in baseline model\n",
    "y_pred_baseline = [y_mean] * len(y_train) # We want the list to be as long as `y_train` dataset\n",
    "y_pred_baseline[:5] # Checking first 5 values of the list "
   ]
  },
  {
   "cell_type": "markdown",
   "id": "6237ef8a",
   "metadata": {},
   "source": [
    "#### Assigning a performance metric to Baseline Model: `Mean Absolute Error` MAE\n",
    "* MAE = **|y-yhat|/n** \n",
    "* A good Mean Absolute Error is somewhere around 0"
   ]
  },
  {
   "cell_type": "code",
   "execution_count": 27,
   "id": "4dfa9c47",
   "metadata": {},
   "outputs": [
    {
     "name": "stdout",
     "output_type": "stream",
     "text": [
      "Mean Apt Price: 135527.84\n",
      "Baseline MAE: 45199.46\n"
     ]
    }
   ],
   "source": [
    "# Calculating MAE\n",
    "mae_baseline = mean_absolute_error(y_train, y_pred_baseline)\n",
    "print('Mean Apt Price:', round(y_mean, 2))\n",
    "print('Baseline MAE:', round(mae_baseline, 2))"
   ]
  },
  {
   "cell_type": "markdown",
   "id": "022429af",
   "metadata": {},
   "source": [
    "If the predicted  price of an apartment is always \\\\$135,527.84, our predictions would be off by an average of \\\\$45,199.46. Our model needs to have mean absolute error below \\\\$45,199.46 in order to be useful. "
   ]
  },
  {
   "cell_type": "markdown",
   "id": "2dfc5436",
   "metadata": {},
   "source": [
    "**Instantiating the Model**"
   ]
  },
  {
   "cell_type": "code",
   "execution_count": 28,
   "id": "f1ae17a9",
   "metadata": {},
   "outputs": [],
   "source": [
    "model = LinearRegression()"
   ]
  },
  {
   "cell_type": "markdown",
   "id": "468bd4f4",
   "metadata": {},
   "source": [
    "**Training the Model**"
   ]
  },
  {
   "cell_type": "code",
   "execution_count": 29,
   "id": "3d2181c5",
   "metadata": {},
   "outputs": [
    {
     "data": {
      "text/plain": [
       "LinearRegression()"
      ]
     },
     "execution_count": 29,
     "metadata": {},
     "output_type": "execute_result"
    }
   ],
   "source": [
    "model.fit(X_train, y_train)"
   ]
  },
  {
   "cell_type": "markdown",
   "id": "0d7e0c27",
   "metadata": {},
   "source": [
    "**Generating Predictions**"
   ]
  },
  {
   "cell_type": "code",
   "execution_count": 30,
   "id": "4373b909",
   "metadata": {},
   "outputs": [
    {
     "data": {
      "text/plain": [
       "array([169151.87, 106064.45, 133101.92, 106064.45, 124089.43])"
      ]
     },
     "execution_count": 30,
     "metadata": {},
     "output_type": "execute_result"
    }
   ],
   "source": [
    "y_pred_training = model.predict(X_train).round(2) # Checking how our model performs on the training data\n",
    "y_pred_training[:5] # Checking first 5 predictions"
   ]
  },
  {
   "cell_type": "markdown",
   "id": "04a40aad",
   "metadata": {},
   "source": [
    "**MAE Training**\n",
    "Using Mean Absolute Error to evaluate model's prediction by comparing with training data"
   ]
  },
  {
   "cell_type": "code",
   "execution_count": 31,
   "id": "08f5b02c",
   "metadata": {},
   "outputs": [
    {
     "name": "stdout",
     "output_type": "stream",
     "text": [
      "Training MAE: 31248.26\n"
     ]
    }
   ],
   "source": [
    "mae_training = mean_absolute_error(y_train, y_pred_training)\n",
    "print('Training MAE:', round(mae_training, 2))"
   ]
  },
  {
   "cell_type": "markdown",
   "id": "f586744c",
   "metadata": {},
   "source": [
    "Our model beat the baseline by over $10,000. That's a good indicator that it will be helpful in predicting apartment prices"
   ]
  },
  {
   "cell_type": "markdown",
   "id": "f460aaa1",
   "metadata": {},
   "source": [
    "**Importing Test Data and generating a list of predictions using the model**"
   ]
  },
  {
   "cell_type": "code",
   "execution_count": 32,
   "id": "1f717a8f",
   "metadata": {},
   "outputs": [
    {
     "data": {
      "text/plain": [
       "array([117330.06, 135355.04,  88039.47,  88039.47, 106064.45])"
      ]
     },
     "execution_count": 32,
     "metadata": {},
     "output_type": "execute_result"
    }
   ],
   "source": [
    "X_test = pd.read_csv('buenos-aires-test-features.csv')[features]\n",
    "y_pred_test = model.predict(X_test).round(2)\n",
    "y_pred_test[:5]"
   ]
  },
  {
   "cell_type": "markdown",
   "id": "4fabbf73",
   "metadata": {},
   "source": [
    "**NOTE:** \n",
    "* Ideally, test performance metrics should be the same as training performance metrics. In practice,however, test metrics tend to be a little worse (this means a larger number in the case of mean absolute error). But as long as the training and test performance are close to each other, we can be confident that our model will generalize well. \n",
    "\n",
    "* During the iteration phase, model can be changed and retrained multiple times to check model's training performance repeatedly. But once a model's test performance is evaluated, no further changes can be made. \n",
    "    \n",
    "* A test only counts if neither the model nor the data scientist has seen the data before. If test metrics are checked first and then changes are made to the model, biases might be introduced into the model that compromise its generalizability. "
   ]
  },
  {
   "cell_type": "markdown",
   "id": "89f83dd2",
   "metadata": {},
   "source": [
    "### Communicating Results\n",
    "* The equation for a straight line is **y = b0 + b1x**\n",
    "* Attributes in scikit's Linear Regression model end with an `_` (e.g. `coef_`, `intercept_` etc.), which means they can only be used once a model has been trained\n"
   ]
  },
  {
   "cell_type": "code",
   "execution_count": 33,
   "id": "360c0c40",
   "metadata": {},
   "outputs": [
    {
     "name": "stdout",
     "output_type": "stream",
     "text": [
      "Model Intercept: 11433.31\n"
     ]
    }
   ],
   "source": [
    "# Extracting the intercept for our Linear Regression model's straight line\n",
    "intercept = round(model.intercept_, 2)\n",
    "print('Model Intercept:', intercept)"
   ]
  },
  {
   "cell_type": "code",
   "execution_count": 34,
   "id": "8fc7b398",
   "metadata": {},
   "outputs": [
    {
     "name": "stdout",
     "output_type": "stream",
     "text": [
      "Model coefficient for \"surface_covered_in_m2\": 2253.12\n"
     ]
    }
   ],
   "source": [
    "# Calculating the coefficient of our Linear Model\n",
    "coefficient = round(model.coef_[0], 2) # The coefficient appears as a list. Taking the first element in the list\n",
    "print('Model coefficient for \"surface_covered_in_m2\":', coefficient)"
   ]
  },
  {
   "cell_type": "markdown",
   "id": "df28a425",
   "metadata": {},
   "source": [
    "**Generating Equation of Linear Model**"
   ]
  },
  {
   "cell_type": "code",
   "execution_count": 37,
   "id": "5cf7c76d",
   "metadata": {},
   "outputs": [
    {
     "name": "stdout",
     "output_type": "stream",
     "text": [
      "apt_price = 11433.31 + 2253.12 * surface_covered\n"
     ]
    }
   ],
   "source": [
    "# Using an f string which allows printing of character values and lets us insert variable names\n",
    "print(f'apt_price = {intercept} + {coefficient} * surface_covered')"
   ]
  },
  {
   "cell_type": "markdown",
   "id": "3e956596",
   "metadata": {},
   "source": [
    "**Visualise the Model on the Scatter Plot for effective communication**"
   ]
  },
  {
   "cell_type": "code",
   "execution_count": null,
   "id": "72bd22e4",
   "metadata": {},
   "outputs": [],
   "source": [
    "plt.plot(X_train, model.predict(X_train), color = 'red', label = 'Linear Model')\n",
    "plt.scatter(X_train, y_train)\n",
    "plt.xlabel(\"surface covered [sq. m]\")\n",
    "plt.ylabel(\"price [USD]\")\n",
    "plt.legend();"
   ]
  },
  {
   "cell_type": "code",
   "execution_count": null,
   "id": "04a02b90",
   "metadata": {},
   "outputs": [],
   "source": []
  }
 ],
 "metadata": {
  "kernelspec": {
   "display_name": "Python 3 (ipykernel)",
   "language": "python",
   "name": "python3"
  },
  "language_info": {
   "codemirror_mode": {
    "name": "ipython",
    "version": 3
   },
   "file_extension": ".py",
   "mimetype": "text/x-python",
   "name": "python",
   "nbconvert_exporter": "python",
   "pygments_lexer": "ipython3",
   "version": "3.8.11"
  }
 },
 "nbformat": 4,
 "nbformat_minor": 5
}
