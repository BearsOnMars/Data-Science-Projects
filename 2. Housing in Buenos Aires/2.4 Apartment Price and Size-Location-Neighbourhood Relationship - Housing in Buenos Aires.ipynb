{
 "cells": [
  {
   "cell_type": "markdown",
   "id": "6d3e779d",
   "metadata": {},
   "source": [
    "Objectives of this prediction model are:\n",
    "1. Build a model to predict Apartment Price\n",
    "2. Evaluate all features in dataset for use in model\n",
    "3. Create two deployments of trained model\n",
    "\n",
    "**Machine Learning Workflow**\n",
    "1. PREPARING DATA\n",
    "    * Importing: `wrangle` function and list comprehension\n",
    "    * Exploring: `Null values`, `high`-and `low-cardinality` (categorical features with too few or too many unique values), `leakage` (features giving information about target which shouldn't be there), `multicollinearity`\n",
    "    * Splitting\n",
    "2. BUILDING MODEL\n",
    "    * Baselining\n",
    "    * Iterating\n",
    "    * Evaluating\n",
    "3. COMMUNICATING RESULTS\n",
    "    * Making `make_prediction` function\n",
    "    * Interactive Dashboard Minimum Viable Product (MVP)"
   ]
  },
  {
   "cell_type": "code",
   "execution_count": 1,
   "id": "9057aad2",
   "metadata": {},
   "outputs": [],
   "source": [
    "# importing libraries\n",
    "from glob import glob\n",
    "\n",
    "import pandas as pd\n",
    "import seaborn as sns # For data visualisation\n",
    "from category_encoders import OneHotEncoder\n",
    "from ipywidgets import Dropdown, FloatSlider, IntSlider, interact # For interactive dashboard\n",
    "\n",
    "from sklearn.impute import SimpleImputer\n",
    "from sklearn.linear_model import LinearRegression, Ridge\n",
    "from sklearn.metrics import mean_absolute_error\n",
    "from sklearn.pipeline import make_pipeline\n"
   ]
  },
  {
   "cell_type": "markdown",
   "id": "dbdf380e",
   "metadata": {},
   "source": [
    "# 1. Preparing Data\n",
    "## 1.1 Importing Data"
   ]
  },
  {
   "cell_type": "code",
   "execution_count": 2,
   "id": "2c15a1ab",
   "metadata": {},
   "outputs": [],
   "source": [
    "# Using wrangle function to import files into Dataframe\n",
    "\n",
    "def wrangle(filepath):\n",
    "    # Read CSV file\n",
    "    df = pd.read_csv(filepath)\n",
    "\n",
    "    # Subset data: Apartments in \"Capital Federal\", less than 400,000\n",
    "    mask_ba = df[\"place_with_parent_names\"].str.contains(\"Capital Federal\")\n",
    "    mask_apt = df[\"property_type\"] == \"apartment\"\n",
    "    mask_price = df[\"price_aprox_usd\"] < 400_000\n",
    "    df = df[mask_ba & mask_apt & mask_price]\n",
    "\n",
    "    # Subset data: Remove outliers for \"surface_covered_in_m2\"\n",
    "    low, high = df[\"surface_covered_in_m2\"].quantile([0.1, 0.9])\n",
    "    mask_area = df[\"surface_covered_in_m2\"].between(low, high)\n",
    "    df = df[mask_area]\n",
    "\n",
    "    # Split \"lat-lon\" column\n",
    "    df[[\"lat\", \"lon\"]] = df[\"lat-lon\"].str.split(\",\", expand=True).astype(float)\n",
    "    df.drop(columns=\"lat-lon\", inplace=True)\n",
    "\n",
    "    # Get place name\n",
    "    df[\"neighbourhood\"] = df[\"place_with_parent_names\"].str.split(\"|\", expand=True)[3]\n",
    "    df.drop(columns=\"place_with_parent_names\", inplace=True)\n",
    "\n",
    "    \n",
    "    return df"
   ]
  },
  {
   "cell_type": "code",
   "execution_count": 3,
   "id": "7b0e6fc8",
   "metadata": {},
   "outputs": [
    {
     "data": {
      "text/plain": [
       "['buenos-aires-real-estate-1.csv',\n",
       " 'buenos-aires-real-estate-2.csv',\n",
       " 'buenos-aires-real-estate-3.csv',\n",
       " 'buenos-aires-real-estate-4.csv',\n",
       " 'buenos-aires-real-estate-5.csv']"
      ]
     },
     "execution_count": 3,
     "metadata": {},
     "output_type": "execute_result"
    }
   ],
   "source": [
    "# Using glob to get the files\n",
    "files = glob('buenos-aires-real-estate-*.csv')\n",
    "files"
   ]
  },
  {
   "cell_type": "markdown",
   "id": "46397fe3",
   "metadata": {},
   "source": [
    "**LIST COMPREHENSION** \n",
    "* a convenient way to avoid multiple lines of code when iteration is required through multiple files"
   ]
  },
  {
   "cell_type": "code",
   "execution_count": 4,
   "id": "735c183a",
   "metadata": {},
   "outputs": [],
   "source": [
    "frames = [wrangle(file) for file in files] # start with what needs to be iterated at the end"
   ]
  },
  {
   "cell_type": "code",
   "execution_count": 5,
   "id": "58fc9915",
   "metadata": {},
   "outputs": [
    {
     "data": {
      "text/plain": [
       "5"
      ]
     },
     "execution_count": 5,
     "metadata": {},
     "output_type": "execute_result"
    }
   ],
   "source": [
    "len(frames)"
   ]
  },
  {
   "cell_type": "code",
   "execution_count": 6,
   "id": "7c9059e2",
   "metadata": {},
   "outputs": [
    {
     "data": {
      "text/plain": [
       "pandas.core.frame.DataFrame"
      ]
     },
     "execution_count": 6,
     "metadata": {},
     "output_type": "execute_result"
    }
   ],
   "source": [
    "type(frames[0])"
   ]
  },
  {
   "cell_type": "code",
   "execution_count": 7,
   "id": "5a249ebb",
   "metadata": {},
   "outputs": [
    {
     "data": {
      "text/html": [
       "<div>\n",
       "<style scoped>\n",
       "    .dataframe tbody tr th:only-of-type {\n",
       "        vertical-align: middle;\n",
       "    }\n",
       "\n",
       "    .dataframe tbody tr th {\n",
       "        vertical-align: top;\n",
       "    }\n",
       "\n",
       "    .dataframe thead th {\n",
       "        text-align: right;\n",
       "    }\n",
       "</style>\n",
       "<table border=\"1\" class=\"dataframe\">\n",
       "  <thead>\n",
       "    <tr style=\"text-align: right;\">\n",
       "      <th></th>\n",
       "      <th>operation</th>\n",
       "      <th>property_type</th>\n",
       "      <th>price</th>\n",
       "      <th>currency</th>\n",
       "      <th>price_aprox_local_currency</th>\n",
       "      <th>price_aprox_usd</th>\n",
       "      <th>surface_total_in_m2</th>\n",
       "      <th>surface_covered_in_m2</th>\n",
       "      <th>price_usd_per_m2</th>\n",
       "      <th>price_per_m2</th>\n",
       "      <th>floor</th>\n",
       "      <th>rooms</th>\n",
       "      <th>expenses</th>\n",
       "      <th>properati_url</th>\n",
       "      <th>lat</th>\n",
       "      <th>lon</th>\n",
       "      <th>neighbourhood</th>\n",
       "    </tr>\n",
       "  </thead>\n",
       "  <tbody>\n",
       "    <tr>\n",
       "      <th>2</th>\n",
       "      <td>sell</td>\n",
       "      <td>apartment</td>\n",
       "      <td>215000.0</td>\n",
       "      <td>USD</td>\n",
       "      <td>3259916.00</td>\n",
       "      <td>215000.00</td>\n",
       "      <td>40.0</td>\n",
       "      <td>35.0</td>\n",
       "      <td>5375.000000</td>\n",
       "      <td>6142.857143</td>\n",
       "      <td>NaN</td>\n",
       "      <td>1.0</td>\n",
       "      <td>3500.0</td>\n",
       "      <td>http://recoleta.properati.com.ar/12j4v_venta_d...</td>\n",
       "      <td>-34.588993</td>\n",
       "      <td>-58.400133</td>\n",
       "      <td>Recoleta</td>\n",
       "    </tr>\n",
       "    <tr>\n",
       "      <th>9</th>\n",
       "      <td>sell</td>\n",
       "      <td>apartment</td>\n",
       "      <td>341550.0</td>\n",
       "      <td>USD</td>\n",
       "      <td>5178717.72</td>\n",
       "      <td>341550.00</td>\n",
       "      <td>NaN</td>\n",
       "      <td>90.0</td>\n",
       "      <td>NaN</td>\n",
       "      <td>3795.000000</td>\n",
       "      <td>8.0</td>\n",
       "      <td>2.0</td>\n",
       "      <td>NaN</td>\n",
       "      <td>http://recoleta.properati.com.ar/100t0_venta_d...</td>\n",
       "      <td>-34.588044</td>\n",
       "      <td>-58.398066</td>\n",
       "      <td>Recoleta</td>\n",
       "    </tr>\n",
       "    <tr>\n",
       "      <th>12</th>\n",
       "      <td>sell</td>\n",
       "      <td>apartment</td>\n",
       "      <td>1386000.0</td>\n",
       "      <td>ARS</td>\n",
       "      <td>1382153.13</td>\n",
       "      <td>91156.62</td>\n",
       "      <td>39.0</td>\n",
       "      <td>33.0</td>\n",
       "      <td>2337.349231</td>\n",
       "      <td>42000.000000</td>\n",
       "      <td>NaN</td>\n",
       "      <td>NaN</td>\n",
       "      <td>NaN</td>\n",
       "      <td>http://monserrat.properati.com.ar/t05l_venta_d...</td>\n",
       "      <td>-34.623320</td>\n",
       "      <td>-58.397461</td>\n",
       "      <td>Monserrat</td>\n",
       "    </tr>\n",
       "    <tr>\n",
       "      <th>13</th>\n",
       "      <td>sell</td>\n",
       "      <td>apartment</td>\n",
       "      <td>105000.0</td>\n",
       "      <td>USD</td>\n",
       "      <td>1592052.00</td>\n",
       "      <td>105000.00</td>\n",
       "      <td>NaN</td>\n",
       "      <td>33.0</td>\n",
       "      <td>NaN</td>\n",
       "      <td>3181.818182</td>\n",
       "      <td>1.0</td>\n",
       "      <td>1.0</td>\n",
       "      <td>NaN</td>\n",
       "      <td>http://belgrano.properati.com.ar/zsd5_venta_de...</td>\n",
       "      <td>-34.553897</td>\n",
       "      <td>-58.451939</td>\n",
       "      <td>Belgrano</td>\n",
       "    </tr>\n",
       "    <tr>\n",
       "      <th>17</th>\n",
       "      <td>sell</td>\n",
       "      <td>apartment</td>\n",
       "      <td>89681.0</td>\n",
       "      <td>USD</td>\n",
       "      <td>1359779.19</td>\n",
       "      <td>89681.00</td>\n",
       "      <td>46.0</td>\n",
       "      <td>39.0</td>\n",
       "      <td>1949.586957</td>\n",
       "      <td>2299.512821</td>\n",
       "      <td>NaN</td>\n",
       "      <td>1.0</td>\n",
       "      <td>1500.0</td>\n",
       "      <td>http://villa-del-parque.properati.com.ar/12q2f...</td>\n",
       "      <td>-34.628813</td>\n",
       "      <td>-58.472230</td>\n",
       "      <td>Villa del Parque</td>\n",
       "    </tr>\n",
       "  </tbody>\n",
       "</table>\n",
       "</div>"
      ],
      "text/plain": [
       "   operation property_type      price currency  price_aprox_local_currency  \\\n",
       "2       sell     apartment   215000.0      USD                  3259916.00   \n",
       "9       sell     apartment   341550.0      USD                  5178717.72   \n",
       "12      sell     apartment  1386000.0      ARS                  1382153.13   \n",
       "13      sell     apartment   105000.0      USD                  1592052.00   \n",
       "17      sell     apartment    89681.0      USD                  1359779.19   \n",
       "\n",
       "    price_aprox_usd  surface_total_in_m2  surface_covered_in_m2  \\\n",
       "2         215000.00                 40.0                   35.0   \n",
       "9         341550.00                  NaN                   90.0   \n",
       "12         91156.62                 39.0                   33.0   \n",
       "13        105000.00                  NaN                   33.0   \n",
       "17         89681.00                 46.0                   39.0   \n",
       "\n",
       "    price_usd_per_m2  price_per_m2  floor  rooms  expenses  \\\n",
       "2        5375.000000   6142.857143    NaN    1.0    3500.0   \n",
       "9                NaN   3795.000000    8.0    2.0       NaN   \n",
       "12       2337.349231  42000.000000    NaN    NaN       NaN   \n",
       "13               NaN   3181.818182    1.0    1.0       NaN   \n",
       "17       1949.586957   2299.512821    NaN    1.0    1500.0   \n",
       "\n",
       "                                        properati_url        lat        lon  \\\n",
       "2   http://recoleta.properati.com.ar/12j4v_venta_d... -34.588993 -58.400133   \n",
       "9   http://recoleta.properati.com.ar/100t0_venta_d... -34.588044 -58.398066   \n",
       "12  http://monserrat.properati.com.ar/t05l_venta_d... -34.623320 -58.397461   \n",
       "13  http://belgrano.properati.com.ar/zsd5_venta_de... -34.553897 -58.451939   \n",
       "17  http://villa-del-parque.properati.com.ar/12q2f... -34.628813 -58.472230   \n",
       "\n",
       "       neighbourhood  \n",
       "2           Recoleta  \n",
       "9           Recoleta  \n",
       "12         Monserrat  \n",
       "13          Belgrano  \n",
       "17  Villa del Parque  "
      ]
     },
     "execution_count": 7,
     "metadata": {},
     "output_type": "execute_result"
    }
   ],
   "source": [
    "frames[1].head()"
   ]
  },
  {
   "cell_type": "markdown",
   "id": "d4c99810",
   "metadata": {},
   "source": [
    "**Concatenating DataFrames**"
   ]
  },
  {
   "cell_type": "code",
   "execution_count": 8,
   "id": "6be4aaeb",
   "metadata": {},
   "outputs": [
    {
     "name": "stdout",
     "output_type": "stream",
     "text": [
      "<class 'pandas.core.frame.DataFrame'>\n",
      "RangeIndex: 6582 entries, 0 to 6581\n",
      "Data columns (total 17 columns):\n",
      " #   Column                      Non-Null Count  Dtype  \n",
      "---  ------                      --------------  -----  \n",
      " 0   operation                   6582 non-null   object \n",
      " 1   property_type               6582 non-null   object \n",
      " 2   price                       6582 non-null   float64\n",
      " 3   currency                    6582 non-null   object \n",
      " 4   price_aprox_local_currency  6582 non-null   float64\n",
      " 5   price_aprox_usd             6582 non-null   float64\n",
      " 6   surface_total_in_m2         4752 non-null   float64\n",
      " 7   surface_covered_in_m2       6582 non-null   float64\n",
      " 8   price_usd_per_m2            4536 non-null   float64\n",
      " 9   price_per_m2                6582 non-null   float64\n",
      " 10  floor                       1900 non-null   float64\n",
      " 11  rooms                       5286 non-null   float64\n",
      " 12  expenses                    1739 non-null   object \n",
      " 13  properati_url               6582 non-null   object \n",
      " 14  lat                         6316 non-null   float64\n",
      " 15  lon                         6316 non-null   float64\n",
      " 16  neighbourhood               6582 non-null   object \n",
      "dtypes: float64(11), object(6)\n",
      "memory usage: 874.3+ KB\n",
      "None\n"
     ]
    },
    {
     "data": {
      "text/html": [
       "<div>\n",
       "<style scoped>\n",
       "    .dataframe tbody tr th:only-of-type {\n",
       "        vertical-align: middle;\n",
       "    }\n",
       "\n",
       "    .dataframe tbody tr th {\n",
       "        vertical-align: top;\n",
       "    }\n",
       "\n",
       "    .dataframe thead th {\n",
       "        text-align: right;\n",
       "    }\n",
       "</style>\n",
       "<table border=\"1\" class=\"dataframe\">\n",
       "  <thead>\n",
       "    <tr style=\"text-align: right;\">\n",
       "      <th></th>\n",
       "      <th>operation</th>\n",
       "      <th>property_type</th>\n",
       "      <th>price</th>\n",
       "      <th>currency</th>\n",
       "      <th>price_aprox_local_currency</th>\n",
       "      <th>price_aprox_usd</th>\n",
       "      <th>surface_total_in_m2</th>\n",
       "      <th>surface_covered_in_m2</th>\n",
       "      <th>price_usd_per_m2</th>\n",
       "      <th>price_per_m2</th>\n",
       "      <th>floor</th>\n",
       "      <th>rooms</th>\n",
       "      <th>expenses</th>\n",
       "      <th>properati_url</th>\n",
       "      <th>lat</th>\n",
       "      <th>lon</th>\n",
       "      <th>neighbourhood</th>\n",
       "    </tr>\n",
       "  </thead>\n",
       "  <tbody>\n",
       "    <tr>\n",
       "      <th>0</th>\n",
       "      <td>sell</td>\n",
       "      <td>apartment</td>\n",
       "      <td>129000.0</td>\n",
       "      <td>USD</td>\n",
       "      <td>1955949.6</td>\n",
       "      <td>129000.0</td>\n",
       "      <td>76.0</td>\n",
       "      <td>70.0</td>\n",
       "      <td>1697.368421</td>\n",
       "      <td>1842.857143</td>\n",
       "      <td>NaN</td>\n",
       "      <td>NaN</td>\n",
       "      <td>NaN</td>\n",
       "      <td>http://chacarita.properati.com.ar/10qlv_venta_...</td>\n",
       "      <td>-34.584651</td>\n",
       "      <td>-58.454693</td>\n",
       "      <td>Chacarita</td>\n",
       "    </tr>\n",
       "    <tr>\n",
       "      <th>1</th>\n",
       "      <td>sell</td>\n",
       "      <td>apartment</td>\n",
       "      <td>87000.0</td>\n",
       "      <td>USD</td>\n",
       "      <td>1319128.8</td>\n",
       "      <td>87000.0</td>\n",
       "      <td>48.0</td>\n",
       "      <td>42.0</td>\n",
       "      <td>1812.500000</td>\n",
       "      <td>2071.428571</td>\n",
       "      <td>NaN</td>\n",
       "      <td>NaN</td>\n",
       "      <td>NaN</td>\n",
       "      <td>http://villa-luro.properati.com.ar/12m82_venta...</td>\n",
       "      <td>-34.638979</td>\n",
       "      <td>-58.500115</td>\n",
       "      <td>Villa Luro</td>\n",
       "    </tr>\n",
       "    <tr>\n",
       "      <th>2</th>\n",
       "      <td>sell</td>\n",
       "      <td>apartment</td>\n",
       "      <td>118000.0</td>\n",
       "      <td>USD</td>\n",
       "      <td>1789163.2</td>\n",
       "      <td>118000.0</td>\n",
       "      <td>NaN</td>\n",
       "      <td>54.0</td>\n",
       "      <td>NaN</td>\n",
       "      <td>2185.185185</td>\n",
       "      <td>NaN</td>\n",
       "      <td>2.0</td>\n",
       "      <td>NaN</td>\n",
       "      <td>http://caballito.properati.com.ar/11wqh_venta_...</td>\n",
       "      <td>-34.615847</td>\n",
       "      <td>-58.459957</td>\n",
       "      <td>Caballito</td>\n",
       "    </tr>\n",
       "    <tr>\n",
       "      <th>3</th>\n",
       "      <td>sell</td>\n",
       "      <td>apartment</td>\n",
       "      <td>57000.0</td>\n",
       "      <td>USD</td>\n",
       "      <td>864256.8</td>\n",
       "      <td>57000.0</td>\n",
       "      <td>42.0</td>\n",
       "      <td>42.0</td>\n",
       "      <td>1357.142857</td>\n",
       "      <td>1357.142857</td>\n",
       "      <td>5.0</td>\n",
       "      <td>2.0</td>\n",
       "      <td>364</td>\n",
       "      <td>http://constitucion.properati.com.ar/k2f0_vent...</td>\n",
       "      <td>-34.625222</td>\n",
       "      <td>-58.382382</td>\n",
       "      <td>Constitución</td>\n",
       "    </tr>\n",
       "    <tr>\n",
       "      <th>4</th>\n",
       "      <td>sell</td>\n",
       "      <td>apartment</td>\n",
       "      <td>90000.0</td>\n",
       "      <td>USD</td>\n",
       "      <td>1364616.0</td>\n",
       "      <td>90000.0</td>\n",
       "      <td>57.0</td>\n",
       "      <td>50.0</td>\n",
       "      <td>1578.947368</td>\n",
       "      <td>1800.000000</td>\n",
       "      <td>NaN</td>\n",
       "      <td>3.0</td>\n",
       "      <td>450</td>\n",
       "      <td>http://once.properati.com.ar/suwa_venta_depart...</td>\n",
       "      <td>-34.610610</td>\n",
       "      <td>-58.412511</td>\n",
       "      <td>Once</td>\n",
       "    </tr>\n",
       "  </tbody>\n",
       "</table>\n",
       "</div>"
      ],
      "text/plain": [
       "  operation property_type     price currency  price_aprox_local_currency  \\\n",
       "0      sell     apartment  129000.0      USD                   1955949.6   \n",
       "1      sell     apartment   87000.0      USD                   1319128.8   \n",
       "2      sell     apartment  118000.0      USD                   1789163.2   \n",
       "3      sell     apartment   57000.0      USD                    864256.8   \n",
       "4      sell     apartment   90000.0      USD                   1364616.0   \n",
       "\n",
       "   price_aprox_usd  surface_total_in_m2  surface_covered_in_m2  \\\n",
       "0         129000.0                 76.0                   70.0   \n",
       "1          87000.0                 48.0                   42.0   \n",
       "2         118000.0                  NaN                   54.0   \n",
       "3          57000.0                 42.0                   42.0   \n",
       "4          90000.0                 57.0                   50.0   \n",
       "\n",
       "   price_usd_per_m2  price_per_m2  floor  rooms expenses  \\\n",
       "0       1697.368421   1842.857143    NaN    NaN      NaN   \n",
       "1       1812.500000   2071.428571    NaN    NaN      NaN   \n",
       "2               NaN   2185.185185    NaN    2.0      NaN   \n",
       "3       1357.142857   1357.142857    5.0    2.0      364   \n",
       "4       1578.947368   1800.000000    NaN    3.0      450   \n",
       "\n",
       "                                       properati_url        lat        lon  \\\n",
       "0  http://chacarita.properati.com.ar/10qlv_venta_... -34.584651 -58.454693   \n",
       "1  http://villa-luro.properati.com.ar/12m82_venta... -34.638979 -58.500115   \n",
       "2  http://caballito.properati.com.ar/11wqh_venta_... -34.615847 -58.459957   \n",
       "3  http://constitucion.properati.com.ar/k2f0_vent... -34.625222 -58.382382   \n",
       "4  http://once.properati.com.ar/suwa_venta_depart... -34.610610 -58.412511   \n",
       "\n",
       "  neighbourhood  \n",
       "0     Chacarita  \n",
       "1    Villa Luro  \n",
       "2     Caballito  \n",
       "3  Constitución  \n",
       "4          Once  "
      ]
     },
     "execution_count": 8,
     "metadata": {},
     "output_type": "execute_result"
    }
   ],
   "source": [
    "df = pd.concat(frames, ignore_index=True)\n",
    "print(df.info())\n",
    "df.head()"
   ]
  },
  {
   "cell_type": "markdown",
   "id": "d6d1d4f5",
   "metadata": {},
   "source": [
    "## 1.2 Exploring Data"
   ]
  },
  {
   "cell_type": "markdown",
   "id": "8a0de59a",
   "metadata": {},
   "source": [
    "1. **Removing missing/Null values NaN**\n",
    "    * If a column has more than 50% null values, then it is better to drop it\n",
    "    \n",
    "2. **Low or High Cardinality Categorical Features**\n",
    "    * Low cardinality features have mostly unchanging values over the dataset. They are also called constants. They are unrequired and can be removed    \n",
    "        **NOTE: If there's only one category in a column, it won't provide any unique information to our model. At the other extreme, columns where nearly every row has its own category won't help our model in identifying useful trends in the data**\n",
    "\n",
    "3. **Leakage**\n",
    "    * Features that were created using our target or that would give our model information that it won't have access to when it's deployed. e.g. taking point-difference into consideration to predict win/loss probability\n",
    "    \n",
    "4. **Multicollinearity**\n",
    "    * Features in the feature matrix that are highly correlated with each other. A good way to detect this is by using a heatmap\n",
    "    * It is helpful when features are correlated to target vector. But when multiple features themselves are correlated, that can introduce a bias\n",
    "    * Multicollinearity is not a problem which must be avoided everytime. It is only a problem in certain contexts which depend on how the model is intended to be used. \n",
    "        * If the model is only concerned with performance metrics then multicollinearity is **NOT** a problem\n",
    "        * If the model explanability or interpretability is the issue, then multicollinearity **IS A PROBLEM**. If two features are highly correlated, the coefficients obtained after training the model can't be reliably attributed to individual features or the interaction between features.\n",
    "    "
   ]
  },
  {
   "cell_type": "code",
   "execution_count": 9,
   "id": "bf8729c3",
   "metadata": {},
   "outputs": [
    {
     "data": {
      "text/plain": [
       "operation                     0.000\n",
       "property_type                 0.000\n",
       "price                         0.000\n",
       "currency                      0.000\n",
       "price_aprox_local_currency    0.000\n",
       "price_aprox_usd               0.000\n",
       "surface_total_in_m2           0.278\n",
       "surface_covered_in_m2         0.000\n",
       "price_usd_per_m2              0.311\n",
       "price_per_m2                  0.000\n",
       "floor                         0.711\n",
       "rooms                         0.197\n",
       "expenses                      0.736\n",
       "properati_url                 0.000\n",
       "lat                           0.040\n",
       "lon                           0.040\n",
       "neighbourhood                 0.000\n",
       "dtype: float64"
      ]
     },
     "execution_count": 9,
     "metadata": {},
     "output_type": "execute_result"
    }
   ],
   "source": [
    "# Checking null values and normalising to check the percentage of missing values\n",
    "round(df.isnull().sum() / len(df),3)"
   ]
  },
  {
   "cell_type": "markdown",
   "id": "fb08d33d",
   "metadata": {},
   "source": [
    "It appears that floor and expenses columns have over 70% values missing. It is best to drop them"
   ]
  },
  {
   "cell_type": "markdown",
   "id": "405da292",
   "metadata": {},
   "source": [
    "**Looking at categorical features in DataFrame and checking unique values for cardinality**"
   ]
  },
  {
   "cell_type": "code",
   "execution_count": 10,
   "id": "040c7674",
   "metadata": {},
   "outputs": [
    {
     "data": {
      "text/html": [
       "<div>\n",
       "<style scoped>\n",
       "    .dataframe tbody tr th:only-of-type {\n",
       "        vertical-align: middle;\n",
       "    }\n",
       "\n",
       "    .dataframe tbody tr th {\n",
       "        vertical-align: top;\n",
       "    }\n",
       "\n",
       "    .dataframe thead th {\n",
       "        text-align: right;\n",
       "    }\n",
       "</style>\n",
       "<table border=\"1\" class=\"dataframe\">\n",
       "  <thead>\n",
       "    <tr style=\"text-align: right;\">\n",
       "      <th></th>\n",
       "      <th>operation</th>\n",
       "      <th>property_type</th>\n",
       "      <th>currency</th>\n",
       "      <th>expenses</th>\n",
       "      <th>properati_url</th>\n",
       "      <th>neighbourhood</th>\n",
       "    </tr>\n",
       "  </thead>\n",
       "  <tbody>\n",
       "    <tr>\n",
       "      <th>0</th>\n",
       "      <td>sell</td>\n",
       "      <td>apartment</td>\n",
       "      <td>USD</td>\n",
       "      <td>NaN</td>\n",
       "      <td>http://chacarita.properati.com.ar/10qlv_venta_...</td>\n",
       "      <td>Chacarita</td>\n",
       "    </tr>\n",
       "    <tr>\n",
       "      <th>1</th>\n",
       "      <td>sell</td>\n",
       "      <td>apartment</td>\n",
       "      <td>USD</td>\n",
       "      <td>NaN</td>\n",
       "      <td>http://villa-luro.properati.com.ar/12m82_venta...</td>\n",
       "      <td>Villa Luro</td>\n",
       "    </tr>\n",
       "    <tr>\n",
       "      <th>2</th>\n",
       "      <td>sell</td>\n",
       "      <td>apartment</td>\n",
       "      <td>USD</td>\n",
       "      <td>NaN</td>\n",
       "      <td>http://caballito.properati.com.ar/11wqh_venta_...</td>\n",
       "      <td>Caballito</td>\n",
       "    </tr>\n",
       "    <tr>\n",
       "      <th>3</th>\n",
       "      <td>sell</td>\n",
       "      <td>apartment</td>\n",
       "      <td>USD</td>\n",
       "      <td>364</td>\n",
       "      <td>http://constitucion.properati.com.ar/k2f0_vent...</td>\n",
       "      <td>Constitución</td>\n",
       "    </tr>\n",
       "    <tr>\n",
       "      <th>4</th>\n",
       "      <td>sell</td>\n",
       "      <td>apartment</td>\n",
       "      <td>USD</td>\n",
       "      <td>450</td>\n",
       "      <td>http://once.properati.com.ar/suwa_venta_depart...</td>\n",
       "      <td>Once</td>\n",
       "    </tr>\n",
       "  </tbody>\n",
       "</table>\n",
       "</div>"
      ],
      "text/plain": [
       "  operation property_type currency expenses  \\\n",
       "0      sell     apartment      USD      NaN   \n",
       "1      sell     apartment      USD      NaN   \n",
       "2      sell     apartment      USD      NaN   \n",
       "3      sell     apartment      USD      364   \n",
       "4      sell     apartment      USD      450   \n",
       "\n",
       "                                       properati_url neighbourhood  \n",
       "0  http://chacarita.properati.com.ar/10qlv_venta_...     Chacarita  \n",
       "1  http://villa-luro.properati.com.ar/12m82_venta...    Villa Luro  \n",
       "2  http://caballito.properati.com.ar/11wqh_venta_...     Caballito  \n",
       "3  http://constitucion.properati.com.ar/k2f0_vent...  Constitución  \n",
       "4  http://once.properati.com.ar/suwa_venta_depart...          Once  "
      ]
     },
     "execution_count": 10,
     "metadata": {},
     "output_type": "execute_result"
    }
   ],
   "source": [
    "# Isolating columns with categorical values. Categorical data is datatype object\n",
    "df.select_dtypes('object').head()"
   ]
  },
  {
   "cell_type": "code",
   "execution_count": 11,
   "id": "63498465",
   "metadata": {},
   "outputs": [
    {
     "data": {
      "text/plain": [
       "operation           1\n",
       "property_type       1\n",
       "currency            2\n",
       "expenses          354\n",
       "properati_url    6582\n",
       "neighbourhood      57\n",
       "dtype: int64"
      ]
     },
     "execution_count": 11,
     "metadata": {},
     "output_type": "execute_result"
    }
   ],
   "source": [
    "# Checking unique entries in categorical features columns\n",
    "df.select_dtypes('object').nunique()"
   ]
  },
  {
   "cell_type": "markdown",
   "id": "01084785",
   "metadata": {},
   "source": [
    "1. It can be seen that operation and property types have only one unique value. This is an example of **Low-Cardinality categorical feature**. It is best to remove them from model because they won't have any special bearing on final model\n",
    "2. Currency itself can be seen as Low Cardinality feature\n",
    "3. Property url is a **High Cardinality feature**. Every property has unique url, which makes sense. But this feature is not good for a linear model. So it can be dropped as well. Since each entry is a unique value, it won't give any information about the Trend\n",
    "4. Out of these categorical features, only Neighbourhood is worth incorporating in model. Others need to be dropped"
   ]
  },
  {
   "cell_type": "markdown",
   "id": "69c6027e",
   "metadata": {},
   "source": [
    "**Removing Leaky Features from Dataframe**"
   ]
  },
  {
   "cell_type": "code",
   "execution_count": 12,
   "id": "36b6d217",
   "metadata": {},
   "outputs": [
    {
     "data": {
      "text/plain": [
       "['currency',\n",
       " 'expenses',\n",
       " 'floor',\n",
       " 'lat',\n",
       " 'lon',\n",
       " 'neighbourhood',\n",
       " 'operation',\n",
       " 'price',\n",
       " 'price_aprox_local_currency',\n",
       " 'price_aprox_usd',\n",
       " 'price_per_m2',\n",
       " 'price_usd_per_m2',\n",
       " 'properati_url',\n",
       " 'property_type',\n",
       " 'rooms',\n",
       " 'surface_covered_in_m2',\n",
       " 'surface_total_in_m2']"
      ]
     },
     "execution_count": 12,
     "metadata": {},
     "output_type": "execute_result"
    }
   ],
   "source": [
    "# Checking leaky features in our Dataset\n",
    "sorted(df.columns)"
   ]
  },
  {
   "cell_type": "markdown",
   "id": "49090ee7",
   "metadata": {},
   "source": [
    "1. Everything related to price must be removed from dataset for modeling because we are ultimately predicting price of the apartment\n",
    "2. price','price_aprox_local_currency','price_per_m2','price_usd_per_m2' must be dropped to avoid leaky features from the apartment price prediction model\n",
    "3. 'price_aprox_usd' is our Target so it can not be removed**"
   ]
  },
  {
   "cell_type": "markdown",
   "id": "acf2a81a",
   "metadata": {},
   "source": [
    "**Multicollinearity Heatmap**\n",
    "Checking for highly correlated features"
   ]
  },
  {
   "cell_type": "code",
   "execution_count": 13,
   "id": "8cc7dcbd",
   "metadata": {},
   "outputs": [
    {
     "data": {
      "text/plain": [
       "<AxesSubplot:>"
      ]
     },
     "execution_count": 13,
     "metadata": {},
     "output_type": "execute_result"
    },
    {
     "data": {
      "image/png": "[encoded data removed]",
      "text/plain": [
       "<Figure size 432x288 with 2 Axes>"
      ]
     },
     "metadata": {
      "needs_background": "light"
     },
     "output_type": "display_data"
    }
   ],
   "source": [
    "# Creating a correlation heatmap for numerical features. Removing price_aprox_usd because it is the target vector\n",
    "corr = df.select_dtypes('number').drop(columns = 'price_aprox_usd').corr()\n",
    "sns.heatmap(corr)"
   ]
  },
  {
   "cell_type": "markdown",
   "id": "a13c0332",
   "metadata": {},
   "source": [
    "* The areas in purple and black don't appear to have any correlation\n",
    "* We do see strong correlation between number of rooms in a house and the size of the house.\n",
    "* We have 3 features which are highly correlated with each other, but we can only keep one out of 3 to avoid Multicollinearity issues.\n",
    "* Further investigation needs to be performed to decide which feature to keep and which ones to let go"
   ]
  },
  {
   "cell_type": "code",
   "execution_count": 14,
   "id": "b24ca01d",
   "metadata": {},
   "outputs": [
    {
     "name": "stdout",
     "output_type": "stream",
     "text": [
      "<class 'pandas.core.frame.DataFrame'>\n",
      "RangeIndex: 6582 entries, 0 to 6581\n",
      "Data columns (total 17 columns):\n",
      " #   Column                      Non-Null Count  Dtype  \n",
      "---  ------                      --------------  -----  \n",
      " 0   operation                   6582 non-null   object \n",
      " 1   property_type               6582 non-null   object \n",
      " 2   price                       6582 non-null   float64\n",
      " 3   currency                    6582 non-null   object \n",
      " 4   price_aprox_local_currency  6582 non-null   float64\n",
      " 5   price_aprox_usd             6582 non-null   float64\n",
      " 6   surface_total_in_m2         4752 non-null   float64\n",
      " 7   surface_covered_in_m2       6582 non-null   float64\n",
      " 8   price_usd_per_m2            4536 non-null   float64\n",
      " 9   price_per_m2                6582 non-null   float64\n",
      " 10  floor                       1900 non-null   float64\n",
      " 11  rooms                       5286 non-null   float64\n",
      " 12  expenses                    1739 non-null   object \n",
      " 13  properati_url               6582 non-null   object \n",
      " 14  lat                         6316 non-null   float64\n",
      " 15  lon                         6316 non-null   float64\n",
      " 16  neighbourhood               6582 non-null   object \n",
      "dtypes: float64(11), object(6)\n",
      "memory usage: 874.3+ KB\n"
     ]
    }
   ],
   "source": [
    "df.info()"
   ]
  },
  {
   "cell_type": "markdown",
   "id": "79093460",
   "metadata": {},
   "source": [
    "It makes sense to choose `surface_covered_in_m2` column over `rooms` and `surface_total_in_m2` columns because it has less missing values"
   ]
  },
  {
   "cell_type": "code",
   "execution_count": 15,
   "id": "4bc1ed99",
   "metadata": {},
   "outputs": [],
   "source": [
    "# modifying wrangle function to drop NaN columns, High-Low Cardinality features, Leakage, Multicollinearity\n",
    "\n",
    "def wrangle(filepath):\n",
    "    # Reading CSV file\n",
    "    df = pd.read_csv(filepath)\n",
    "\n",
    "    # Subsetting data: Apartments in \"Capital Federal\", less than 400,000\n",
    "    mask_ba = df[\"place_with_parent_names\"].str.contains(\"Capital Federal\")\n",
    "    mask_apt = df[\"property_type\"] == \"apartment\"\n",
    "    mask_price = df[\"price_aprox_usd\"] < 400_000\n",
    "    df = df[mask_ba & mask_apt & mask_price]\n",
    "\n",
    "    # Subsetting data: Remove outliers for \"surface_covered_in_m2\"\n",
    "    low, high = df[\"surface_covered_in_m2\"].quantile([0.1, 0.9])\n",
    "    mask_area = df[\"surface_covered_in_m2\"].between(low, high)\n",
    "    df = df[mask_area]\n",
    "\n",
    "    # Splitting \"lat-lon\" column\n",
    "    df[[\"lat\", \"lon\"]] = df[\"lat-lon\"].str.split(\",\", expand=True).astype(float)\n",
    "    df.drop(columns=\"lat-lon\", inplace=True)\n",
    "\n",
    "    # Getting place name\n",
    "    df[\"neighbourhood\"] = df[\"place_with_parent_names\"].str.split(\"|\", expand=True)[3]\n",
    "    df.drop(columns=\"place_with_parent_names\", inplace=True)\n",
    "\n",
    "    # Dropping features with high null counts\n",
    "    df.drop(columns = ['floor', 'expenses'], inplace = True)\n",
    "    \n",
    "    # Dropping low= and high-cardinality categorical variables\n",
    "    df.drop(columns = ['operation', 'property_type', 'currency', 'properati_url'], inplace = True)\n",
    "    \n",
    "    # Dropping leaky columns\n",
    "    df.drop(\n",
    "        columns = [\n",
    "            'price',\n",
    "            'price_aprox_local_currency',\n",
    "            'price_per_m2',\n",
    "            'price_usd_per_m2'\n",
    "        ], \n",
    "        inplace = True\n",
    "    )\n",
    "    \n",
    "    # Dropping columns with Multicollinearity issues\n",
    "    df.drop(columns = ['surface_total_in_m2','rooms'], inplace = True)\n",
    "    \n",
    "    return df"
   ]
  },
  {
   "cell_type": "code",
   "execution_count": 16,
   "id": "bbb9ec3d",
   "metadata": {},
   "outputs": [
    {
     "name": "stdout",
     "output_type": "stream",
     "text": [
      "<class 'pandas.core.frame.DataFrame'>\n",
      "RangeIndex: 6582 entries, 0 to 6581\n",
      "Data columns (total 5 columns):\n",
      " #   Column                 Non-Null Count  Dtype  \n",
      "---  ------                 --------------  -----  \n",
      " 0   price_aprox_usd        6582 non-null   float64\n",
      " 1   surface_covered_in_m2  6582 non-null   float64\n",
      " 2   lat                    6316 non-null   float64\n",
      " 3   lon                    6316 non-null   float64\n",
      " 4   neighbourhood          6582 non-null   object \n",
      "dtypes: float64(4), object(1)\n",
      "memory usage: 257.2+ KB\n",
      "None\n"
     ]
    },
    {
     "data": {
      "text/html": [
       "<div>\n",
       "<style scoped>\n",
       "    .dataframe tbody tr th:only-of-type {\n",
       "        vertical-align: middle;\n",
       "    }\n",
       "\n",
       "    .dataframe tbody tr th {\n",
       "        vertical-align: top;\n",
       "    }\n",
       "\n",
       "    .dataframe thead th {\n",
       "        text-align: right;\n",
       "    }\n",
       "</style>\n",
       "<table border=\"1\" class=\"dataframe\">\n",
       "  <thead>\n",
       "    <tr style=\"text-align: right;\">\n",
       "      <th></th>\n",
       "      <th>price_aprox_usd</th>\n",
       "      <th>surface_covered_in_m2</th>\n",
       "      <th>lat</th>\n",
       "      <th>lon</th>\n",
       "      <th>neighbourhood</th>\n",
       "    </tr>\n",
       "  </thead>\n",
       "  <tbody>\n",
       "    <tr>\n",
       "      <th>0</th>\n",
       "      <td>129000.0</td>\n",
       "      <td>70.0</td>\n",
       "      <td>-34.584651</td>\n",
       "      <td>-58.454693</td>\n",
       "      <td>Chacarita</td>\n",
       "    </tr>\n",
       "    <tr>\n",
       "      <th>1</th>\n",
       "      <td>87000.0</td>\n",
       "      <td>42.0</td>\n",
       "      <td>-34.638979</td>\n",
       "      <td>-58.500115</td>\n",
       "      <td>Villa Luro</td>\n",
       "    </tr>\n",
       "    <tr>\n",
       "      <th>2</th>\n",
       "      <td>118000.0</td>\n",
       "      <td>54.0</td>\n",
       "      <td>-34.615847</td>\n",
       "      <td>-58.459957</td>\n",
       "      <td>Caballito</td>\n",
       "    </tr>\n",
       "    <tr>\n",
       "      <th>3</th>\n",
       "      <td>57000.0</td>\n",
       "      <td>42.0</td>\n",
       "      <td>-34.625222</td>\n",
       "      <td>-58.382382</td>\n",
       "      <td>Constitución</td>\n",
       "    </tr>\n",
       "    <tr>\n",
       "      <th>4</th>\n",
       "      <td>90000.0</td>\n",
       "      <td>50.0</td>\n",
       "      <td>-34.610610</td>\n",
       "      <td>-58.412511</td>\n",
       "      <td>Once</td>\n",
       "    </tr>\n",
       "  </tbody>\n",
       "</table>\n",
       "</div>"
      ],
      "text/plain": [
       "   price_aprox_usd  surface_covered_in_m2        lat        lon neighbourhood\n",
       "0         129000.0                   70.0 -34.584651 -58.454693     Chacarita\n",
       "1          87000.0                   42.0 -34.638979 -58.500115    Villa Luro\n",
       "2         118000.0                   54.0 -34.615847 -58.459957     Caballito\n",
       "3          57000.0                   42.0 -34.625222 -58.382382  Constitución\n",
       "4          90000.0                   50.0 -34.610610 -58.412511          Once"
      ]
     },
     "execution_count": 16,
     "metadata": {},
     "output_type": "execute_result"
    }
   ],
   "source": [
    "files = glob('buenos-aires-real-estate-*.csv') # getting flies from glob\n",
    "df = pd.concat([wrangle(file) for file in files], ignore_index=True) # concatenating files from an empty list\n",
    "print(df.info())\n",
    "df.head()"
   ]
  },
  {
   "cell_type": "markdown",
   "id": "d4de94eb",
   "metadata": {},
   "source": [
    "**We are left with four useful features to build a model to predict apartment prices in Buenos Aires**"
   ]
  },
  {
   "cell_type": "markdown",
   "id": "c817f08b",
   "metadata": {},
   "source": [
    "## 1.3 Splitting Data"
   ]
  },
  {
   "cell_type": "code",
   "execution_count": 17,
   "id": "4f3f4803",
   "metadata": {},
   "outputs": [],
   "source": [
    "target = \"price_aprox_usd\"\n",
    "features = ['surface_covered_in_m2','lat','lon','neighbourhood']\n",
    "X_train = df[features]\n",
    "y_train = df[target]"
   ]
  },
  {
   "cell_type": "markdown",
   "id": "a8d01e77",
   "metadata": {},
   "source": [
    "# 2. Building Model\n",
    "## 2.1 Baselining"
   ]
  },
  {
   "cell_type": "code",
   "execution_count": 18,
   "id": "3b65b88e",
   "metadata": {},
   "outputs": [
    {
     "name": "stdout",
     "output_type": "stream",
     "text": [
      "Mean Apt. Price: 132383.84\n",
      "Baseline MAE: 44860.11\n"
     ]
    }
   ],
   "source": [
    "y_mean = round(y_train.mean(), 2)\n",
    "y_pred_baseline = [y_mean] * len(y_train)\n",
    "print('Mean Apt. Price:', y_mean)\n",
    "print('Baseline MAE:', round(mean_absolute_error(y_train, y_pred_baseline), 2))"
   ]
  },
  {
   "cell_type": "markdown",
   "id": "bd15c9f3",
   "metadata": {},
   "source": [
    "## 2.2 Iterating"
   ]
  },
  {
   "cell_type": "code",
   "execution_count": 19,
   "id": "5e2c79c6",
   "metadata": {},
   "outputs": [
    {
     "data": {
      "text/plain": [
       "Pipeline(steps=[('onehotencoder',\n",
       "                 OneHotEncoder(cols=['neighbourhood'], use_cat_names=True)),\n",
       "                ('simpleimputer', SimpleImputer()), ('ridge', Ridge())])"
      ]
     },
     "execution_count": 19,
     "metadata": {},
     "output_type": "execute_result"
    }
   ],
   "source": [
    "# Instantiating model with onehotencoder, simpleimputer and Ridge Regression Predictor components\n",
    "model = make_pipeline(\n",
    "    OneHotEncoder(use_cat_names=True),\n",
    "    SimpleImputer(),\n",
    "    Ridge()\n",
    ")\n",
    "\n",
    "# Fitting model to training data\n",
    "model.fit(X_train, y_train)"
   ]
  },
  {
   "cell_type": "markdown",
   "id": "89f17e35",
   "metadata": {},
   "source": [
    "## 2.3 Evaluating"
   ]
  },
  {
   "cell_type": "code",
   "execution_count": 20,
   "id": "aa51c069",
   "metadata": {},
   "outputs": [
    {
     "name": "stdout",
     "output_type": "stream",
     "text": [
      "Training MAE: 24207.11\n"
     ]
    }
   ],
   "source": [
    "# Checking how the model performed on training data\n",
    "y_pred_training = model.predict(X_train)\n",
    "print('Training MAE:', round(mean_absolute_error(y_train, y_pred_training), 2))"
   ]
  },
  {
   "cell_type": "markdown",
   "id": "6aa6fca1",
   "metadata": {},
   "source": [
    "### Running model on test data"
   ]
  },
  {
   "cell_type": "code",
   "execution_count": 21,
   "id": "f96fc9c6",
   "metadata": {},
   "outputs": [
    {
     "data": {
      "text/plain": [
       "0    231122.403569\n",
       "1    162572.942392\n",
       "2     68477.949626\n",
       "3     63521.438989\n",
       "4    105694.463885\n",
       "dtype: float64"
      ]
     },
     "execution_count": 21,
     "metadata": {},
     "output_type": "execute_result"
    }
   ],
   "source": [
    "X_test = pd.read_csv(\"buenos-aires-test-features.csv\")\n",
    "y_pred_test = pd.Series(model.predict(X_test))\n",
    "y_pred_test.head()"
   ]
  },
  {
   "cell_type": "markdown",
   "id": "f7ae0e33",
   "metadata": {},
   "source": [
    "# 3. Communicating Results"
   ]
  },
  {
   "cell_type": "markdown",
   "id": "0a1e009d",
   "metadata": {},
   "source": [
    "## 3.1 Deploying a Prediction Function\n",
    "A function can be created which takes in 4 arguments: area, latitude, longitude, neighbourhood, to return a text string to the user"
   ]
  },
  {
   "cell_type": "code",
   "execution_count": 22,
   "id": "788f7463",
   "metadata": {},
   "outputs": [],
   "source": [
    "# Creating a dictionary to pass information from user into our model for prediction\n",
    "def make_prediction(area, latitude, longitude, neighbourhood):\n",
    "    data = {\n",
    "        'surface_covered_in_m2': area,\n",
    "        'lat': latitude,\n",
    "        'lon': longitude,\n",
    "        'neighbourhood': neighbourhood\n",
    "    }\n",
    "    \n",
    "    # Putting the data gathered from user in a DataFrame for Prediction. Since it is only one row, therefore index is 0\n",
    "    df = pd.DataFrame(data, index =[0]) \n",
    "    \n",
    "    # Feeding data input by user into the model, rounding to 2 decimals and picking the first element in the list\n",
    "    prediction = model.predict(df).round(2)[0]\n",
    "    \n",
    "    return f'Predicted Apartment Price: ${prediction}'"
   ]
  },
  {
   "cell_type": "code",
   "execution_count": 23,
   "id": "69df75f8",
   "metadata": {},
   "outputs": [
    {
     "data": {
      "text/plain": [
       "'Predicted Apartment Price: $250775.11'"
      ]
     },
     "execution_count": 23,
     "metadata": {},
     "output_type": "execute_result"
    }
   ],
   "source": [
    "# Checking if the `make_prediction` function works\n",
    "make_prediction(110, -34.60, -58.46, \"Villa Crespo\")"
   ]
  },
  {
   "cell_type": "markdown",
   "id": "1d0f29e6",
   "metadata": {},
   "source": [
    "## 3.1 Deploying an Interactive Dashboard Minimum Viable Product (MVP)\n",
    "where a user can supply values and receive a prediction"
   ]
  },
  {
   "cell_type": "code",
   "execution_count": 25,
   "id": "fa434ef6",
   "metadata": {},
   "outputs": [
    {
     "data": {
      "application/vnd.jupyter.widget-view+json": {
       "model_id": "9d37a0404c98415fb84e1ddb26c36aac",
       "version_major": 2,
       "version_minor": 0
      },
      "text/plain": [
       "interactive(children=(IntSlider(value=53, description='area', max=101, min=30), FloatSlider(value=-34.59890626…"
      ]
     },
     "metadata": {},
     "output_type": "display_data"
    }
   ],
   "source": [
    "interact(\n",
    "    make_prediction,\n",
    "    area = IntSlider(\n",
    "        min = X_train[\"surface_covered_in_m2\"].min(),\n",
    "        max = X_train[\"surface_covered_in_m2\"].max(),\n",
    "        value = X_train[\"surface_covered_in_m2\"].mean(),\n",
    "    ),\n",
    "    latitude = FloatSlider(\n",
    "        min = X_train[\"lat\"].min(),\n",
    "        max = X_train[\"lat\"].max(),\n",
    "        step = 0.01,\n",
    "        value = X_train[\"lat\"].mean(),\n",
    "    ),\n",
    "    longitude = FloatSlider(\n",
    "        min = X_train[\"lon\"].min(),\n",
    "        max = X_train[\"lon\"].max(),\n",
    "        step = 0.01,\n",
    "        value = X_train[\"lon\"].mean(),\n",
    "    ),\n",
    "    neighbourhood = Dropdown(options = sorted(X_train[\"neighbourhood\"].unique())),\n",
    ");"
   ]
  },
  {
   "cell_type": "markdown",
   "id": "a13ca7da",
   "metadata": {},
   "source": [
    "**Scope for Further Improvements**\n",
    "1. Latitude and Longitude sliders are currently moving independently of Neighbourhood. Ideally, only those coordinates should be allowed to choose which fall within a particular Neighbourhood\n",
    "2. A visualisation like a map would also be helpful to see how prices are changing across the city"
   ]
  },
  {
   "cell_type": "code",
   "execution_count": null,
   "id": "c7ca3353",
   "metadata": {},
   "outputs": [],
   "source": []
  }
 ],
 "metadata": {
  "kernelspec": {
   "display_name": "Python 3 (ipykernel)",
   "language": "python",
   "name": "python3"
  },
  "language_info": {
   "codemirror_mode": {
    "name": "ipython",
    "version": 3
   },
   "file_extension": ".py",
   "mimetype": "text/x-python",
   "name": "python",
   "nbconvert_exporter": "python",
   "pygments_lexer": "ipython3",
   "version": "3.8.11"
  }
 },
 "nbformat": 4,
 "nbformat_minor": 5
}
