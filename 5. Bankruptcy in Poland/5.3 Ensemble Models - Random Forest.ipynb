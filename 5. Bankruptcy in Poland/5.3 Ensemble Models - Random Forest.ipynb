{
 "cells": [
  {
   "cell_type": "markdown",
   "id": "23d16a23-72af-4701-9296-13a62ba2bd6b",
   "metadata": {},
   "source": [
    "**SECTION OBJECTIVES**\n",
    "* Improving Bankruptcy Model using `RANDOM FOREST`\n",
    "* Evaluating model generalisability using `CROSS VALIDATION`\n",
    "* Hyperparamter Tuning using `GRID SEARCH`\n",
    "* Building `PREDICTION FUNCTION` on saved model\n",
    "\n",
    "**ML WORKFLOW**\n",
    "* PREPARING DATA\n",
    "    * Importing\n",
    "    * Exploring\n",
    "    * Splitting\n",
    "    * Resampling: `Over Sampling`\n",
    "* BUILDING MODEL\n",
    "    * Baselining\n",
    "    * Iterating: ensemble model, bagging (`Random Forest`), `Cross Validation`, `Grid Search`\n",
    "    * Evaluating: Confusion Matrix\n",
    "* COMMUNICATING RESULTS\n",
    "    * Feature Importances\n",
    "    * Saving model as a file\n",
    "    * Building `prediction` function"
   ]
  },
  {
   "cell_type": "code",
   "execution_count": 1,
   "id": "d29b71cf-d727-4dd0-a344-6fa62616fbc8",
   "metadata": {},
   "outputs": [],
   "source": [
    "# importing necessary libraries\n",
    "\n",
    "import json\n",
    "import pickle\n",
    "\n",
    "import matplotlib.pyplot as plt\n",
    "import pandas as pd\n",
    "\n",
    "from imblearn.over_sampling import RandomOverSampler\n",
    "\n",
    "from sklearn.ensemble import RandomForestClassifier # Predictor in this section\n",
    "from sklearn.impute import SimpleImputer\n",
    "from sklearn.metrics import ConfusionMatrixDisplay\n",
    "from sklearn.model_selection import GridSearchCV, cross_val_score, train_test_split # GridsearchCV for Hyperparameter Tuning, cross_val_score for Cross Validation\n",
    "from sklearn.pipeline import make_pipeline"
   ]
  },
  {
   "cell_type": "markdown",
   "id": "c09e9757-4265-46fc-8f34-c97101cc1d08",
   "metadata": {},
   "source": [
    "# 1. Preparing Data\n",
    "## 1.1 Importing Data"
   ]
  },
  {
   "cell_type": "code",
   "execution_count": 2,
   "id": "94161527-4d1c-4d33-9602-b8244ecd90b0",
   "metadata": {},
   "outputs": [],
   "source": [
    "def wrangle(filename):\n",
    "    # Opening json file and loading it into dictionary\n",
    "    with open(filename, 'r') as f:\n",
    "        data = json.load(f)\n",
    "    \n",
    "    # Loading dictionary into a DataFrame and setting index as `company_id`\n",
    "    df = pd.DataFrame().from_dict(data['data']).set_index('company_id')\n",
    "    \n",
    "    return df"
   ]
  },
  {
   "cell_type": "code",
   "execution_count": 3,
   "id": "441d6c91-de7d-4b4e-a18e-a473bc641e07",
   "metadata": {},
   "outputs": [
    {
     "name": "stdout",
     "output_type": "stream",
     "text": [
      "(9977, 65)\n"
     ]
    },
    {
     "data": {
      "text/html": [
       "<div>\n",
       "<style scoped>\n",
       "    .dataframe tbody tr th:only-of-type {\n",
       "        vertical-align: middle;\n",
       "    }\n",
       "\n",
       "    .dataframe tbody tr th {\n",
       "        vertical-align: top;\n",
       "    }\n",
       "\n",
       "    .dataframe thead th {\n",
       "        text-align: right;\n",
       "    }\n",
       "</style>\n",
       "<table border=\"1\" class=\"dataframe\">\n",
       "  <thead>\n",
       "    <tr style=\"text-align: right;\">\n",
       "      <th></th>\n",
       "      <th>feat_1</th>\n",
       "      <th>feat_2</th>\n",
       "      <th>feat_3</th>\n",
       "      <th>feat_4</th>\n",
       "      <th>feat_5</th>\n",
       "      <th>feat_6</th>\n",
       "      <th>feat_7</th>\n",
       "      <th>feat_8</th>\n",
       "      <th>feat_9</th>\n",
       "      <th>feat_10</th>\n",
       "      <th>...</th>\n",
       "      <th>feat_56</th>\n",
       "      <th>feat_57</th>\n",
       "      <th>feat_58</th>\n",
       "      <th>feat_59</th>\n",
       "      <th>feat_60</th>\n",
       "      <th>feat_61</th>\n",
       "      <th>feat_62</th>\n",
       "      <th>feat_63</th>\n",
       "      <th>feat_64</th>\n",
       "      <th>bankrupt</th>\n",
       "    </tr>\n",
       "    <tr>\n",
       "      <th>company_id</th>\n",
       "      <th></th>\n",
       "      <th></th>\n",
       "      <th></th>\n",
       "      <th></th>\n",
       "      <th></th>\n",
       "      <th></th>\n",
       "      <th></th>\n",
       "      <th></th>\n",
       "      <th></th>\n",
       "      <th></th>\n",
       "      <th></th>\n",
       "      <th></th>\n",
       "      <th></th>\n",
       "      <th></th>\n",
       "      <th></th>\n",
       "      <th></th>\n",
       "      <th></th>\n",
       "      <th></th>\n",
       "      <th></th>\n",
       "      <th></th>\n",
       "      <th></th>\n",
       "    </tr>\n",
       "  </thead>\n",
       "  <tbody>\n",
       "    <tr>\n",
       "      <th>1</th>\n",
       "      <td>0.174190</td>\n",
       "      <td>0.41299</td>\n",
       "      <td>0.14371</td>\n",
       "      <td>1.3480</td>\n",
       "      <td>-28.9820</td>\n",
       "      <td>0.60383</td>\n",
       "      <td>0.219460</td>\n",
       "      <td>1.12250</td>\n",
       "      <td>1.1961</td>\n",
       "      <td>0.46359</td>\n",
       "      <td>...</td>\n",
       "      <td>0.163960</td>\n",
       "      <td>0.375740</td>\n",
       "      <td>0.83604</td>\n",
       "      <td>0.000007</td>\n",
       "      <td>9.7145</td>\n",
       "      <td>6.2813</td>\n",
       "      <td>84.291</td>\n",
       "      <td>4.3303</td>\n",
       "      <td>4.0341</td>\n",
       "      <td>False</td>\n",
       "    </tr>\n",
       "    <tr>\n",
       "      <th>2</th>\n",
       "      <td>0.146240</td>\n",
       "      <td>0.46038</td>\n",
       "      <td>0.28230</td>\n",
       "      <td>1.6294</td>\n",
       "      <td>2.5952</td>\n",
       "      <td>0.00000</td>\n",
       "      <td>0.171850</td>\n",
       "      <td>1.17210</td>\n",
       "      <td>1.6018</td>\n",
       "      <td>0.53962</td>\n",
       "      <td>...</td>\n",
       "      <td>0.027516</td>\n",
       "      <td>0.271000</td>\n",
       "      <td>0.90108</td>\n",
       "      <td>0.000000</td>\n",
       "      <td>5.9882</td>\n",
       "      <td>4.1103</td>\n",
       "      <td>102.190</td>\n",
       "      <td>3.5716</td>\n",
       "      <td>5.9500</td>\n",
       "      <td>False</td>\n",
       "    </tr>\n",
       "    <tr>\n",
       "      <th>3</th>\n",
       "      <td>0.000595</td>\n",
       "      <td>0.22612</td>\n",
       "      <td>0.48839</td>\n",
       "      <td>3.1599</td>\n",
       "      <td>84.8740</td>\n",
       "      <td>0.19114</td>\n",
       "      <td>0.004572</td>\n",
       "      <td>2.98810</td>\n",
       "      <td>1.0077</td>\n",
       "      <td>0.67566</td>\n",
       "      <td>...</td>\n",
       "      <td>0.007639</td>\n",
       "      <td>0.000881</td>\n",
       "      <td>0.99236</td>\n",
       "      <td>0.000000</td>\n",
       "      <td>6.7742</td>\n",
       "      <td>3.7922</td>\n",
       "      <td>64.846</td>\n",
       "      <td>5.6287</td>\n",
       "      <td>4.4581</td>\n",
       "      <td>False</td>\n",
       "    </tr>\n",
       "    <tr>\n",
       "      <th>5</th>\n",
       "      <td>0.188290</td>\n",
       "      <td>0.41504</td>\n",
       "      <td>0.34231</td>\n",
       "      <td>1.9279</td>\n",
       "      <td>-58.2740</td>\n",
       "      <td>0.00000</td>\n",
       "      <td>0.233580</td>\n",
       "      <td>1.40940</td>\n",
       "      <td>1.3393</td>\n",
       "      <td>0.58496</td>\n",
       "      <td>...</td>\n",
       "      <td>0.176480</td>\n",
       "      <td>0.321880</td>\n",
       "      <td>0.82635</td>\n",
       "      <td>0.073039</td>\n",
       "      <td>2.5912</td>\n",
       "      <td>7.0756</td>\n",
       "      <td>100.540</td>\n",
       "      <td>3.6303</td>\n",
       "      <td>4.6375</td>\n",
       "      <td>False</td>\n",
       "    </tr>\n",
       "    <tr>\n",
       "      <th>6</th>\n",
       "      <td>0.182060</td>\n",
       "      <td>0.55615</td>\n",
       "      <td>0.32191</td>\n",
       "      <td>1.6045</td>\n",
       "      <td>16.3140</td>\n",
       "      <td>0.00000</td>\n",
       "      <td>0.182060</td>\n",
       "      <td>0.79808</td>\n",
       "      <td>1.8126</td>\n",
       "      <td>0.44385</td>\n",
       "      <td>...</td>\n",
       "      <td>0.555770</td>\n",
       "      <td>0.410190</td>\n",
       "      <td>0.46957</td>\n",
       "      <td>0.029421</td>\n",
       "      <td>8.4553</td>\n",
       "      <td>3.3488</td>\n",
       "      <td>107.240</td>\n",
       "      <td>3.4036</td>\n",
       "      <td>12.4540</td>\n",
       "      <td>False</td>\n",
       "    </tr>\n",
       "  </tbody>\n",
       "</table>\n",
       "<p>5 rows × 65 columns</p>\n",
       "</div>"
      ],
      "text/plain": [
       "              feat_1   feat_2   feat_3  feat_4   feat_5   feat_6    feat_7  \\\n",
       "company_id                                                                   \n",
       "1           0.174190  0.41299  0.14371  1.3480 -28.9820  0.60383  0.219460   \n",
       "2           0.146240  0.46038  0.28230  1.6294   2.5952  0.00000  0.171850   \n",
       "3           0.000595  0.22612  0.48839  3.1599  84.8740  0.19114  0.004572   \n",
       "5           0.188290  0.41504  0.34231  1.9279 -58.2740  0.00000  0.233580   \n",
       "6           0.182060  0.55615  0.32191  1.6045  16.3140  0.00000  0.182060   \n",
       "\n",
       "             feat_8  feat_9  feat_10  ...   feat_56   feat_57  feat_58  \\\n",
       "company_id                            ...                                \n",
       "1           1.12250  1.1961  0.46359  ...  0.163960  0.375740  0.83604   \n",
       "2           1.17210  1.6018  0.53962  ...  0.027516  0.271000  0.90108   \n",
       "3           2.98810  1.0077  0.67566  ...  0.007639  0.000881  0.99236   \n",
       "5           1.40940  1.3393  0.58496  ...  0.176480  0.321880  0.82635   \n",
       "6           0.79808  1.8126  0.44385  ...  0.555770  0.410190  0.46957   \n",
       "\n",
       "             feat_59  feat_60  feat_61  feat_62  feat_63  feat_64  bankrupt  \n",
       "company_id                                                                   \n",
       "1           0.000007   9.7145   6.2813   84.291   4.3303   4.0341     False  \n",
       "2           0.000000   5.9882   4.1103  102.190   3.5716   5.9500     False  \n",
       "3           0.000000   6.7742   3.7922   64.846   5.6287   4.4581     False  \n",
       "5           0.073039   2.5912   7.0756  100.540   3.6303   4.6375     False  \n",
       "6           0.029421   8.4553   3.3488  107.240   3.4036  12.4540     False  \n",
       "\n",
       "[5 rows x 65 columns]"
      ]
     },
     "execution_count": 3,
     "metadata": {},
     "output_type": "execute_result"
    }
   ],
   "source": [
    "# Running wrangle function\n",
    "df = wrangle('poland-bankruptcy-data-2009.json')\n",
    "print(df.shape)\n",
    "df.head()"
   ]
  },
  {
   "cell_type": "markdown",
   "id": "d6a5ad21-c2b1-4ca3-853e-9983b3be40c6",
   "metadata": {},
   "source": [
    "## 1.3 Splitting Data\n",
    "### Vertical Splitting"
   ]
  },
  {
   "cell_type": "code",
   "execution_count": 4,
   "id": "a955f2f6-5b31-4cdc-ba20-0abf2144c4b5",
   "metadata": {},
   "outputs": [
    {
     "name": "stdout",
     "output_type": "stream",
     "text": [
      "X shape: (9977, 64)\n",
      "y shape: (9977,)\n"
     ]
    }
   ],
   "source": [
    "target = 'bankrupt'\n",
    "X = df.drop(columns = target)\n",
    "y = df[target]\n",
    "\n",
    "print(\"X shape:\", X.shape)\n",
    "print(\"y shape:\", y.shape)"
   ]
  },
  {
   "cell_type": "markdown",
   "id": "9edaa930-9893-4f84-9647-8b350d2cdc51",
   "metadata": {},
   "source": [
    "### Horizontal Splitting (Randomised Train-Test Split)"
   ]
  },
  {
   "cell_type": "code",
   "execution_count": 5,
   "id": "6a7c2581-7c2a-408e-acad-9bbbfc50f556",
   "metadata": {},
   "outputs": [
    {
     "name": "stdout",
     "output_type": "stream",
     "text": [
      "X_train shape: (7981, 64)\n",
      "y_train shape: (7981,)\n",
      "X_test shape: (1996, 64)\n",
      "y_test shape: (1996,)\n"
     ]
    }
   ],
   "source": [
    "# Performing a randomised train-test split (80:20)\n",
    "X_train, X_test, y_train, y_test = train_test_split(\n",
    "    X, y, test_size = 0.2, random_state = 42\n",
    ")\n",
    "\n",
    "print(\"X_train shape:\", X_train.shape)\n",
    "print(\"y_train shape:\", y_train.shape)\n",
    "print(\"X_test shape:\", X_test.shape)\n",
    "print(\"y_test shape:\", y_test.shape)"
   ]
  },
  {
   "cell_type": "markdown",
   "id": "0505dfb9-d222-457a-afb4-e8def6414329",
   "metadata": {},
   "source": [
    "## 1.4 Resampling Data\n",
    "### Over-Sampling"
   ]
  },
  {
   "cell_type": "code",
   "execution_count": 6,
   "id": "572d287f-256c-4889-a9ff-d0200fbc8520",
   "metadata": {},
   "outputs": [
    {
     "name": "stdout",
     "output_type": "stream",
     "text": [
      "(15194, 64)\n"
     ]
    },
    {
     "data": {
      "text/html": [
       "<div>\n",
       "<style scoped>\n",
       "    .dataframe tbody tr th:only-of-type {\n",
       "        vertical-align: middle;\n",
       "    }\n",
       "\n",
       "    .dataframe tbody tr th {\n",
       "        vertical-align: top;\n",
       "    }\n",
       "\n",
       "    .dataframe thead th {\n",
       "        text-align: right;\n",
       "    }\n",
       "</style>\n",
       "<table border=\"1\" class=\"dataframe\">\n",
       "  <thead>\n",
       "    <tr style=\"text-align: right;\">\n",
       "      <th></th>\n",
       "      <th>feat_1</th>\n",
       "      <th>feat_2</th>\n",
       "      <th>feat_3</th>\n",
       "      <th>feat_4</th>\n",
       "      <th>feat_5</th>\n",
       "      <th>feat_6</th>\n",
       "      <th>feat_7</th>\n",
       "      <th>feat_8</th>\n",
       "      <th>feat_9</th>\n",
       "      <th>feat_10</th>\n",
       "      <th>...</th>\n",
       "      <th>feat_55</th>\n",
       "      <th>feat_56</th>\n",
       "      <th>feat_57</th>\n",
       "      <th>feat_58</th>\n",
       "      <th>feat_59</th>\n",
       "      <th>feat_60</th>\n",
       "      <th>feat_61</th>\n",
       "      <th>feat_62</th>\n",
       "      <th>feat_63</th>\n",
       "      <th>feat_64</th>\n",
       "    </tr>\n",
       "  </thead>\n",
       "  <tbody>\n",
       "    <tr>\n",
       "      <th>0</th>\n",
       "      <td>0.279320</td>\n",
       "      <td>0.053105</td>\n",
       "      <td>0.852030</td>\n",
       "      <td>17.0440</td>\n",
       "      <td>199.080</td>\n",
       "      <td>0.741770</td>\n",
       "      <td>0.353570</td>\n",
       "      <td>16.00600</td>\n",
       "      <td>1.2346</td>\n",
       "      <td>0.84997</td>\n",
       "      <td>...</td>\n",
       "      <td>52857.00</td>\n",
       "      <td>0.190040</td>\n",
       "      <td>0.328630</td>\n",
       "      <td>0.80996</td>\n",
       "      <td>0.00000</td>\n",
       "      <td>NaN</td>\n",
       "      <td>4.1858</td>\n",
       "      <td>11.002</td>\n",
       "      <td>33.1760</td>\n",
       "      <td>18.5720</td>\n",
       "    </tr>\n",
       "    <tr>\n",
       "      <th>1</th>\n",
       "      <td>0.001871</td>\n",
       "      <td>0.735120</td>\n",
       "      <td>0.156460</td>\n",
       "      <td>1.2269</td>\n",
       "      <td>-10.837</td>\n",
       "      <td>0.000000</td>\n",
       "      <td>0.002938</td>\n",
       "      <td>0.36032</td>\n",
       "      <td>1.4809</td>\n",
       "      <td>0.26488</td>\n",
       "      <td>...</td>\n",
       "      <td>440.02</td>\n",
       "      <td>0.014794</td>\n",
       "      <td>0.007064</td>\n",
       "      <td>0.99803</td>\n",
       "      <td>0.00000</td>\n",
       "      <td>7.4268</td>\n",
       "      <td>2.2925</td>\n",
       "      <td>169.960</td>\n",
       "      <td>2.1476</td>\n",
       "      <td>9.6185</td>\n",
       "    </tr>\n",
       "    <tr>\n",
       "      <th>2</th>\n",
       "      <td>0.113940</td>\n",
       "      <td>0.490250</td>\n",
       "      <td>0.077121</td>\n",
       "      <td>1.2332</td>\n",
       "      <td>-43.184</td>\n",
       "      <td>-0.000171</td>\n",
       "      <td>0.113940</td>\n",
       "      <td>1.03980</td>\n",
       "      <td>1.1649</td>\n",
       "      <td>0.50975</td>\n",
       "      <td>...</td>\n",
       "      <td>4617.40</td>\n",
       "      <td>0.214890</td>\n",
       "      <td>0.223520</td>\n",
       "      <td>0.78761</td>\n",
       "      <td>0.27412</td>\n",
       "      <td>6.2791</td>\n",
       "      <td>6.1622</td>\n",
       "      <td>103.630</td>\n",
       "      <td>3.5220</td>\n",
       "      <td>1.9673</td>\n",
       "    </tr>\n",
       "    <tr>\n",
       "      <th>3</th>\n",
       "      <td>0.008136</td>\n",
       "      <td>0.652610</td>\n",
       "      <td>0.148120</td>\n",
       "      <td>1.2628</td>\n",
       "      <td>29.071</td>\n",
       "      <td>0.000000</td>\n",
       "      <td>0.008136</td>\n",
       "      <td>0.53230</td>\n",
       "      <td>1.2891</td>\n",
       "      <td>0.34739</td>\n",
       "      <td>...</td>\n",
       "      <td>920.98</td>\n",
       "      <td>0.045169</td>\n",
       "      <td>0.023421</td>\n",
       "      <td>0.99434</td>\n",
       "      <td>0.14403</td>\n",
       "      <td>22.7480</td>\n",
       "      <td>2.2673</td>\n",
       "      <td>159.580</td>\n",
       "      <td>2.2872</td>\n",
       "      <td>4.4718</td>\n",
       "    </tr>\n",
       "    <tr>\n",
       "      <th>4</th>\n",
       "      <td>0.045396</td>\n",
       "      <td>0.279640</td>\n",
       "      <td>0.708730</td>\n",
       "      <td>3.7656</td>\n",
       "      <td>238.120</td>\n",
       "      <td>0.000000</td>\n",
       "      <td>0.056710</td>\n",
       "      <td>2.57610</td>\n",
       "      <td>1.0169</td>\n",
       "      <td>0.72036</td>\n",
       "      <td>...</td>\n",
       "      <td>10744.00</td>\n",
       "      <td>0.047501</td>\n",
       "      <td>0.063019</td>\n",
       "      <td>0.94624</td>\n",
       "      <td>0.00000</td>\n",
       "      <td>13.8860</td>\n",
       "      <td>49.0660</td>\n",
       "      <td>91.984</td>\n",
       "      <td>3.9681</td>\n",
       "      <td>29.0460</td>\n",
       "    </tr>\n",
       "  </tbody>\n",
       "</table>\n",
       "<p>5 rows × 64 columns</p>\n",
       "</div>"
      ],
      "text/plain": [
       "     feat_1    feat_2    feat_3   feat_4   feat_5    feat_6    feat_7  \\\n",
       "0  0.279320  0.053105  0.852030  17.0440  199.080  0.741770  0.353570   \n",
       "1  0.001871  0.735120  0.156460   1.2269  -10.837  0.000000  0.002938   \n",
       "2  0.113940  0.490250  0.077121   1.2332  -43.184 -0.000171  0.113940   \n",
       "3  0.008136  0.652610  0.148120   1.2628   29.071  0.000000  0.008136   \n",
       "4  0.045396  0.279640  0.708730   3.7656  238.120  0.000000  0.056710   \n",
       "\n",
       "     feat_8  feat_9  feat_10  ...   feat_55   feat_56   feat_57  feat_58  \\\n",
       "0  16.00600  1.2346  0.84997  ...  52857.00  0.190040  0.328630  0.80996   \n",
       "1   0.36032  1.4809  0.26488  ...    440.02  0.014794  0.007064  0.99803   \n",
       "2   1.03980  1.1649  0.50975  ...   4617.40  0.214890  0.223520  0.78761   \n",
       "3   0.53230  1.2891  0.34739  ...    920.98  0.045169  0.023421  0.99434   \n",
       "4   2.57610  1.0169  0.72036  ...  10744.00  0.047501  0.063019  0.94624   \n",
       "\n",
       "   feat_59  feat_60  feat_61  feat_62  feat_63  feat_64  \n",
       "0  0.00000      NaN   4.1858   11.002  33.1760  18.5720  \n",
       "1  0.00000   7.4268   2.2925  169.960   2.1476   9.6185  \n",
       "2  0.27412   6.2791   6.1622  103.630   3.5220   1.9673  \n",
       "3  0.14403  22.7480   2.2673  159.580   2.2872   4.4718  \n",
       "4  0.00000  13.8860  49.0660   91.984   3.9681  29.0460  \n",
       "\n",
       "[5 rows x 64 columns]"
      ]
     },
     "execution_count": 6,
     "metadata": {},
     "output_type": "execute_result"
    }
   ],
   "source": [
    "over_sampler = RandomOverSampler(random_state=42)\n",
    "X_train_over, y_train_over = over_sampler.fit_resample(X_train, y_train)\n",
    "\n",
    "print(X_train_over.shape)\n",
    "X_train_over.head()"
   ]
  },
  {
   "cell_type": "markdown",
   "id": "032fb762-62ec-4c73-99e9-f023105e5840",
   "metadata": {},
   "source": [
    "# 2. Building Model\n",
    "## 2.1 Baselining"
   ]
  },
  {
   "cell_type": "markdown",
   "id": "840af293-8a99-4a8e-9973-0dd5cc88c937",
   "metadata": {},
   "source": [
    "### Baseline Accuracy Score"
   ]
  },
  {
   "cell_type": "code",
   "execution_count": 7,
   "id": "9ebe8fe8-6d12-4a5e-b4cd-4b6fb53e5812",
   "metadata": {},
   "outputs": [
    {
     "name": "stdout",
     "output_type": "stream",
     "text": [
      "Baseline Accuracy: 0.9519\n"
     ]
    }
   ],
   "source": [
    "acc_baseline = y_train.value_counts(normalize=True).max()\n",
    "print(\"Baseline Accuracy:\", round(acc_baseline, 4))"
   ]
  },
  {
   "cell_type": "markdown",
   "id": "354eb641-d464-4fbf-93bd-66a25b07d8b1",
   "metadata": {},
   "source": [
    "## 2.2 Iterating\n",
    "### Random Forest\n",
    "* Instead of building single models that predict a single outcome, it is possible to have a more trustworthy prediction by using more than one model simultaneously\n",
    "* **Ensemble models** work by building multiple models on random subsets of the same data, and then comparing their predictions to make a final prediction\n",
    "* A collection or ensemble of decision trees is called a **RANDOM FOREST**\n",
    "* RANDOM FOREST employs a technique called **BAGGING** which means fitting multiple models (trained in parallel) on random subsets of data\n",
    "    * A forest of decision trees is created\n",
    "    * When it is time to make a prediction, each tree will cast its vote and the class with most votes becomes the final prediction\n",
    "    * These multiple decision trees in a random forest model won't be given access to all features, only a random subset of features (sq. root of total features, 8 in our case)\n",
    "    * By default the number of decision trees in a scikit random forest model is 100 `n_estimators`\n",
    "    * After the decision trees have been trained, they need to decide whether a company would go bankrupt or not\n",
    "    * Each tree gets a vote, and the final prediction would be the category that gets the most votes\n",
    "    * Training occurs in parallel, which speeds up the process"
   ]
  },
  {
   "cell_type": "code",
   "execution_count": 8,
   "id": "66f70a49-a56a-4a1e-9260-48995b51893d",
   "metadata": {},
   "outputs": [
    {
     "name": "stdout",
     "output_type": "stream",
     "text": [
      "Pipeline(steps=[('simpleimputer', SimpleImputer()),\n",
      "                ('randomforestclassifier',\n",
      "                 RandomForestClassifier(random_state=42))])\n"
     ]
    }
   ],
   "source": [
    "# Creating a classifier which uses Random Forest\n",
    "clf = make_pipeline(\n",
    "    SimpleImputer(),  # Not specifying the imputation\n",
    "    RandomForestClassifier(random_state = 42)\n",
    ")\n",
    "print(clf)"
   ]
  },
  {
   "cell_type": "markdown",
   "id": "c3a5622b-9c5f-44db-95c9-1d8c3c4a565e",
   "metadata": {},
   "source": [
    "### Cross-Validation (K-fold)\n",
    "* This is a way to tune Hyperparameters without creating a Validation set\n",
    "* Creating a separate Validation set hurts performance as it deprives us of precious data points\n",
    "* `K` in K-fold Cross Validation refers to the number of folds to divide the data into. By default K is usually 5 (`cv` parameter)\n",
    "* One of these folds is set aside as temporary validation set, and the remaining folds are used for training. Accuracy score is calculated\n",
    "* This process is repeated taking each fold as temporary validation set\n",
    "* In total there would be K accuracy scores. If the accuracy scores are close to each other, that means the model generalises well\n",
    "* Generally Cross-Validation occurs when tuning hyperparameters, using a `cv` argument in hyperparameter search. It is being done separately here to get a feel for it\n",
    "* `n_jobs` implies the number of parallel computations to be performed. -1 means as many as possible"
   ]
  },
  {
   "cell_type": "code",
   "execution_count": 9,
   "id": "64a31ef8-c50e-44b8-aa12-aab287dcd35e",
   "metadata": {},
   "outputs": [
    {
     "name": "stdout",
     "output_type": "stream",
     "text": [
      "[0.99670944 0.99835472 0.99769661 0.9970385  0.99901251]\n"
     ]
    }
   ],
   "source": [
    "cv_acc_scores = cross_val_score(clf, X_train_over, y_train_over, cv = 5, n_jobs = -1 )\n",
    "print(cv_acc_scores)"
   ]
  },
  {
   "cell_type": "markdown",
   "id": "4fd803a1-c41c-4e8e-b859-cbd098dbbd88",
   "metadata": {},
   "source": [
    "* All Accuracy Scores are around 0.99. Much better performance than a single decision tree model\n",
    "* All these scores are fairly close to each other, which means this model might be able to generalise well"
   ]
  },
  {
   "cell_type": "markdown",
   "id": "ad048376-53d5-4721-939b-ee5ffe23c03c",
   "metadata": {},
   "source": [
    "### Parameter Grid\n",
    "* Creating a dictionary with the range of hyperparameters to be evaluated for our classifier.\n",
    "    * For the SimpleImputer, trying both the \"mean\" and \"median\" strategies.\n",
    "    * For the RandomForestClassifier, experimenting max_depth settings between 10 and 50, by steps of 5.\n",
    "    * For the RandomForestClassifier, trying n_estimators settings between 20 and 100 by steps of 10.\n",
    "* Imagine a 3-D grid of dimensions 2 x 8 x 8, that's the number of combination of hyperparameters which would be tested for optimal selection\n",
    "    * simpleimputer * max_depth * n_estimators"
   ]
  },
  {
   "cell_type": "code",
   "execution_count": 15,
   "id": "97bbf96c-543d-4163-9b58-3e4f5109614b",
   "metadata": {},
   "outputs": [
    {
     "data": {
      "text/plain": [
       "{'simpleimputer__strategy': ['mean', 'median'],\n",
       " 'randomforestclassifier__n_estimators': range(20, 100, 10),\n",
       " 'randomforestclassifier__max_depth': range(10, 50, 5)}"
      ]
     },
     "execution_count": 15,
     "metadata": {},
     "output_type": "execute_result"
    }
   ],
   "source": [
    "# Creating a dictionary `params`\n",
    "params = {\n",
    "    'simpleimputer__strategy': ['mean','median'],\n",
    "    'randomforestclassifier__n_estimators': range(20,100,10),\n",
    "    'randomforestclassifier__max_depth': range(10,50,5)\n",
    "}\n",
    "params"
   ]
  },
  {
   "cell_type": "markdown",
   "id": "f158f3a6-6b19-45f5-9b5a-9244f092c12f",
   "metadata": {},
   "source": [
    "### Grid Search\n",
    "* Creating a model `GridSearchCV` that includes classifier and hyperparameter grid. Setting verbose to 1"
   ]
  },
  {
   "cell_type": "code",
   "execution_count": 16,
   "id": "c13ba8b3-d869-4ec8-8bfd-c7db94168917",
   "metadata": {},
   "outputs": [
    {
     "data": {
      "text/plain": [
       "GridSearchCV(cv=5,\n",
       "             estimator=Pipeline(steps=[('simpleimputer', SimpleImputer()),\n",
       "                                       ('randomforestclassifier',\n",
       "                                        RandomForestClassifier(random_state=42))]),\n",
       "             n_jobs=-1,\n",
       "             param_grid={'randomforestclassifier__max_depth': range(10, 50, 5),\n",
       "                         'randomforestclassifier__n_estimators': range(20, 100, 10),\n",
       "                         'simpleimputer__strategy': ['mean', 'median']},\n",
       "             verbose=1)"
      ]
     },
     "execution_count": 16,
     "metadata": {},
     "output_type": "execute_result"
    }
   ],
   "source": [
    "model = GridSearchCV(\n",
    "    clf, # Classifier\n",
    "    param_grid=params, # Hyperparamter dictionary \n",
    "    cv = 5, # Cross-Validation Folds\n",
    "    n_jobs = -1, # Number of parallel jobs. All power possible\n",
    "    verbose = 1 # Output to describe how training process is going\n",
    ")\n",
    "model"
   ]
  },
  {
   "cell_type": "markdown",
   "id": "b6e50912-1165-4362-86b1-8aa2b1580167",
   "metadata": {},
   "source": [
    "### Fitting Model to over-sampled training data"
   ]
  },
  {
   "cell_type": "code",
   "execution_count": 17,
   "id": "a38a6609-c7db-4a76-a7ac-1023028e47d3",
   "metadata": {},
   "outputs": [
    {
     "name": "stdout",
     "output_type": "stream",
     "text": [
      "Fitting 5 folds for each of 128 candidates, totalling 640 fits\n"
     ]
    },
    {
     "data": {
      "text/plain": [
       "GridSearchCV(cv=5,\n",
       "             estimator=Pipeline(steps=[('simpleimputer', SimpleImputer()),\n",
       "                                       ('randomforestclassifier',\n",
       "                                        RandomForestClassifier(random_state=42))]),\n",
       "             n_jobs=-1,\n",
       "             param_grid={'randomforestclassifier__max_depth': range(10, 50, 5),\n",
       "                         'randomforestclassifier__n_estimators': range(20, 100, 10),\n",
       "                         'simpleimputer__strategy': ['mean', 'median']},\n",
       "             verbose=1)"
      ]
     },
     "execution_count": 17,
     "metadata": {},
     "output_type": "execute_result"
    }
   ],
   "source": [
    "# Training model\n",
    "model.fit(X_train_over, y_train_over)"
   ]
  },
  {
   "cell_type": "markdown",
   "id": "c2be114b-0dc5-4583-aa92-ccf4cf891c71",
   "metadata": {
    "tags": []
   },
   "source": [
    "### Grid Search CV Results\n",
    "* Extracting cross-validation results from model and loading them into DataFrame named `cv_results`"
   ]
  },
  {
   "cell_type": "code",
   "execution_count": 19,
   "id": "82c26ace-89db-441f-b09a-46345e24cfd7",
   "metadata": {},
   "outputs": [
    {
     "data": {
      "text/plain": [
       "dict"
      ]
     },
     "execution_count": 19,
     "metadata": {},
     "output_type": "execute_result"
    }
   ],
   "source": [
    "# Checking results data type from grid search \n",
    "type(model.cv_results_)"
   ]
  },
  {
   "cell_type": "code",
   "execution_count": 28,
   "id": "0e137448-8275-4aa0-96e1-5cdbc290ae4e",
   "metadata": {},
   "outputs": [
    {
     "data": {
      "text/html": [
       "<div>\n",
       "<style scoped>\n",
       "    .dataframe tbody tr th:only-of-type {\n",
       "        vertical-align: middle;\n",
       "    }\n",
       "\n",
       "    .dataframe tbody tr th {\n",
       "        vertical-align: top;\n",
       "    }\n",
       "\n",
       "    .dataframe thead th {\n",
       "        text-align: right;\n",
       "    }\n",
       "</style>\n",
       "<table border=\"1\" class=\"dataframe\">\n",
       "  <thead>\n",
       "    <tr style=\"text-align: right;\">\n",
       "      <th></th>\n",
       "      <th>mean_fit_time</th>\n",
       "      <th>std_fit_time</th>\n",
       "      <th>mean_score_time</th>\n",
       "      <th>std_score_time</th>\n",
       "      <th>param_randomforestclassifier__max_depth</th>\n",
       "      <th>param_randomforestclassifier__n_estimators</th>\n",
       "      <th>param_simpleimputer__strategy</th>\n",
       "      <th>params</th>\n",
       "      <th>split0_test_score</th>\n",
       "      <th>split1_test_score</th>\n",
       "      <th>split2_test_score</th>\n",
       "      <th>split3_test_score</th>\n",
       "      <th>split4_test_score</th>\n",
       "      <th>mean_test_score</th>\n",
       "      <th>std_test_score</th>\n",
       "      <th>rank_test_score</th>\n",
       "    </tr>\n",
       "  </thead>\n",
       "  <tbody>\n",
       "    <tr>\n",
       "      <th>0</th>\n",
       "      <td>1.115372</td>\n",
       "      <td>0.078341</td>\n",
       "      <td>0.020141</td>\n",
       "      <td>0.001297</td>\n",
       "      <td>10</td>\n",
       "      <td>20</td>\n",
       "      <td>mean</td>\n",
       "      <td>{'randomforestclassifier__max_depth': 10, 'ran...</td>\n",
       "      <td>0.976308</td>\n",
       "      <td>0.977953</td>\n",
       "      <td>0.976637</td>\n",
       "      <td>0.979599</td>\n",
       "      <td>0.980579</td>\n",
       "      <td>0.978215</td>\n",
       "      <td>0.001655</td>\n",
       "      <td>123</td>\n",
       "    </tr>\n",
       "    <tr>\n",
       "      <th>1</th>\n",
       "      <td>1.315294</td>\n",
       "      <td>0.075128</td>\n",
       "      <td>0.020272</td>\n",
       "      <td>0.003850</td>\n",
       "      <td>10</td>\n",
       "      <td>20</td>\n",
       "      <td>median</td>\n",
       "      <td>{'randomforestclassifier__max_depth': 10, 'ran...</td>\n",
       "      <td>0.975979</td>\n",
       "      <td>0.968411</td>\n",
       "      <td>0.976308</td>\n",
       "      <td>0.970385</td>\n",
       "      <td>0.976959</td>\n",
       "      <td>0.973608</td>\n",
       "      <td>0.003508</td>\n",
       "      <td>128</td>\n",
       "    </tr>\n",
       "    <tr>\n",
       "      <th>2</th>\n",
       "      <td>1.761969</td>\n",
       "      <td>0.103680</td>\n",
       "      <td>0.026708</td>\n",
       "      <td>0.003029</td>\n",
       "      <td>10</td>\n",
       "      <td>30</td>\n",
       "      <td>mean</td>\n",
       "      <td>{'randomforestclassifier__max_depth': 10, 'ran...</td>\n",
       "      <td>0.979599</td>\n",
       "      <td>0.977624</td>\n",
       "      <td>0.979269</td>\n",
       "      <td>0.982231</td>\n",
       "      <td>0.983213</td>\n",
       "      <td>0.980387</td>\n",
       "      <td>0.002044</td>\n",
       "      <td>119</td>\n",
       "    </tr>\n",
       "    <tr>\n",
       "      <th>3</th>\n",
       "      <td>1.876279</td>\n",
       "      <td>0.101286</td>\n",
       "      <td>0.029827</td>\n",
       "      <td>0.006010</td>\n",
       "      <td>10</td>\n",
       "      <td>30</td>\n",
       "      <td>median</td>\n",
       "      <td>{'randomforestclassifier__max_depth': 10, 'ran...</td>\n",
       "      <td>0.979928</td>\n",
       "      <td>0.970714</td>\n",
       "      <td>0.978611</td>\n",
       "      <td>0.973676</td>\n",
       "      <td>0.979592</td>\n",
       "      <td>0.976504</td>\n",
       "      <td>0.003667</td>\n",
       "      <td>126</td>\n",
       "    </tr>\n",
       "    <tr>\n",
       "      <th>4</th>\n",
       "      <td>2.455465</td>\n",
       "      <td>0.063479</td>\n",
       "      <td>0.033545</td>\n",
       "      <td>0.006044</td>\n",
       "      <td>10</td>\n",
       "      <td>40</td>\n",
       "      <td>mean</td>\n",
       "      <td>{'randomforestclassifier__max_depth': 10, 'ran...</td>\n",
       "      <td>0.981244</td>\n",
       "      <td>0.979599</td>\n",
       "      <td>0.979928</td>\n",
       "      <td>0.984205</td>\n",
       "      <td>0.984858</td>\n",
       "      <td>0.981967</td>\n",
       "      <td>0.002175</td>\n",
       "      <td>115</td>\n",
       "    </tr>\n",
       "    <tr>\n",
       "      <th>5</th>\n",
       "      <td>2.459189</td>\n",
       "      <td>0.081131</td>\n",
       "      <td>0.030956</td>\n",
       "      <td>0.004113</td>\n",
       "      <td>10</td>\n",
       "      <td>40</td>\n",
       "      <td>median</td>\n",
       "      <td>{'randomforestclassifier__max_depth': 10, 'ran...</td>\n",
       "      <td>0.979269</td>\n",
       "      <td>0.971372</td>\n",
       "      <td>0.976308</td>\n",
       "      <td>0.976308</td>\n",
       "      <td>0.978604</td>\n",
       "      <td>0.976372</td>\n",
       "      <td>0.002771</td>\n",
       "      <td>127</td>\n",
       "    </tr>\n",
       "    <tr>\n",
       "      <th>6</th>\n",
       "      <td>3.063210</td>\n",
       "      <td>0.184771</td>\n",
       "      <td>0.040810</td>\n",
       "      <td>0.002029</td>\n",
       "      <td>10</td>\n",
       "      <td>50</td>\n",
       "      <td>mean</td>\n",
       "      <td>{'randomforestclassifier__max_depth': 10, 'ran...</td>\n",
       "      <td>0.983218</td>\n",
       "      <td>0.979599</td>\n",
       "      <td>0.978282</td>\n",
       "      <td>0.984534</td>\n",
       "      <td>0.983871</td>\n",
       "      <td>0.981901</td>\n",
       "      <td>0.002488</td>\n",
       "      <td>116</td>\n",
       "    </tr>\n",
       "    <tr>\n",
       "      <th>7</th>\n",
       "      <td>3.239086</td>\n",
       "      <td>0.176785</td>\n",
       "      <td>0.039138</td>\n",
       "      <td>0.002999</td>\n",
       "      <td>10</td>\n",
       "      <td>50</td>\n",
       "      <td>median</td>\n",
       "      <td>{'randomforestclassifier__max_depth': 10, 'ran...</td>\n",
       "      <td>0.980257</td>\n",
       "      <td>0.971043</td>\n",
       "      <td>0.978940</td>\n",
       "      <td>0.978282</td>\n",
       "      <td>0.977617</td>\n",
       "      <td>0.977228</td>\n",
       "      <td>0.003213</td>\n",
       "      <td>125</td>\n",
       "    </tr>\n",
       "    <tr>\n",
       "      <th>8</th>\n",
       "      <td>3.679787</td>\n",
       "      <td>0.105170</td>\n",
       "      <td>0.052829</td>\n",
       "      <td>0.008636</td>\n",
       "      <td>10</td>\n",
       "      <td>60</td>\n",
       "      <td>mean</td>\n",
       "      <td>{'randomforestclassifier__max_depth': 10, 'ran...</td>\n",
       "      <td>0.982560</td>\n",
       "      <td>0.978611</td>\n",
       "      <td>0.976966</td>\n",
       "      <td>0.984863</td>\n",
       "      <td>0.984529</td>\n",
       "      <td>0.981506</td>\n",
       "      <td>0.003178</td>\n",
       "      <td>117</td>\n",
       "    </tr>\n",
       "    <tr>\n",
       "      <th>9</th>\n",
       "      <td>3.829264</td>\n",
       "      <td>0.117190</td>\n",
       "      <td>0.053627</td>\n",
       "      <td>0.008165</td>\n",
       "      <td>10</td>\n",
       "      <td>60</td>\n",
       "      <td>median</td>\n",
       "      <td>{'randomforestclassifier__max_depth': 10, 'ran...</td>\n",
       "      <td>0.981244</td>\n",
       "      <td>0.971372</td>\n",
       "      <td>0.979928</td>\n",
       "      <td>0.975979</td>\n",
       "      <td>0.981896</td>\n",
       "      <td>0.978084</td>\n",
       "      <td>0.003934</td>\n",
       "      <td>124</td>\n",
       "    </tr>\n",
       "  </tbody>\n",
       "</table>\n",
       "</div>"
      ],
      "text/plain": [
       "   mean_fit_time  std_fit_time  mean_score_time  std_score_time  \\\n",
       "0       1.115372      0.078341         0.020141        0.001297   \n",
       "1       1.315294      0.075128         0.020272        0.003850   \n",
       "2       1.761969      0.103680         0.026708        0.003029   \n",
       "3       1.876279      0.101286         0.029827        0.006010   \n",
       "4       2.455465      0.063479         0.033545        0.006044   \n",
       "5       2.459189      0.081131         0.030956        0.004113   \n",
       "6       3.063210      0.184771         0.040810        0.002029   \n",
       "7       3.239086      0.176785         0.039138        0.002999   \n",
       "8       3.679787      0.105170         0.052829        0.008636   \n",
       "9       3.829264      0.117190         0.053627        0.008165   \n",
       "\n",
       "  param_randomforestclassifier__max_depth  \\\n",
       "0                                      10   \n",
       "1                                      10   \n",
       "2                                      10   \n",
       "3                                      10   \n",
       "4                                      10   \n",
       "5                                      10   \n",
       "6                                      10   \n",
       "7                                      10   \n",
       "8                                      10   \n",
       "9                                      10   \n",
       "\n",
       "  param_randomforestclassifier__n_estimators param_simpleimputer__strategy  \\\n",
       "0                                         20                          mean   \n",
       "1                                         20                        median   \n",
       "2                                         30                          mean   \n",
       "3                                         30                        median   \n",
       "4                                         40                          mean   \n",
       "5                                         40                        median   \n",
       "6                                         50                          mean   \n",
       "7                                         50                        median   \n",
       "8                                         60                          mean   \n",
       "9                                         60                        median   \n",
       "\n",
       "                                              params  split0_test_score  \\\n",
       "0  {'randomforestclassifier__max_depth': 10, 'ran...           0.976308   \n",
       "1  {'randomforestclassifier__max_depth': 10, 'ran...           0.975979   \n",
       "2  {'randomforestclassifier__max_depth': 10, 'ran...           0.979599   \n",
       "3  {'randomforestclassifier__max_depth': 10, 'ran...           0.979928   \n",
       "4  {'randomforestclassifier__max_depth': 10, 'ran...           0.981244   \n",
       "5  {'randomforestclassifier__max_depth': 10, 'ran...           0.979269   \n",
       "6  {'randomforestclassifier__max_depth': 10, 'ran...           0.983218   \n",
       "7  {'randomforestclassifier__max_depth': 10, 'ran...           0.980257   \n",
       "8  {'randomforestclassifier__max_depth': 10, 'ran...           0.982560   \n",
       "9  {'randomforestclassifier__max_depth': 10, 'ran...           0.981244   \n",
       "\n",
       "   split1_test_score  split2_test_score  split3_test_score  split4_test_score  \\\n",
       "0           0.977953           0.976637           0.979599           0.980579   \n",
       "1           0.968411           0.976308           0.970385           0.976959   \n",
       "2           0.977624           0.979269           0.982231           0.983213   \n",
       "3           0.970714           0.978611           0.973676           0.979592   \n",
       "4           0.979599           0.979928           0.984205           0.984858   \n",
       "5           0.971372           0.976308           0.976308           0.978604   \n",
       "6           0.979599           0.978282           0.984534           0.983871   \n",
       "7           0.971043           0.978940           0.978282           0.977617   \n",
       "8           0.978611           0.976966           0.984863           0.984529   \n",
       "9           0.971372           0.979928           0.975979           0.981896   \n",
       "\n",
       "   mean_test_score  std_test_score  rank_test_score  \n",
       "0         0.978215        0.001655              123  \n",
       "1         0.973608        0.003508              128  \n",
       "2         0.980387        0.002044              119  \n",
       "3         0.976504        0.003667              126  \n",
       "4         0.981967        0.002175              115  \n",
       "5         0.976372        0.002771              127  \n",
       "6         0.981901        0.002488              116  \n",
       "7         0.977228        0.003213              125  \n",
       "8         0.981506        0.003178              117  \n",
       "9         0.978084        0.003934              124  "
      ]
     },
     "execution_count": 28,
     "metadata": {},
     "output_type": "execute_result"
    }
   ],
   "source": [
    "# Converting data from dictionary into a DataFrame\n",
    "cv_results = pd.DataFrame(model.cv_results_)\n",
    "cv_results.head(10)"
   ]
  },
  {
   "cell_type": "markdown",
   "id": "c3b154b1-5a6c-4ee6-beed-cb3383465b88",
   "metadata": {},
   "source": [
    "* Each row represents a different set of Hyperparameters used to train a model\n",
    "* There is information on how long it took to train the model\n",
    "* There is info on mean test score\n",
    "* The Rank of test score is also available"
   ]
  },
  {
   "cell_type": "markdown",
   "id": "1d936c35-d7cf-43b4-96eb-c859f6effae1",
   "metadata": {},
   "source": [
    "### Training Time vs N Estimators\n",
    "* Exploring the relationship between number of estimators and training time, keeping max_depth constant"
   ]
  },
  {
   "cell_type": "code",
   "execution_count": 21,
   "id": "9a9692ad-6d73-4a73-a69a-12608938620d",
   "metadata": {},
   "outputs": [
    {
     "data": {
      "image/png": "[encoded data removed]",
      "text/plain": [
       "<Figure size 432x288 with 1 Axes>"
      ]
     },
     "metadata": {
      "needs_background": "light"
     },
     "output_type": "display_data"
    }
   ],
   "source": [
    "# Creating a mask for `cv_results` where `max_depth` is 10\n",
    "mask = cv_results['param_randomforestclassifier__max_depth'] == 10\n",
    "\n",
    "# Plotting fit time vs n_estimators\n",
    "plt.plot(\n",
    "    cv_results[mask]['param_randomforestclassifier__n_estimators'],\n",
    "    cv_results[mask]['mean_fit_time']\n",
    ")\n",
    "\n",
    "# Labelling axes\n",
    "plt.xlabel(\"Number of Estimators\")\n",
    "plt.ylabel(\"Mean Fit Time [seconds]\")\n",
    "plt.title(\"Training Time vs Estimators (max_depth=10)\");"
   ]
  },
  {
   "cell_type": "markdown",
   "id": "0947e600-4d6c-40a6-a461-5dee814a6af1",
   "metadata": {},
   "source": [
    "* There is a clear direct relationship between number of estimators and Mean Fit time\n",
    "* The kinks at 20, 30, 59, 60 are due to differences and time for mean and median"
   ]
  },
  {
   "cell_type": "markdown",
   "id": "33c2953a-6dfa-41a6-8171-897a1b67c7cf",
   "metadata": {},
   "source": [
    "### Training Time vs Max Depth"
   ]
  },
  {
   "cell_type": "code",
   "execution_count": 29,
   "id": "30110d71-333e-4154-9ead-801e79f33226",
   "metadata": {},
   "outputs": [
    {
     "data": {
      "image/png": "[encoded data removed]",
      "text/plain": [
       "<Figure size 432x288 with 1 Axes>"
      ]
     },
     "metadata": {
      "needs_background": "light"
     },
     "output_type": "display_data"
    }
   ],
   "source": [
    "# Creating mask for cv_results where n_estimators is 30\n",
    "mask = cv_results['param_randomforestclassifier__n_estimators'] == 30\n",
    "# Plot fit time vs max_depth\n",
    "plt.plot(\n",
    "    cv_results[mask]['param_randomforestclassifier__max_depth'],\n",
    "    cv_results[mask]['mean_fit_time']\n",
    ")\n",
    "# Label axes\n",
    "plt.xlabel(\"Max Depth\")\n",
    "plt.ylabel(\"Mean Fit Time [seconds]\")\n",
    "plt.title(\"Training Time vs Max Depth (n_estimators=30)\");"
   ]
  },
  {
   "cell_type": "markdown",
   "id": "3e452747-874f-4c52-9391-8530b718c9c7",
   "metadata": {},
   "source": [
    "* The kinks again seem to be caused due to different processing times for median and mean"
   ]
  },
  {
   "cell_type": "code",
   "execution_count": 30,
   "id": "47979ef4-27a6-4bb2-8bf8-84cccdfe1fb1",
   "metadata": {},
   "outputs": [
    {
     "data": {
      "text/html": [
       "<div>\n",
       "<style scoped>\n",
       "    .dataframe tbody tr th:only-of-type {\n",
       "        vertical-align: middle;\n",
       "    }\n",
       "\n",
       "    .dataframe tbody tr th {\n",
       "        vertical-align: top;\n",
       "    }\n",
       "\n",
       "    .dataframe thead th {\n",
       "        text-align: right;\n",
       "    }\n",
       "</style>\n",
       "<table border=\"1\" class=\"dataframe\">\n",
       "  <thead>\n",
       "    <tr style=\"text-align: right;\">\n",
       "      <th></th>\n",
       "      <th>mean_fit_time</th>\n",
       "      <th>param_randomforestclassifier__max_depth</th>\n",
       "      <th>param_simpleimputer__strategy</th>\n",
       "    </tr>\n",
       "  </thead>\n",
       "  <tbody>\n",
       "    <tr>\n",
       "      <th>2</th>\n",
       "      <td>1.761969</td>\n",
       "      <td>10</td>\n",
       "      <td>mean</td>\n",
       "    </tr>\n",
       "    <tr>\n",
       "      <th>3</th>\n",
       "      <td>1.876279</td>\n",
       "      <td>10</td>\n",
       "      <td>median</td>\n",
       "    </tr>\n",
       "    <tr>\n",
       "      <th>18</th>\n",
       "      <td>2.196734</td>\n",
       "      <td>15</td>\n",
       "      <td>mean</td>\n",
       "    </tr>\n",
       "    <tr>\n",
       "      <th>19</th>\n",
       "      <td>2.355882</td>\n",
       "      <td>15</td>\n",
       "      <td>median</td>\n",
       "    </tr>\n",
       "    <tr>\n",
       "      <th>34</th>\n",
       "      <td>2.281757</td>\n",
       "      <td>20</td>\n",
       "      <td>mean</td>\n",
       "    </tr>\n",
       "    <tr>\n",
       "      <th>35</th>\n",
       "      <td>2.465025</td>\n",
       "      <td>20</td>\n",
       "      <td>median</td>\n",
       "    </tr>\n",
       "    <tr>\n",
       "      <th>50</th>\n",
       "      <td>2.307934</td>\n",
       "      <td>25</td>\n",
       "      <td>mean</td>\n",
       "    </tr>\n",
       "    <tr>\n",
       "      <th>51</th>\n",
       "      <td>2.431402</td>\n",
       "      <td>25</td>\n",
       "      <td>median</td>\n",
       "    </tr>\n",
       "    <tr>\n",
       "      <th>66</th>\n",
       "      <td>2.301864</td>\n",
       "      <td>30</td>\n",
       "      <td>mean</td>\n",
       "    </tr>\n",
       "    <tr>\n",
       "      <th>67</th>\n",
       "      <td>2.473315</td>\n",
       "      <td>30</td>\n",
       "      <td>median</td>\n",
       "    </tr>\n",
       "    <tr>\n",
       "      <th>82</th>\n",
       "      <td>2.395216</td>\n",
       "      <td>35</td>\n",
       "      <td>mean</td>\n",
       "    </tr>\n",
       "    <tr>\n",
       "      <th>83</th>\n",
       "      <td>2.605694</td>\n",
       "      <td>35</td>\n",
       "      <td>median</td>\n",
       "    </tr>\n",
       "    <tr>\n",
       "      <th>98</th>\n",
       "      <td>2.467226</td>\n",
       "      <td>40</td>\n",
       "      <td>mean</td>\n",
       "    </tr>\n",
       "    <tr>\n",
       "      <th>99</th>\n",
       "      <td>2.702662</td>\n",
       "      <td>40</td>\n",
       "      <td>median</td>\n",
       "    </tr>\n",
       "    <tr>\n",
       "      <th>114</th>\n",
       "      <td>2.536076</td>\n",
       "      <td>45</td>\n",
       "      <td>mean</td>\n",
       "    </tr>\n",
       "    <tr>\n",
       "      <th>115</th>\n",
       "      <td>2.595976</td>\n",
       "      <td>45</td>\n",
       "      <td>median</td>\n",
       "    </tr>\n",
       "  </tbody>\n",
       "</table>\n",
       "</div>"
      ],
      "text/plain": [
       "     mean_fit_time param_randomforestclassifier__max_depth  \\\n",
       "2         1.761969                                      10   \n",
       "3         1.876279                                      10   \n",
       "18        2.196734                                      15   \n",
       "19        2.355882                                      15   \n",
       "34        2.281757                                      20   \n",
       "35        2.465025                                      20   \n",
       "50        2.307934                                      25   \n",
       "51        2.431402                                      25   \n",
       "66        2.301864                                      30   \n",
       "67        2.473315                                      30   \n",
       "82        2.395216                                      35   \n",
       "83        2.605694                                      35   \n",
       "98        2.467226                                      40   \n",
       "99        2.702662                                      40   \n",
       "114       2.536076                                      45   \n",
       "115       2.595976                                      45   \n",
       "\n",
       "    param_simpleimputer__strategy  \n",
       "2                            mean  \n",
       "3                          median  \n",
       "18                           mean  \n",
       "19                         median  \n",
       "34                           mean  \n",
       "35                         median  \n",
       "50                           mean  \n",
       "51                         median  \n",
       "66                           mean  \n",
       "67                         median  \n",
       "82                           mean  \n",
       "83                         median  \n",
       "98                           mean  \n",
       "99                         median  \n",
       "114                          mean  \n",
       "115                        median  "
      ]
     },
     "execution_count": 30,
     "metadata": {},
     "output_type": "execute_result"
    }
   ],
   "source": [
    "# Checking difference in training times for median and mean when n_estimators is 30\n",
    "cv_results[mask][['mean_fit_time', 'param_randomforestclassifier__max_depth','param_simpleimputer__strategy']]"
   ]
  },
  {
   "cell_type": "markdown",
   "id": "3f83d115-8c73-4ebe-8893-334f691ef64e",
   "metadata": {},
   "source": [
    "* It can be seen that for same max_depth, simple imputer strategy as median always takes more time to train than when strategy is mean\n",
    "* Since median is taking longer, it makes sense to ask whether its performance is actually better"
   ]
  },
  {
   "cell_type": "markdown",
   "id": "421d84d7-21d4-4eb1-84bf-45f780576418",
   "metadata": {},
   "source": [
    "### Extracting Best Hyperparamters"
   ]
  },
  {
   "cell_type": "code",
   "execution_count": 31,
   "id": "c7899d09-0be1-4b9a-ac1c-4ff18956a6c0",
   "metadata": {},
   "outputs": [
    {
     "data": {
      "text/plain": [
       "{'randomforestclassifier__max_depth': 30,\n",
       " 'randomforestclassifier__n_estimators': 80,\n",
       " 'simpleimputer__strategy': 'median'}"
      ]
     },
     "execution_count": 31,
     "metadata": {},
     "output_type": "execute_result"
    }
   ],
   "source": [
    "model.best_params_"
   ]
  },
  {
   "cell_type": "markdown",
   "id": "509aa119-84cd-4f4b-b434-136c75fe1409",
   "metadata": {},
   "source": [
    "* it turns out that median actually did perform better\n",
    "* more depth did not necessarily translate to better performance"
   ]
  },
  {
   "cell_type": "code",
   "execution_count": 32,
   "id": "b41b7c4a-ca57-4f99-97fd-9822f17162b0",
   "metadata": {},
   "outputs": [
    {
     "data": {
      "text/plain": [
       "0.9980256013496696"
      ]
     },
     "execution_count": 32,
     "metadata": {},
     "output_type": "execute_result"
    }
   ],
   "source": [
    "model.best_score_"
   ]
  },
  {
   "cell_type": "markdown",
   "id": "32036df4-7dae-4dcb-b601-1441d2023a58",
   "metadata": {},
   "source": [
    "## 2.3 Evaluating\n",
    "### Calculating Accuracy Scores for model"
   ]
  },
  {
   "cell_type": "code",
   "execution_count": 35,
   "id": "822da95d-2dec-4236-ac9c-1f07fcff43d3",
   "metadata": {},
   "outputs": [
    {
     "name": "stdout",
     "output_type": "stream",
     "text": [
      "Training Accuracy: 0.9999\n",
      "Test Accuracy: 0.9594\n"
     ]
    }
   ],
   "source": [
    "acc_train = model.score(X_train, y_train)\n",
    "acc_test = model.score(X_test, y_test)\n",
    "\n",
    "print(\"Training Accuracy:\", round(acc_train, 4))\n",
    "print(\"Test Accuracy:\", round(acc_test, 4))"
   ]
  },
  {
   "cell_type": "markdown",
   "id": "8ad11392-f43e-49d0-bdf1-ae97d6bfd8ed",
   "metadata": {},
   "source": [
    "The model was able to perform better than baseline. But barely"
   ]
  },
  {
   "cell_type": "code",
   "execution_count": 36,
   "id": "0c6bb307-fe69-4fdb-9ddc-d4b6f4105b0b",
   "metadata": {},
   "outputs": [
    {
     "data": {
      "text/plain": [
       "False    1913\n",
       "True       83\n",
       "Name: bankrupt, dtype: int64"
      ]
     },
     "execution_count": 36,
     "metadata": {},
     "output_type": "execute_result"
    }
   ],
   "source": [
    "# Counting positive and negative classes in test set\n",
    "y_test.value_counts()"
   ]
  },
  {
   "cell_type": "markdown",
   "id": "d2b09872-f2e9-4d42-ba30-372e1dd44922",
   "metadata": {},
   "source": [
    "### Confusion Matrix\n",
    "* Plotting a confusion matrix to check best model performance on test set"
   ]
  },
  {
   "cell_type": "code",
   "execution_count": 38,
   "id": "42e7d1db-7063-49a9-ae3a-5433ba11f57d",
   "metadata": {},
   "outputs": [
    {
     "data": {
      "image/png": "[encoded data removed]",
      "text/plain": [
       "<Figure size 432x288 with 2 Axes>"
      ]
     },
     "metadata": {
      "needs_background": "light"
     },
     "output_type": "display_data"
    }
   ],
   "source": [
    "ConfusionMatrixDisplay.from_estimator(model, X_test, y_test);"
   ]
  },
  {
   "attachments": {
    "9fdcd067-c677-4f7b-88ca-b702109e5f86.png": {
     "image/png": "[encoded data removed]"
    }
   },
   "cell_type": "markdown",
   "id": "0786bc51-1181-4a15-aef8-559ec0ce6d23",
   "metadata": {},
   "source": [
    "* This is the Confusion Matrix from previous section\n",
    "* ![image.png](attachment:9fdcd067-c677-4f7b-88ca-b702109e5f86.png)\n",
    "* Our model is predicting more companies would not go bankrupt, which increases its accuracy\n",
    "* This strategy has its tradeoffs\n",
    "    * It **DECREASES** the number of **FALSE POSITIVES** (where the model falsely predicts a healthy company to go bankrupt)\n",
    "    * BUT it **INCREASES** the number of **FALSE NEGATIVES** (where the model falsely predicts a failing company to NOT go bankrupt. to survive)\n",
    "    * The question which needs to be asked is whether we are satisfied with model predicting more False Negatives.\n",
    "    * The answer depends on the purpose for which the model is being used.\n",
    "    * If I am a conservative investor, I would be willing to tolerate a model which has a higher number of FALSE POSITIVES, erring on the side of caution"
   ]
  },
  {
   "cell_type": "markdown",
   "id": "1f50ad16-e478-4140-8141-defab43106cb",
   "metadata": {},
   "source": [
    "# 3. Communicating Results\n",
    "## 3.1 Extracting Feature Importances"
   ]
  },
  {
   "cell_type": "code",
   "execution_count": 40,
   "id": "c84ca69d-c838-4e79-b335-cae1dbf9389f",
   "metadata": {},
   "outputs": [
    {
     "data": {
      "image/png": "[encoded data removed]",
      "text/plain": [
       "<Figure size 432x288 with 1 Axes>"
      ]
     },
     "metadata": {
      "needs_background": "light"
     },
     "output_type": "display_data"
    }
   ],
   "source": [
    "# Getting feature names from training data\n",
    "features = X_train_over.columns\n",
    "\n",
    "# Extracting importances from model\n",
    "importances = model.best_estimator_.named_steps['randomforestclassifier'].feature_importances_\n",
    "\n",
    "# Creating a series with feature names and importances\n",
    "feat_imp = pd.Series(importances, index = features).sort_values()\n",
    "\n",
    "# Plotting 10 most important features\n",
    "feat_imp.tail(10).plot(kind = 'barh')\n",
    "\n",
    "plt.xlabel(\"Gini Importance\")\n",
    "plt.ylabel(\"Feature\")\n",
    "plt.title(\"Feature Importance\");"
   ]
  },
  {
   "cell_type": "markdown",
   "id": "90ed6d96-ab39-429a-95b9-6fc05276536f",
   "metadata": {},
   "source": [
    "* `feat_24`\t**gross profit (in 3 years) / total assets**\n",
    "* `feat_27` **profit on operating activities / financial expenses**"
   ]
  },
  {
   "cell_type": "markdown",
   "id": "c55a0412-8f2b-4037-b2b0-2628fa447150",
   "metadata": {},
   "source": [
    "## 3.2 Saving Model"
   ]
  },
  {
   "cell_type": "code",
   "execution_count": 41,
   "id": "48e7233b-e177-4d84-9ef3-7c0de97dd68a",
   "metadata": {},
   "outputs": [],
   "source": [
    "with open('model-random-forest.pkl', 'wb') as f:\n",
    "    pickle.dump(model, f)"
   ]
  },
  {
   "cell_type": "markdown",
   "id": "6aaf782b-9812-432a-b34b-666d49cd4ac9",
   "metadata": {},
   "source": [
    "## 3.3 Making Prediction Function\n",
    "* Creating a function make_predictions\n",
    "* It should take two arguments: the path of a JSON file that contains test data and the path of a serialized model\n",
    "* The function should load and clean the data using the wrangle function, load the model, generate an array of predictions, and convert that array into a Series. \n",
    "* The Series should have the name \"bankrupt\" and the same index labels as the test data\n",
    "* Finally, the function should return its predictions as a Series"
   ]
  },
  {
   "cell_type": "code",
   "execution_count": 42,
   "id": "233db5e0-f27d-46b5-8049-8a42bc0dacef",
   "metadata": {},
   "outputs": [],
   "source": [
    "def make_predictions(data_filepath, model_filepath):\n",
    "    \n",
    "    # Wrangling JSON file\n",
    "    X_test = wrangle(data_filepath)\n",
    "    \n",
    "    # Loading model\n",
    "    with open(model_filepath, 'rb') as f:\n",
    "        model = pickle.load(f)\n",
    "    \n",
    "    # Generating predictions\n",
    "    y_test_pred = model.predict(X_test)\n",
    "    \n",
    "    # Putting predictions into Series with name \"bankrupt\", and same index as X_test\n",
    "    y_test_pred = pd.Series(y_test_pred, index = X_test.index, name = 'bankrupt')\n",
    "    \n",
    "    return y_test_pred"
   ]
  },
  {
   "cell_type": "code",
   "execution_count": null,
   "id": "3d9c2315-8129-4774-9752-12212cc9b71f",
   "metadata": {},
   "outputs": [],
   "source": []
  }
 ],
 "metadata": {
  "kernelspec": {
   "display_name": "Python 3 (ipykernel)",
   "language": "python",
   "name": "python3"
  },
  "language_info": {
   "codemirror_mode": {
    "name": "ipython",
    "version": 3
   },
   "file_extension": ".py",
   "mimetype": "text/x-python",
   "name": "python",
   "nbconvert_exporter": "python",
   "pygments_lexer": "ipython3",
   "version": "3.8.11"
  }
 },
 "nbformat": 4,
 "nbformat_minor": 5
}
