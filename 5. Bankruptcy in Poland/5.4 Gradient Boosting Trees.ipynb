{
 "cells": [
  {
   "cell_type": "markdown",
   "id": "3b9f9d14-7afc-47a3-807f-2b6d1d21de76",
   "metadata": {},
   "source": [
    "**SECTION OBJECTIVES**\n",
    "* Improving Bankruptcy model using `GRADIENT BOOSTING`\n",
    "* Evaluating model using `PRECISION` and `RECALL`\n",
    "* Creating an `INTERACTIVE DASHBOARD`\n",
    "* Creating a `Python Module` to store Prediction Function\n",
    "\n",
    "**ML WORKFLOW**\n",
    "* PREPARING DATA\n",
    "    * Importing\n",
    "    * Exploring\n",
    "    * Splitting\n",
    "    * Resampling\n",
    "* BUILDING MODEL\n",
    "    * Baselining\n",
    "    * Iterating: **Gradient Boosting, Grid Search**\n",
    "        * `Boosting`\n",
    "        * `Weak Learner`: A decision Tree which by itself is not enough\n",
    "    * Evaluating: **Precision, Recall, Dashboard**\n",
    "        * **Positive (Companies which go Bankrupt) and Negative Class (Companies which do not go bankrupt)**\n",
    "        * **False Negatives and False Positives (where the model falsely predicts a healthy company to go bankrupt)**\n",
    "BUT it INCREASES the number of FALSE NEGATIVES (where the model falsely predicts a failing company to NOT go bankrupt. to survive)\n",
    "* COMMUNICATING RESULTS\n",
    "    * Saving model as file\n",
    "    * Building `my_predictor` Module"
   ]
  },
  {
   "cell_type": "code",
   "execution_count": 29,
   "id": "949c54b5-ad9f-469d-a01a-2c351e65f6a0",
   "metadata": {},
   "outputs": [],
   "source": [
    "# importing necessary libraries\n",
    "\n",
    "import json\n",
    "import pickle\n",
    "\n",
    "import ipywidgets as widgets \n",
    "from ipywidgets import interact # For interactive dashboard\n",
    "\n",
    "import matplotlib.pyplot as plt\n",
    "import pandas as pd\n",
    "\n",
    "from imblearn.over_sampling import RandomOverSampler\n",
    "\n",
    "from sklearn.ensemble import GradientBoostingClassifier # The ensemble model\n",
    "from sklearn.impute import SimpleImputer\n",
    "from sklearn.metrics import ConfusionMatrixDisplay, classification_report, confusion_matrix # Classification Report for calculating precision and recall\n",
    "from sklearn.model_selection import GridSearchCV, train_test_split\n",
    "from sklearn.pipeline import make_pipeline"
   ]
  },
  {
   "cell_type": "markdown",
   "id": "afb964cf-7ed7-4231-9a45-0f56786e4f23",
   "metadata": {},
   "source": [
    "# 1. Preparing Data\n",
    "## 1.1 Importing Data"
   ]
  },
  {
   "cell_type": "code",
   "execution_count": 2,
   "id": "e7c40625-a810-4961-b8da-68094326cbc8",
   "metadata": {},
   "outputs": [],
   "source": [
    "def wrangle(filename):\n",
    "    # Opening json file and loading it into dictionary\n",
    "    with open(filename, 'r') as f:\n",
    "        data = json.load(f)\n",
    "    \n",
    "    # Loading dictionary into a DataFrame and setting index as `company_id`\n",
    "    df = pd.DataFrame().from_dict(data['data']).set_index('company_id')\n",
    "    \n",
    "    return df"
   ]
  },
  {
   "cell_type": "code",
   "execution_count": 3,
   "id": "2a232f57-9c0b-4087-85e3-ca6b3b5b9259",
   "metadata": {},
   "outputs": [
    {
     "name": "stdout",
     "output_type": "stream",
     "text": [
      "(9977, 65)\n"
     ]
    },
    {
     "data": {
      "text/html": [
       "<div>\n",
       "<style scoped>\n",
       "    .dataframe tbody tr th:only-of-type {\n",
       "        vertical-align: middle;\n",
       "    }\n",
       "\n",
       "    .dataframe tbody tr th {\n",
       "        vertical-align: top;\n",
       "    }\n",
       "\n",
       "    .dataframe thead th {\n",
       "        text-align: right;\n",
       "    }\n",
       "</style>\n",
       "<table border=\"1\" class=\"dataframe\">\n",
       "  <thead>\n",
       "    <tr style=\"text-align: right;\">\n",
       "      <th></th>\n",
       "      <th>feat_1</th>\n",
       "      <th>feat_2</th>\n",
       "      <th>feat_3</th>\n",
       "      <th>feat_4</th>\n",
       "      <th>feat_5</th>\n",
       "      <th>feat_6</th>\n",
       "      <th>feat_7</th>\n",
       "      <th>feat_8</th>\n",
       "      <th>feat_9</th>\n",
       "      <th>feat_10</th>\n",
       "      <th>...</th>\n",
       "      <th>feat_56</th>\n",
       "      <th>feat_57</th>\n",
       "      <th>feat_58</th>\n",
       "      <th>feat_59</th>\n",
       "      <th>feat_60</th>\n",
       "      <th>feat_61</th>\n",
       "      <th>feat_62</th>\n",
       "      <th>feat_63</th>\n",
       "      <th>feat_64</th>\n",
       "      <th>bankrupt</th>\n",
       "    </tr>\n",
       "    <tr>\n",
       "      <th>company_id</th>\n",
       "      <th></th>\n",
       "      <th></th>\n",
       "      <th></th>\n",
       "      <th></th>\n",
       "      <th></th>\n",
       "      <th></th>\n",
       "      <th></th>\n",
       "      <th></th>\n",
       "      <th></th>\n",
       "      <th></th>\n",
       "      <th></th>\n",
       "      <th></th>\n",
       "      <th></th>\n",
       "      <th></th>\n",
       "      <th></th>\n",
       "      <th></th>\n",
       "      <th></th>\n",
       "      <th></th>\n",
       "      <th></th>\n",
       "      <th></th>\n",
       "      <th></th>\n",
       "    </tr>\n",
       "  </thead>\n",
       "  <tbody>\n",
       "    <tr>\n",
       "      <th>1</th>\n",
       "      <td>0.174190</td>\n",
       "      <td>0.41299</td>\n",
       "      <td>0.14371</td>\n",
       "      <td>1.3480</td>\n",
       "      <td>-28.9820</td>\n",
       "      <td>0.60383</td>\n",
       "      <td>0.219460</td>\n",
       "      <td>1.12250</td>\n",
       "      <td>1.1961</td>\n",
       "      <td>0.46359</td>\n",
       "      <td>...</td>\n",
       "      <td>0.163960</td>\n",
       "      <td>0.375740</td>\n",
       "      <td>0.83604</td>\n",
       "      <td>0.000007</td>\n",
       "      <td>9.7145</td>\n",
       "      <td>6.2813</td>\n",
       "      <td>84.291</td>\n",
       "      <td>4.3303</td>\n",
       "      <td>4.0341</td>\n",
       "      <td>False</td>\n",
       "    </tr>\n",
       "    <tr>\n",
       "      <th>2</th>\n",
       "      <td>0.146240</td>\n",
       "      <td>0.46038</td>\n",
       "      <td>0.28230</td>\n",
       "      <td>1.6294</td>\n",
       "      <td>2.5952</td>\n",
       "      <td>0.00000</td>\n",
       "      <td>0.171850</td>\n",
       "      <td>1.17210</td>\n",
       "      <td>1.6018</td>\n",
       "      <td>0.53962</td>\n",
       "      <td>...</td>\n",
       "      <td>0.027516</td>\n",
       "      <td>0.271000</td>\n",
       "      <td>0.90108</td>\n",
       "      <td>0.000000</td>\n",
       "      <td>5.9882</td>\n",
       "      <td>4.1103</td>\n",
       "      <td>102.190</td>\n",
       "      <td>3.5716</td>\n",
       "      <td>5.9500</td>\n",
       "      <td>False</td>\n",
       "    </tr>\n",
       "    <tr>\n",
       "      <th>3</th>\n",
       "      <td>0.000595</td>\n",
       "      <td>0.22612</td>\n",
       "      <td>0.48839</td>\n",
       "      <td>3.1599</td>\n",
       "      <td>84.8740</td>\n",
       "      <td>0.19114</td>\n",
       "      <td>0.004572</td>\n",
       "      <td>2.98810</td>\n",
       "      <td>1.0077</td>\n",
       "      <td>0.67566</td>\n",
       "      <td>...</td>\n",
       "      <td>0.007639</td>\n",
       "      <td>0.000881</td>\n",
       "      <td>0.99236</td>\n",
       "      <td>0.000000</td>\n",
       "      <td>6.7742</td>\n",
       "      <td>3.7922</td>\n",
       "      <td>64.846</td>\n",
       "      <td>5.6287</td>\n",
       "      <td>4.4581</td>\n",
       "      <td>False</td>\n",
       "    </tr>\n",
       "    <tr>\n",
       "      <th>5</th>\n",
       "      <td>0.188290</td>\n",
       "      <td>0.41504</td>\n",
       "      <td>0.34231</td>\n",
       "      <td>1.9279</td>\n",
       "      <td>-58.2740</td>\n",
       "      <td>0.00000</td>\n",
       "      <td>0.233580</td>\n",
       "      <td>1.40940</td>\n",
       "      <td>1.3393</td>\n",
       "      <td>0.58496</td>\n",
       "      <td>...</td>\n",
       "      <td>0.176480</td>\n",
       "      <td>0.321880</td>\n",
       "      <td>0.82635</td>\n",
       "      <td>0.073039</td>\n",
       "      <td>2.5912</td>\n",
       "      <td>7.0756</td>\n",
       "      <td>100.540</td>\n",
       "      <td>3.6303</td>\n",
       "      <td>4.6375</td>\n",
       "      <td>False</td>\n",
       "    </tr>\n",
       "    <tr>\n",
       "      <th>6</th>\n",
       "      <td>0.182060</td>\n",
       "      <td>0.55615</td>\n",
       "      <td>0.32191</td>\n",
       "      <td>1.6045</td>\n",
       "      <td>16.3140</td>\n",
       "      <td>0.00000</td>\n",
       "      <td>0.182060</td>\n",
       "      <td>0.79808</td>\n",
       "      <td>1.8126</td>\n",
       "      <td>0.44385</td>\n",
       "      <td>...</td>\n",
       "      <td>0.555770</td>\n",
       "      <td>0.410190</td>\n",
       "      <td>0.46957</td>\n",
       "      <td>0.029421</td>\n",
       "      <td>8.4553</td>\n",
       "      <td>3.3488</td>\n",
       "      <td>107.240</td>\n",
       "      <td>3.4036</td>\n",
       "      <td>12.4540</td>\n",
       "      <td>False</td>\n",
       "    </tr>\n",
       "  </tbody>\n",
       "</table>\n",
       "<p>5 rows × 65 columns</p>\n",
       "</div>"
      ],
      "text/plain": [
       "              feat_1   feat_2   feat_3  feat_4   feat_5   feat_6    feat_7  \\\n",
       "company_id                                                                   \n",
       "1           0.174190  0.41299  0.14371  1.3480 -28.9820  0.60383  0.219460   \n",
       "2           0.146240  0.46038  0.28230  1.6294   2.5952  0.00000  0.171850   \n",
       "3           0.000595  0.22612  0.48839  3.1599  84.8740  0.19114  0.004572   \n",
       "5           0.188290  0.41504  0.34231  1.9279 -58.2740  0.00000  0.233580   \n",
       "6           0.182060  0.55615  0.32191  1.6045  16.3140  0.00000  0.182060   \n",
       "\n",
       "             feat_8  feat_9  feat_10  ...   feat_56   feat_57  feat_58  \\\n",
       "company_id                            ...                                \n",
       "1           1.12250  1.1961  0.46359  ...  0.163960  0.375740  0.83604   \n",
       "2           1.17210  1.6018  0.53962  ...  0.027516  0.271000  0.90108   \n",
       "3           2.98810  1.0077  0.67566  ...  0.007639  0.000881  0.99236   \n",
       "5           1.40940  1.3393  0.58496  ...  0.176480  0.321880  0.82635   \n",
       "6           0.79808  1.8126  0.44385  ...  0.555770  0.410190  0.46957   \n",
       "\n",
       "             feat_59  feat_60  feat_61  feat_62  feat_63  feat_64  bankrupt  \n",
       "company_id                                                                   \n",
       "1           0.000007   9.7145   6.2813   84.291   4.3303   4.0341     False  \n",
       "2           0.000000   5.9882   4.1103  102.190   3.5716   5.9500     False  \n",
       "3           0.000000   6.7742   3.7922   64.846   5.6287   4.4581     False  \n",
       "5           0.073039   2.5912   7.0756  100.540   3.6303   4.6375     False  \n",
       "6           0.029421   8.4553   3.3488  107.240   3.4036  12.4540     False  \n",
       "\n",
       "[5 rows x 65 columns]"
      ]
     },
     "execution_count": 3,
     "metadata": {},
     "output_type": "execute_result"
    }
   ],
   "source": [
    "# Running wrangle function\n",
    "df = wrangle('poland-bankruptcy-data-2009.json')\n",
    "print(df.shape)\n",
    "df.head()"
   ]
  },
  {
   "cell_type": "markdown",
   "id": "176af06b-d0b7-4eec-9dd0-fdb22cac7835",
   "metadata": {},
   "source": [
    "## 1.3 Splitting Data\n",
    "### Vertical Splitting"
   ]
  },
  {
   "cell_type": "code",
   "execution_count": 4,
   "id": "cfe6faa1-4f8d-458a-a054-7c4cd8ab9a6b",
   "metadata": {},
   "outputs": [
    {
     "name": "stdout",
     "output_type": "stream",
     "text": [
      "X shape: (9977, 64)\n",
      "y shape: (9977,)\n"
     ]
    }
   ],
   "source": [
    "target = 'bankrupt'\n",
    "X = df.drop(columns = target)\n",
    "y = df[target]\n",
    "\n",
    "print(\"X shape:\", X.shape)\n",
    "print(\"y shape:\", y.shape)"
   ]
  },
  {
   "cell_type": "markdown",
   "id": "626550da-4c14-42fe-954a-001c7acbeed1",
   "metadata": {},
   "source": [
    "### Horizontal Splitting (Randomised Train-Test Split)"
   ]
  },
  {
   "cell_type": "code",
   "execution_count": 5,
   "id": "10dcd66e-ecca-4e9b-83f8-bae4053b77b4",
   "metadata": {},
   "outputs": [
    {
     "name": "stdout",
     "output_type": "stream",
     "text": [
      "X_train shape: (7981, 64)\n",
      "y_train shape: (7981,)\n",
      "X_test shape: (1996, 64)\n",
      "y_test shape: (1996,)\n"
     ]
    }
   ],
   "source": [
    "# Performing a randomised train-test split (80:20)\n",
    "X_train, X_test, y_train, y_test = train_test_split(\n",
    "    X, y, test_size = 0.2, random_state = 42\n",
    ")\n",
    "\n",
    "print(\"X_train shape:\", X_train.shape)\n",
    "print(\"y_train shape:\", y_train.shape)\n",
    "print(\"X_test shape:\", X_test.shape)\n",
    "print(\"y_test shape:\", y_test.shape)"
   ]
  },
  {
   "cell_type": "markdown",
   "id": "0e084f7c-8235-4a66-a704-3407538910ca",
   "metadata": {},
   "source": [
    "## 1.4 Resampling Data\n",
    "### Over-Sampling"
   ]
  },
  {
   "cell_type": "code",
   "execution_count": 6,
   "id": "457195ad-eafb-47bc-9787-66c8381f3bb4",
   "metadata": {},
   "outputs": [
    {
     "name": "stdout",
     "output_type": "stream",
     "text": [
      "(15194, 64)\n"
     ]
    },
    {
     "data": {
      "text/html": [
       "<div>\n",
       "<style scoped>\n",
       "    .dataframe tbody tr th:only-of-type {\n",
       "        vertical-align: middle;\n",
       "    }\n",
       "\n",
       "    .dataframe tbody tr th {\n",
       "        vertical-align: top;\n",
       "    }\n",
       "\n",
       "    .dataframe thead th {\n",
       "        text-align: right;\n",
       "    }\n",
       "</style>\n",
       "<table border=\"1\" class=\"dataframe\">\n",
       "  <thead>\n",
       "    <tr style=\"text-align: right;\">\n",
       "      <th></th>\n",
       "      <th>feat_1</th>\n",
       "      <th>feat_2</th>\n",
       "      <th>feat_3</th>\n",
       "      <th>feat_4</th>\n",
       "      <th>feat_5</th>\n",
       "      <th>feat_6</th>\n",
       "      <th>feat_7</th>\n",
       "      <th>feat_8</th>\n",
       "      <th>feat_9</th>\n",
       "      <th>feat_10</th>\n",
       "      <th>...</th>\n",
       "      <th>feat_55</th>\n",
       "      <th>feat_56</th>\n",
       "      <th>feat_57</th>\n",
       "      <th>feat_58</th>\n",
       "      <th>feat_59</th>\n",
       "      <th>feat_60</th>\n",
       "      <th>feat_61</th>\n",
       "      <th>feat_62</th>\n",
       "      <th>feat_63</th>\n",
       "      <th>feat_64</th>\n",
       "    </tr>\n",
       "  </thead>\n",
       "  <tbody>\n",
       "    <tr>\n",
       "      <th>0</th>\n",
       "      <td>0.279320</td>\n",
       "      <td>0.053105</td>\n",
       "      <td>0.852030</td>\n",
       "      <td>17.0440</td>\n",
       "      <td>199.080</td>\n",
       "      <td>0.741770</td>\n",
       "      <td>0.353570</td>\n",
       "      <td>16.00600</td>\n",
       "      <td>1.2346</td>\n",
       "      <td>0.84997</td>\n",
       "      <td>...</td>\n",
       "      <td>52857.00</td>\n",
       "      <td>0.190040</td>\n",
       "      <td>0.328630</td>\n",
       "      <td>0.80996</td>\n",
       "      <td>0.00000</td>\n",
       "      <td>NaN</td>\n",
       "      <td>4.1858</td>\n",
       "      <td>11.002</td>\n",
       "      <td>33.1760</td>\n",
       "      <td>18.5720</td>\n",
       "    </tr>\n",
       "    <tr>\n",
       "      <th>1</th>\n",
       "      <td>0.001871</td>\n",
       "      <td>0.735120</td>\n",
       "      <td>0.156460</td>\n",
       "      <td>1.2269</td>\n",
       "      <td>-10.837</td>\n",
       "      <td>0.000000</td>\n",
       "      <td>0.002938</td>\n",
       "      <td>0.36032</td>\n",
       "      <td>1.4809</td>\n",
       "      <td>0.26488</td>\n",
       "      <td>...</td>\n",
       "      <td>440.02</td>\n",
       "      <td>0.014794</td>\n",
       "      <td>0.007064</td>\n",
       "      <td>0.99803</td>\n",
       "      <td>0.00000</td>\n",
       "      <td>7.4268</td>\n",
       "      <td>2.2925</td>\n",
       "      <td>169.960</td>\n",
       "      <td>2.1476</td>\n",
       "      <td>9.6185</td>\n",
       "    </tr>\n",
       "    <tr>\n",
       "      <th>2</th>\n",
       "      <td>0.113940</td>\n",
       "      <td>0.490250</td>\n",
       "      <td>0.077121</td>\n",
       "      <td>1.2332</td>\n",
       "      <td>-43.184</td>\n",
       "      <td>-0.000171</td>\n",
       "      <td>0.113940</td>\n",
       "      <td>1.03980</td>\n",
       "      <td>1.1649</td>\n",
       "      <td>0.50975</td>\n",
       "      <td>...</td>\n",
       "      <td>4617.40</td>\n",
       "      <td>0.214890</td>\n",
       "      <td>0.223520</td>\n",
       "      <td>0.78761</td>\n",
       "      <td>0.27412</td>\n",
       "      <td>6.2791</td>\n",
       "      <td>6.1622</td>\n",
       "      <td>103.630</td>\n",
       "      <td>3.5220</td>\n",
       "      <td>1.9673</td>\n",
       "    </tr>\n",
       "    <tr>\n",
       "      <th>3</th>\n",
       "      <td>0.008136</td>\n",
       "      <td>0.652610</td>\n",
       "      <td>0.148120</td>\n",
       "      <td>1.2628</td>\n",
       "      <td>29.071</td>\n",
       "      <td>0.000000</td>\n",
       "      <td>0.008136</td>\n",
       "      <td>0.53230</td>\n",
       "      <td>1.2891</td>\n",
       "      <td>0.34739</td>\n",
       "      <td>...</td>\n",
       "      <td>920.98</td>\n",
       "      <td>0.045169</td>\n",
       "      <td>0.023421</td>\n",
       "      <td>0.99434</td>\n",
       "      <td>0.14403</td>\n",
       "      <td>22.7480</td>\n",
       "      <td>2.2673</td>\n",
       "      <td>159.580</td>\n",
       "      <td>2.2872</td>\n",
       "      <td>4.4718</td>\n",
       "    </tr>\n",
       "    <tr>\n",
       "      <th>4</th>\n",
       "      <td>0.045396</td>\n",
       "      <td>0.279640</td>\n",
       "      <td>0.708730</td>\n",
       "      <td>3.7656</td>\n",
       "      <td>238.120</td>\n",
       "      <td>0.000000</td>\n",
       "      <td>0.056710</td>\n",
       "      <td>2.57610</td>\n",
       "      <td>1.0169</td>\n",
       "      <td>0.72036</td>\n",
       "      <td>...</td>\n",
       "      <td>10744.00</td>\n",
       "      <td>0.047501</td>\n",
       "      <td>0.063019</td>\n",
       "      <td>0.94624</td>\n",
       "      <td>0.00000</td>\n",
       "      <td>13.8860</td>\n",
       "      <td>49.0660</td>\n",
       "      <td>91.984</td>\n",
       "      <td>3.9681</td>\n",
       "      <td>29.0460</td>\n",
       "    </tr>\n",
       "  </tbody>\n",
       "</table>\n",
       "<p>5 rows × 64 columns</p>\n",
       "</div>"
      ],
      "text/plain": [
       "     feat_1    feat_2    feat_3   feat_4   feat_5    feat_6    feat_7  \\\n",
       "0  0.279320  0.053105  0.852030  17.0440  199.080  0.741770  0.353570   \n",
       "1  0.001871  0.735120  0.156460   1.2269  -10.837  0.000000  0.002938   \n",
       "2  0.113940  0.490250  0.077121   1.2332  -43.184 -0.000171  0.113940   \n",
       "3  0.008136  0.652610  0.148120   1.2628   29.071  0.000000  0.008136   \n",
       "4  0.045396  0.279640  0.708730   3.7656  238.120  0.000000  0.056710   \n",
       "\n",
       "     feat_8  feat_9  feat_10  ...   feat_55   feat_56   feat_57  feat_58  \\\n",
       "0  16.00600  1.2346  0.84997  ...  52857.00  0.190040  0.328630  0.80996   \n",
       "1   0.36032  1.4809  0.26488  ...    440.02  0.014794  0.007064  0.99803   \n",
       "2   1.03980  1.1649  0.50975  ...   4617.40  0.214890  0.223520  0.78761   \n",
       "3   0.53230  1.2891  0.34739  ...    920.98  0.045169  0.023421  0.99434   \n",
       "4   2.57610  1.0169  0.72036  ...  10744.00  0.047501  0.063019  0.94624   \n",
       "\n",
       "   feat_59  feat_60  feat_61  feat_62  feat_63  feat_64  \n",
       "0  0.00000      NaN   4.1858   11.002  33.1760  18.5720  \n",
       "1  0.00000   7.4268   2.2925  169.960   2.1476   9.6185  \n",
       "2  0.27412   6.2791   6.1622  103.630   3.5220   1.9673  \n",
       "3  0.14403  22.7480   2.2673  159.580   2.2872   4.4718  \n",
       "4  0.00000  13.8860  49.0660   91.984   3.9681  29.0460  \n",
       "\n",
       "[5 rows x 64 columns]"
      ]
     },
     "execution_count": 6,
     "metadata": {},
     "output_type": "execute_result"
    }
   ],
   "source": [
    "over_sampler = RandomOverSampler(random_state=42)\n",
    "X_train_over, y_train_over = over_sampler.fit_resample(X_train, y_train)\n",
    "\n",
    "print(X_train_over.shape)\n",
    "X_train_over.head()"
   ]
  },
  {
   "cell_type": "markdown",
   "id": "a377ab38-c437-4d16-89b9-e47c4beeccbf",
   "metadata": {},
   "source": [
    "# 2. Building Model\n",
    "## 2.1 Baselining\n",
    "### Baseline Accuracy Score"
   ]
  },
  {
   "cell_type": "code",
   "execution_count": 7,
   "id": "6c408000-c76a-4d09-b57f-a5577e3786ce",
   "metadata": {},
   "outputs": [
    {
     "name": "stdout",
     "output_type": "stream",
     "text": [
      "Baseline Accuracy: 0.9519\n"
     ]
    }
   ],
   "source": [
    "acc_baseline = y_train.value_counts(normalize=True).max()\n",
    "print(\"Baseline Accuracy:\", round(acc_baseline, 4))"
   ]
  },
  {
   "cell_type": "markdown",
   "id": "6030c7d5-8cfd-4363-906c-69f2b7092697",
   "metadata": {},
   "source": [
    "## 2.2 Iterating\n",
    "### Gradient Boosting Trees\n",
    "* Random Forest are an example of Bagging, where multiple models are fitted in parallel on subsets of data\n",
    "* In a `Boosting` model, multiple models are fitted in sequence using all of the Training Data\n",
    "* STEP 1:\n",
    "    * Fit a decision tree to training data. This decision tree is a `weak learner` i.e. it is not so good at making predictions\n",
    "    * After fitting, residuals are calculated for this tree. The set of residuals R1 is obtained\n",
    "* STEP 2:\n",
    "    * A second tree is fitted on the residuals of previous tree. \n",
    "    * Tree2 is trying to predict how far from actual values were the predictions of Tree1, so that it can improve on those predictions\n",
    "    * Residuals are calculated again. This time we are looking at difference between true residuals of tree1 and Tree2 predictions of those residuals\n",
    "    * This new set of residuals is R2\n",
    "* STEP 3:\n",
    "    * The process is repeated with a Tree3, and residuals are calculated again\n",
    "* STEP 4:\n",
    "    * This process is repeated 100 times by default in scikit learn. \n",
    "    * Everytime the model adds a new tree, it improves upon the previous tree's prediction\n",
    "    * What we end up with is an ensemble of weak learners chained together, each improving on the last one. This ends up improving predictions\n",
    "* **Remember that in Boosting we are fitting multiple models in sequence on all of Training Data**"
   ]
  },
  {
   "cell_type": "code",
   "execution_count": 8,
   "id": "658e01c3-0ab0-4a0f-b731-80f59704171d",
   "metadata": {},
   "outputs": [],
   "source": [
    "# Creating a pipeline clf (short for \"classifier\") that contains a SimpleImputer transformer and a GradientBoostingClassifier predictor\n",
    "\n",
    "clf = make_pipeline(SimpleImputer(), GradientBoostingClassifier()) "
   ]
  },
  {
   "cell_type": "markdown",
   "id": "e534bd22-d5b9-42f7-a769-c8eae272c1e2",
   "metadata": {},
   "source": [
    "### Hyperparameter Grid\n",
    "* Creating a dictionary with the range of hyperparameters to evaluate for classifier. \n",
    "\n",
    "1. For the `SimpleImputer`, trying both the `\"mean\"` and `\"median\"` strategies. \n",
    "2. For the `GradientBoostingClassifier`, experimenting with `max_depth` settings between 2 and 5. \n",
    "    * When gradient boosting, it is better to keep trees shallow\n",
    "3. For the `GradientBoostingClassifier`, iterating `n_estimators` settings between 20 and 96, by steps of 5.\n",
    "4. `learning_rate` in `GradientBoostingClassifier` shrinks the contribution of each tree by that amount(float). There is a trade-off between learning_rate and n_estimators"
   ]
  },
  {
   "cell_type": "code",
   "execution_count": 12,
   "id": "49b4f717-45f0-4530-96cd-d4ae42df65fd",
   "metadata": {},
   "outputs": [
    {
     "data": {
      "text/plain": [
       "{'simpleimputer__strategy': ['mean', 'median'],\n",
       " 'gradientboostingclassifier__n_estimators': range(81, 104, 5),\n",
       " 'gradientboostingclassifier__max_depth': range(2, 5)}"
      ]
     },
     "execution_count": 12,
     "metadata": {},
     "output_type": "execute_result"
    }
   ],
   "source": [
    "# Initiating params dictionary\n",
    "params = {\n",
    "    'simpleimputer__strategy': ['mean', 'median'],\n",
    "    'gradientboostingclassifier__n_estimators': range(81, 104, 5),\n",
    "    'gradientboostingclassifier__max_depth': range(2,5)\n",
    "}\n",
    "params"
   ]
  },
  {
   "cell_type": "markdown",
   "id": "b73a7a32-46ed-4f02-b28f-34062dccb75f",
   "metadata": {},
   "source": [
    "### Grid Search Cross Validation"
   ]
  },
  {
   "cell_type": "code",
   "execution_count": 13,
   "id": "4c95bcf8-b682-4832-8c17-8f6864e939b6",
   "metadata": {},
   "outputs": [],
   "source": [
    "model = GridSearchCV(clf, param_grid=params, cv = 5, verbose = 1, n_jobs = -1)"
   ]
  },
  {
   "cell_type": "markdown",
   "id": "d66489fc-9228-4384-ba19-6810f7a0f368",
   "metadata": {},
   "source": [
    "### Fitting Model"
   ]
  },
  {
   "cell_type": "code",
   "execution_count": 14,
   "id": "ccd2452a-9bbc-4667-aab4-714bfd94710d",
   "metadata": {},
   "outputs": [
    {
     "name": "stdout",
     "output_type": "stream",
     "text": [
      "Fitting 5 folds for each of 30 candidates, totalling 150 fits\n"
     ]
    },
    {
     "data": {
      "text/plain": [
       "GridSearchCV(cv=5,\n",
       "             estimator=Pipeline(steps=[('simpleimputer', SimpleImputer()),\n",
       "                                       ('gradientboostingclassifier',\n",
       "                                        GradientBoostingClassifier())]),\n",
       "             n_jobs=-1,\n",
       "             param_grid={'gradientboostingclassifier__max_depth': range(2, 5),\n",
       "                         'gradientboostingclassifier__n_estimators': range(81, 104, 5),\n",
       "                         'simpleimputer__strategy': ['mean', 'median']},\n",
       "             verbose=1)"
      ]
     },
     "execution_count": 14,
     "metadata": {},
     "output_type": "execute_result"
    }
   ],
   "source": [
    "# Fitting model to over-sampled training data\n",
    "model.fit(X_train_over, y_train_over)"
   ]
  },
  {
   "cell_type": "markdown",
   "id": "d8c95430-3c9d-4467-9cbf-0f5c02d57f59",
   "metadata": {},
   "source": [
    "### Cross Validation Results"
   ]
  },
  {
   "cell_type": "code",
   "execution_count": 15,
   "id": "77b69704-dd5a-45a4-8126-fef53161a162",
   "metadata": {},
   "outputs": [
    {
     "data": {
      "text/html": [
       "<div>\n",
       "<style scoped>\n",
       "    .dataframe tbody tr th:only-of-type {\n",
       "        vertical-align: middle;\n",
       "    }\n",
       "\n",
       "    .dataframe tbody tr th {\n",
       "        vertical-align: top;\n",
       "    }\n",
       "\n",
       "    .dataframe thead th {\n",
       "        text-align: right;\n",
       "    }\n",
       "</style>\n",
       "<table border=\"1\" class=\"dataframe\">\n",
       "  <thead>\n",
       "    <tr style=\"text-align: right;\">\n",
       "      <th></th>\n",
       "      <th>mean_fit_time</th>\n",
       "      <th>std_fit_time</th>\n",
       "      <th>mean_score_time</th>\n",
       "      <th>std_score_time</th>\n",
       "      <th>param_gradientboostingclassifier__max_depth</th>\n",
       "      <th>param_gradientboostingclassifier__n_estimators</th>\n",
       "      <th>param_simpleimputer__strategy</th>\n",
       "      <th>params</th>\n",
       "      <th>split0_test_score</th>\n",
       "      <th>split1_test_score</th>\n",
       "      <th>split2_test_score</th>\n",
       "      <th>split3_test_score</th>\n",
       "      <th>split4_test_score</th>\n",
       "      <th>mean_test_score</th>\n",
       "      <th>std_test_score</th>\n",
       "      <th>rank_test_score</th>\n",
       "    </tr>\n",
       "  </thead>\n",
       "  <tbody>\n",
       "    <tr>\n",
       "      <th>28</th>\n",
       "      <td>37.621414</td>\n",
       "      <td>0.804448</td>\n",
       "      <td>0.021060</td>\n",
       "      <td>0.005597</td>\n",
       "      <td>4</td>\n",
       "      <td>101</td>\n",
       "      <td>mean</td>\n",
       "      <td>{'gradientboostingclassifier__max_depth': 4, '...</td>\n",
       "      <td>0.981902</td>\n",
       "      <td>0.970714</td>\n",
       "      <td>0.973346</td>\n",
       "      <td>0.975321</td>\n",
       "      <td>0.977946</td>\n",
       "      <td>0.975846</td>\n",
       "      <td>0.003846</td>\n",
       "      <td>1</td>\n",
       "    </tr>\n",
       "    <tr>\n",
       "      <th>29</th>\n",
       "      <td>34.245321</td>\n",
       "      <td>1.169265</td>\n",
       "      <td>0.015109</td>\n",
       "      <td>0.003084</td>\n",
       "      <td>4</td>\n",
       "      <td>101</td>\n",
       "      <td>median</td>\n",
       "      <td>{'gradientboostingclassifier__max_depth': 4, '...</td>\n",
       "      <td>0.976966</td>\n",
       "      <td>0.973346</td>\n",
       "      <td>0.971701</td>\n",
       "      <td>0.973346</td>\n",
       "      <td>0.977617</td>\n",
       "      <td>0.974595</td>\n",
       "      <td>0.002291</td>\n",
       "      <td>2</td>\n",
       "    </tr>\n",
       "    <tr>\n",
       "      <th>26</th>\n",
       "      <td>36.608969</td>\n",
       "      <td>0.471304</td>\n",
       "      <td>0.019779</td>\n",
       "      <td>0.005434</td>\n",
       "      <td>4</td>\n",
       "      <td>96</td>\n",
       "      <td>mean</td>\n",
       "      <td>{'gradientboostingclassifier__max_depth': 4, '...</td>\n",
       "      <td>0.981244</td>\n",
       "      <td>0.969727</td>\n",
       "      <td>0.971043</td>\n",
       "      <td>0.973346</td>\n",
       "      <td>0.975313</td>\n",
       "      <td>0.974135</td>\n",
       "      <td>0.004038</td>\n",
       "      <td>3</td>\n",
       "    </tr>\n",
       "    <tr>\n",
       "      <th>27</th>\n",
       "      <td>36.077067</td>\n",
       "      <td>0.170725</td>\n",
       "      <td>0.021168</td>\n",
       "      <td>0.005278</td>\n",
       "      <td>4</td>\n",
       "      <td>96</td>\n",
       "      <td>median</td>\n",
       "      <td>{'gradientboostingclassifier__max_depth': 4, '...</td>\n",
       "      <td>0.974663</td>\n",
       "      <td>0.971372</td>\n",
       "      <td>0.970714</td>\n",
       "      <td>0.974334</td>\n",
       "      <td>0.974325</td>\n",
       "      <td>0.973082</td>\n",
       "      <td>0.001682</td>\n",
       "      <td>4</td>\n",
       "    </tr>\n",
       "    <tr>\n",
       "      <th>24</th>\n",
       "      <td>34.265055</td>\n",
       "      <td>0.294500</td>\n",
       "      <td>0.018215</td>\n",
       "      <td>0.001335</td>\n",
       "      <td>4</td>\n",
       "      <td>91</td>\n",
       "      <td>mean</td>\n",
       "      <td>{'gradientboostingclassifier__max_depth': 4, '...</td>\n",
       "      <td>0.980257</td>\n",
       "      <td>0.967423</td>\n",
       "      <td>0.969069</td>\n",
       "      <td>0.969398</td>\n",
       "      <td>0.973996</td>\n",
       "      <td>0.972029</td>\n",
       "      <td>0.004657</td>\n",
       "      <td>5</td>\n",
       "    </tr>\n",
       "    <tr>\n",
       "      <th>25</th>\n",
       "      <td>34.581021</td>\n",
       "      <td>0.589098</td>\n",
       "      <td>0.020740</td>\n",
       "      <td>0.004372</td>\n",
       "      <td>4</td>\n",
       "      <td>91</td>\n",
       "      <td>median</td>\n",
       "      <td>{'gradientboostingclassifier__max_depth': 4, '...</td>\n",
       "      <td>0.972688</td>\n",
       "      <td>0.968740</td>\n",
       "      <td>0.969398</td>\n",
       "      <td>0.969069</td>\n",
       "      <td>0.973009</td>\n",
       "      <td>0.970581</td>\n",
       "      <td>0.001866</td>\n",
       "      <td>6</td>\n",
       "    </tr>\n",
       "    <tr>\n",
       "      <th>22</th>\n",
       "      <td>31.838429</td>\n",
       "      <td>0.252722</td>\n",
       "      <td>0.020316</td>\n",
       "      <td>0.003530</td>\n",
       "      <td>4</td>\n",
       "      <td>86</td>\n",
       "      <td>mean</td>\n",
       "      <td>{'gradientboostingclassifier__max_depth': 4, '...</td>\n",
       "      <td>0.979928</td>\n",
       "      <td>0.963475</td>\n",
       "      <td>0.966765</td>\n",
       "      <td>0.968411</td>\n",
       "      <td>0.971692</td>\n",
       "      <td>0.970054</td>\n",
       "      <td>0.005603</td>\n",
       "      <td>7</td>\n",
       "    </tr>\n",
       "    <tr>\n",
       "      <th>23</th>\n",
       "      <td>31.990448</td>\n",
       "      <td>0.237310</td>\n",
       "      <td>0.019141</td>\n",
       "      <td>0.002905</td>\n",
       "      <td>4</td>\n",
       "      <td>86</td>\n",
       "      <td>median</td>\n",
       "      <td>{'gradientboostingclassifier__max_depth': 4, '...</td>\n",
       "      <td>0.970385</td>\n",
       "      <td>0.963475</td>\n",
       "      <td>0.964133</td>\n",
       "      <td>0.969727</td>\n",
       "      <td>0.968729</td>\n",
       "      <td>0.967290</td>\n",
       "      <td>0.002902</td>\n",
       "      <td>8</td>\n",
       "    </tr>\n",
       "    <tr>\n",
       "      <th>20</th>\n",
       "      <td>29.709815</td>\n",
       "      <td>0.256207</td>\n",
       "      <td>0.018187</td>\n",
       "      <td>0.002112</td>\n",
       "      <td>4</td>\n",
       "      <td>81</td>\n",
       "      <td>mean</td>\n",
       "      <td>{'gradientboostingclassifier__max_depth': 4, '...</td>\n",
       "      <td>0.973676</td>\n",
       "      <td>0.964462</td>\n",
       "      <td>0.963804</td>\n",
       "      <td>0.962159</td>\n",
       "      <td>0.968400</td>\n",
       "      <td>0.966500</td>\n",
       "      <td>0.004132</td>\n",
       "      <td>9</td>\n",
       "    </tr>\n",
       "    <tr>\n",
       "      <th>21</th>\n",
       "      <td>30.179651</td>\n",
       "      <td>0.238838</td>\n",
       "      <td>0.022149</td>\n",
       "      <td>0.007186</td>\n",
       "      <td>4</td>\n",
       "      <td>81</td>\n",
       "      <td>median</td>\n",
       "      <td>{'gradientboostingclassifier__max_depth': 4, '...</td>\n",
       "      <td>0.966107</td>\n",
       "      <td>0.959855</td>\n",
       "      <td>0.962488</td>\n",
       "      <td>0.968082</td>\n",
       "      <td>0.966754</td>\n",
       "      <td>0.964657</td>\n",
       "      <td>0.003033</td>\n",
       "      <td>10</td>\n",
       "    </tr>\n",
       "  </tbody>\n",
       "</table>\n",
       "</div>"
      ],
      "text/plain": [
       "    mean_fit_time  std_fit_time  mean_score_time  std_score_time  \\\n",
       "28      37.621414      0.804448         0.021060        0.005597   \n",
       "29      34.245321      1.169265         0.015109        0.003084   \n",
       "26      36.608969      0.471304         0.019779        0.005434   \n",
       "27      36.077067      0.170725         0.021168        0.005278   \n",
       "24      34.265055      0.294500         0.018215        0.001335   \n",
       "25      34.581021      0.589098         0.020740        0.004372   \n",
       "22      31.838429      0.252722         0.020316        0.003530   \n",
       "23      31.990448      0.237310         0.019141        0.002905   \n",
       "20      29.709815      0.256207         0.018187        0.002112   \n",
       "21      30.179651      0.238838         0.022149        0.007186   \n",
       "\n",
       "   param_gradientboostingclassifier__max_depth  \\\n",
       "28                                           4   \n",
       "29                                           4   \n",
       "26                                           4   \n",
       "27                                           4   \n",
       "24                                           4   \n",
       "25                                           4   \n",
       "22                                           4   \n",
       "23                                           4   \n",
       "20                                           4   \n",
       "21                                           4   \n",
       "\n",
       "   param_gradientboostingclassifier__n_estimators  \\\n",
       "28                                            101   \n",
       "29                                            101   \n",
       "26                                             96   \n",
       "27                                             96   \n",
       "24                                             91   \n",
       "25                                             91   \n",
       "22                                             86   \n",
       "23                                             86   \n",
       "20                                             81   \n",
       "21                                             81   \n",
       "\n",
       "   param_simpleimputer__strategy  \\\n",
       "28                          mean   \n",
       "29                        median   \n",
       "26                          mean   \n",
       "27                        median   \n",
       "24                          mean   \n",
       "25                        median   \n",
       "22                          mean   \n",
       "23                        median   \n",
       "20                          mean   \n",
       "21                        median   \n",
       "\n",
       "                                               params  split0_test_score  \\\n",
       "28  {'gradientboostingclassifier__max_depth': 4, '...           0.981902   \n",
       "29  {'gradientboostingclassifier__max_depth': 4, '...           0.976966   \n",
       "26  {'gradientboostingclassifier__max_depth': 4, '...           0.981244   \n",
       "27  {'gradientboostingclassifier__max_depth': 4, '...           0.974663   \n",
       "24  {'gradientboostingclassifier__max_depth': 4, '...           0.980257   \n",
       "25  {'gradientboostingclassifier__max_depth': 4, '...           0.972688   \n",
       "22  {'gradientboostingclassifier__max_depth': 4, '...           0.979928   \n",
       "23  {'gradientboostingclassifier__max_depth': 4, '...           0.970385   \n",
       "20  {'gradientboostingclassifier__max_depth': 4, '...           0.973676   \n",
       "21  {'gradientboostingclassifier__max_depth': 4, '...           0.966107   \n",
       "\n",
       "    split1_test_score  split2_test_score  split3_test_score  \\\n",
       "28           0.970714           0.973346           0.975321   \n",
       "29           0.973346           0.971701           0.973346   \n",
       "26           0.969727           0.971043           0.973346   \n",
       "27           0.971372           0.970714           0.974334   \n",
       "24           0.967423           0.969069           0.969398   \n",
       "25           0.968740           0.969398           0.969069   \n",
       "22           0.963475           0.966765           0.968411   \n",
       "23           0.963475           0.964133           0.969727   \n",
       "20           0.964462           0.963804           0.962159   \n",
       "21           0.959855           0.962488           0.968082   \n",
       "\n",
       "    split4_test_score  mean_test_score  std_test_score  rank_test_score  \n",
       "28           0.977946         0.975846        0.003846                1  \n",
       "29           0.977617         0.974595        0.002291                2  \n",
       "26           0.975313         0.974135        0.004038                3  \n",
       "27           0.974325         0.973082        0.001682                4  \n",
       "24           0.973996         0.972029        0.004657                5  \n",
       "25           0.973009         0.970581        0.001866                6  \n",
       "22           0.971692         0.970054        0.005603                7  \n",
       "23           0.968729         0.967290        0.002902                8  \n",
       "20           0.968400         0.966500        0.004132                9  \n",
       "21           0.966754         0.964657        0.003033               10  "
      ]
     },
     "execution_count": 15,
     "metadata": {},
     "output_type": "execute_result"
    }
   ],
   "source": [
    "results = pd.DataFrame(model.cv_results_)\n",
    "results.sort_values(\"rank_test_score\").head(10)"
   ]
  },
  {
   "cell_type": "markdown",
   "id": "19169cc5-3a59-42f1-9975-58ce4043d5e7",
   "metadata": {},
   "source": [
    "* It can be seen that mean_fit_time is much longer for Gradient Boosting Model compared to the Random Forest Model\n",
    "* But the accuracy is not better than Random Forest\n",
    "* It could be the case that this model is just not that good for our case"
   ]
  },
  {
   "cell_type": "markdown",
   "id": "a472201d-2253-4b8d-9e91-c5288db97786",
   "metadata": {},
   "source": [
    "### Best Hyperparameters\n",
    "* Extracting best hyperparameters for model"
   ]
  },
  {
   "cell_type": "code",
   "execution_count": 16,
   "id": "844e2d4d-66c4-452e-aa31-db0b5e90d32c",
   "metadata": {},
   "outputs": [
    {
     "data": {
      "text/plain": [
       "{'gradientboostingclassifier__max_depth': 4,\n",
       " 'gradientboostingclassifier__n_estimators': 101,\n",
       " 'simpleimputer__strategy': 'mean'}"
      ]
     },
     "execution_count": 16,
     "metadata": {},
     "output_type": "execute_result"
    }
   ],
   "source": [
    "model.best_params_"
   ]
  },
  {
   "cell_type": "code",
   "execution_count": 17,
   "id": "d3dbeeb4-992b-4366-8715-7ffcf8ff8422",
   "metadata": {},
   "outputs": [
    {
     "data": {
      "text/plain": [
       "0.9758458667994153"
      ]
     },
     "execution_count": 17,
     "metadata": {},
     "output_type": "execute_result"
    }
   ],
   "source": [
    "model.best_score_"
   ]
  },
  {
   "cell_type": "markdown",
   "id": "92685b4f-e9f7-401c-a2e5-1e357a55d416",
   "metadata": {},
   "source": [
    "## 2.3 Evaluating Model\n",
    "### Calculating Accuracy Scores for model"
   ]
  },
  {
   "cell_type": "code",
   "execution_count": 18,
   "id": "d4bc87e4-2a13-4fa9-9a20-9317ad6e2367",
   "metadata": {},
   "outputs": [
    {
     "name": "stdout",
     "output_type": "stream",
     "text": [
      "Training Accuracy: 0.9727\n",
      "Test Accuracy: 0.9429\n"
     ]
    }
   ],
   "source": [
    "acc_train = model.score(X_train, y_train)\n",
    "acc_test = model.score(X_test, y_test)\n",
    "\n",
    "print(\"Training Accuracy:\", round(acc_train, 4))\n",
    "print(\"Test Accuracy:\", round(acc_test, 4))"
   ]
  },
  {
   "cell_type": "code",
   "execution_count": 19,
   "id": "8b11e1d3-6465-4a1d-b52c-62d366370187",
   "metadata": {},
   "outputs": [
    {
     "data": {
      "text/plain": [
       "False    1913\n",
       "True       83\n",
       "Name: bankrupt, dtype: int64"
      ]
     },
     "execution_count": 19,
     "metadata": {},
     "output_type": "execute_result"
    }
   ],
   "source": [
    "# Counting positive and negative classes in test set\n",
    "y_test.value_counts()"
   ]
  },
  {
   "cell_type": "markdown",
   "id": "1f0dd585-7463-43a6-834d-051d83c476a7",
   "metadata": {},
   "source": [
    "### Confusion Matrix"
   ]
  },
  {
   "cell_type": "code",
   "execution_count": 20,
   "id": "82fbbac1-1d49-45e2-ae53-e6f8c2f0d60c",
   "metadata": {},
   "outputs": [
    {
     "data": {
      "image/png": "[encoded data removed]",
      "text/plain": [
       "<Figure size 432x288 with 2 Axes>"
      ]
     },
     "metadata": {
      "needs_background": "light"
     },
     "output_type": "display_data"
    }
   ],
   "source": [
    "ConfusionMatrixDisplay.from_estimator(model, X_test, y_test);"
   ]
  },
  {
   "cell_type": "markdown",
   "id": "35d0befd-474f-47ee-811d-15cf0ae32791",
   "metadata": {},
   "source": [
    "* It can be observed that compared to Random Forest model, the **FALSE POSITIVES** have **INCREASED** \n",
    "    * (where the model falsely predicts a healthy company to go bankrupt)\n",
    "* **FALSE NEGATIVES** have **DECREASED** as compared to a Random Forest Model\n",
    "    * (where the model falsely predicts a failing company to NOT go bankrupt. to survive)"
   ]
  },
  {
   "cell_type": "markdown",
   "id": "312e30e4-0344-4eb2-a659-40eb01b6de35",
   "metadata": {},
   "source": [
    "### A Note on Accuracy Scores\n",
    "* This matrix is a great reminder of how imbalanced this data is, and of why accuracy isn't always the best metric for judging whether or not a model is giving us what we want. After all, if 95% of the companies in our dataset didn't go bankrupt, all the model has to do is always predict {\"bankrupt\": False}, and it'll be right 95% of the time. The accuracy score will be amazing, but it won't tell us what we really need to know.\n",
    "\n",
    "* Instead, we can evaluate our model using **two new metrics: Precision and Recall**. \n",
    "    * **PRECISION SCORE** is important when we want our model to only predict that a company will go bankrupt if its very confident in its prediction. \n",
    "    * **RECALL SCORE** is important to identify all the companies that will go bankrupt, even if that means being incorrect sometimes.\n"
   ]
  },
  {
   "cell_type": "markdown",
   "id": "cdf4c9e4-e915-45e1-a377-28998de3c045",
   "metadata": {},
   "source": [
    "### Classification Report"
   ]
  },
  {
   "cell_type": "code",
   "execution_count": 21,
   "id": "f433e462-873f-4cf3-872f-80725914a91a",
   "metadata": {},
   "outputs": [
    {
     "name": "stdout",
     "output_type": "stream",
     "text": [
      "              precision    recall  f1-score   support\n",
      "\n",
      "       False       0.98      0.96      0.97      1913\n",
      "        True       0.39      0.66      0.49        83\n",
      "\n",
      "    accuracy                           0.94      1996\n",
      "   macro avg       0.69      0.81      0.73      1996\n",
      "weighted avg       0.96      0.94      0.95      1996\n",
      "\n"
     ]
    }
   ],
   "source": [
    "# Printing Classification report\n",
    "print(classification_report(y_test, model.predict(X_test)))"
   ]
  },
  {
   "cell_type": "markdown",
   "id": "34d28e25-0893-44b5-9f2d-5f6032e59edf",
   "metadata": {},
   "source": [
    "* **Support** Column at the end shows how many observations are in the dataset, and how many observations were used to calculate particular metrics\n",
    "* **Accuracy** for this model is 0.94 and it was calculated with 1996 observations\n",
    "* **F1-score** combines the precision and recall of a classifier into a single metric by taking their harmonic mean\n",
    "* Need to be really sure about what class is Positive and which one is Negative\n",
    "    * Here we are calculating Precision metrics from the perspective of True which is our Positive Class (that a company will go bankrupt)"
   ]
  },
  {
   "attachments": {
    "9511a0df-7f2f-48aa-8e8e-7d9d61f6f8d8.png": {
     "image/png": "[encoded data removed]"
    }
   },
   "cell_type": "markdown",
   "id": "87ffbc64-52b0-4d58-baaf-c78078cc36f5",
   "metadata": {},
   "source": [
    "* ![image.png](attachment:9511a0df-7f2f-48aa-8e8e-7d9d61f6f8d8.png)\n",
    "* Threshold means where we are setting the probability cutoff for deciding what belongs to True or False"
   ]
  },
  {
   "cell_type": "markdown",
   "id": "0bfd0510-f5a3-46fc-9c81-dc30392b8c3f",
   "metadata": {},
   "source": [
    "### Recall Score\n",
    "* It measures how well the model identifies observations that belong to **POSITIVE CLASS**\n",
    "* **High Recall -> you want to catch em all**\n",
    "* For this case, it means of all companies in our test set which actually went bankrupt, what fraction did our model correctly predict going bankrupt\n",
    "    * If Recall = 1, model identified all companies which went bankrupt\n",
    "* Lower the probability threshold to increase the model's Recall Score"
   ]
  },
  {
   "cell_type": "markdown",
   "id": "36e01d3c-c9ac-474d-9561-23a390351fd9",
   "metadata": {},
   "source": [
    "#### When Recall is more important than Precision\n",
    "* The regulatory agency in the European Union, e.g., that assists companies and investors navigate [insolvency proceedings](https://en.wikipedia.org/wiki/Insolvency_Regulation) may want to build a model to predict which companies could go bankrupt so that it can send debtors information about filing for legal protection before their company becomes insolvent. \n",
    "* The administrative costs of sending information to a company is €500. \n",
    "* The legal costs to the European court system if a company doesn't file for protection before bankruptcy is €50,000.\n",
    "* For a model like this, they'd want to focus on **recall**, because recall is all about *quantity*. \n",
    "* A model that prioritizes recall will cast the widest possible net, which is the way to approach this problem. \n",
    "* They might want to send information to as many potentially-bankrupt companies as possible, because it costs a lot less to send information to a company that might not become insolvent than it does to skip a company that does. "
   ]
  },
  {
   "cell_type": "markdown",
   "id": "6d339d81-f9dc-45c6-a322-1a4f347b469f",
   "metadata": {},
   "source": [
    "### Precision Score\n",
    "* It measures how well the model identifies observations that belong to POSITIVE CLASS **WITHOUT** making the error of FALSE POSITIVE\n",
    "* **High Precision -> Make a Careful Decision**\n",
    "* For this case, precision is the fraction of the companies in our test set which actually went bankrupt from all companies which the model predicted to go bankrupt\n",
    "* For every False Positive, the precision score will go down\n",
    "* Increase the probability threshold to increase the model's Precision Score\n",
    "* The higher we raise the threshold, the higher the number of False Negatives become\n",
    "* The Cost of high Precision is lower Recall\n",
    "* Job of the Data Scientist is to determine whether we want higher Precision or higher Recall\n",
    "    * It would depend on the function and setting where model is expected to perform"
   ]
  },
  {
   "cell_type": "markdown",
   "id": "823974d0-08c0-4627-896d-865216806fa4",
   "metadata": {},
   "source": [
    "#### When Precision is more important than Recall"
   ]
  },
  {
   "cell_type": "markdown",
   "id": "bf35a694-c4e3-437c-bf07-ebf0b0ab37f9",
   "metadata": {},
   "source": [
    "* Consider a private equity firm that purchases distressed businesses, improve them, and then sells them for a profit\n",
    "* They want to build a model to predict which companies will go bankrupt so that they can purchase them ahead of competitors\n",
    "* If the firm purchases a company that is indeed insolvent, it can make a profit of €100 million or more\n",
    "* But if it purchases a company that isn't insolvent and can't be resold at a profit, the firm will lose €250 million\n",
    "* For a model like this, they would want to focus on **precision**\n",
    "* If they are trying to maximize their profit, the *quality* of predictions is much more important than the *quantity* of predictions\n",
    "* It's not a big deal if they don't catch every single insolvent company, but it's *definitely* a big deal if the companies they catch don't end up becoming insolvent"
   ]
  },
  {
   "cell_type": "markdown",
   "id": "ccddf0e3-df6f-47c1-9f8f-e959a864c583",
   "metadata": {
    "tags": []
   },
   "source": [
    "####  Confusion Matrix Widget \n",
    "* **where Precision more important than Recall**\n",
    "* e.g for a Private Equity firm in example above"
   ]
  },
  {
   "cell_type": "code",
   "execution_count": 26,
   "id": "8042db21-eafa-4f6a-9209-b85c79af19ce",
   "metadata": {},
   "outputs": [
    {
     "data": {
      "application/vnd.jupyter.widget-view+json": {
       "model_id": "9579ef39bd5d4a36a6710a8f5afd92a5",
       "version_major": 2,
       "version_minor": 0
      },
      "text/plain": [
       "interactive(children=(FloatSlider(value=0.5, description='threshold', max=1.0, step=0.05), Output()), _dom_cla…"
      ]
     },
     "metadata": {},
     "output_type": "display_data"
    },
    {
     "data": {
      "image/png": "[encoded data removed]",
      "text/plain": [
       "<Figure size 432x288 with 1 Axes>"
      ]
     },
     "metadata": {
      "needs_background": "light"
     },
     "output_type": "display_data"
    }
   ],
   "source": [
    "def make_cnf_matrix(threshold):\n",
    "    y_pred_proba = model.predict_proba(X_test)[:, -1]\n",
    "    y_pred = y_pred_proba > threshold\n",
    "    conf_matrix = confusion_matrix(y_test, y_pred)\n",
    "    tn, fp, fn, tp = conf_matrix.ravel()\n",
    "    print(f'Profits: €{tp * 100_000_000}')\n",
    "    print(f'Losses: €{fp * 250_000_000}')\n",
    "    print(f'NET: €{tp * 100_000_000 - fp * 250_000_000}')\n",
    "    ConfusionMatrixDisplay.from_predictions(y_test, y_pred, colorbar = False)\n",
    "    \n",
    "thresh_widget = widgets.FloatSlider(min = 0, max = 1, value = 0.5, step = 0.05)\n",
    "\n",
    "interact(make_cnf_matrix, threshold = thresh_widget);"
   ]
  },
  {
   "cell_type": "markdown",
   "id": "48bf9d49-598c-4750-b618-d54375205a76",
   "metadata": {},
   "source": [
    "# 3. Communicating Results\n",
    "## 3.1 Extracting Feature Importances"
   ]
  },
  {
   "cell_type": "code",
   "execution_count": 30,
   "id": "cb61ab24-4cfc-4910-9da3-9f24dfae7aef",
   "metadata": {},
   "outputs": [
    {
     "data": {
      "image/png": "[encoded data removed]",
      "text/plain": [
       "<Figure size 432x288 with 1 Axes>"
      ]
     },
     "metadata": {
      "needs_background": "light"
     },
     "output_type": "display_data"
    }
   ],
   "source": [
    "# Getting feature names from training data\n",
    "features = X_train_over.columns\n",
    "\n",
    "# Extracting importances from model\n",
    "importances = model.best_estimator_.named_steps['gradientboostingclassifier'].feature_importances_\n",
    "\n",
    "# Creating a series with feature names and importances\n",
    "feat_imp = pd.Series(importances, index = features).sort_values()\n",
    "\n",
    "# Plotting 10 most important features\n",
    "feat_imp.tail(10).plot(kind = 'barh')\n",
    "\n",
    "plt.xlabel(\"Gini Importance\")\n",
    "plt.ylabel(\"Feature\")\n",
    "plt.title(\"Feature Importance\");"
   ]
  },
  {
   "cell_type": "markdown",
   "id": "5338853a-6358-4ada-91aa-5ddc9f33c8ae",
   "metadata": {},
   "source": [
    "## 3.2 Saving Model"
   ]
  },
  {
   "cell_type": "code",
   "execution_count": 31,
   "id": "d6d3b816-94e6-4514-bcbd-3df4c3b227a9",
   "metadata": {},
   "outputs": [],
   "source": [
    "with open('model-gradient-boosting.pkl', 'wb') as f:\n",
    "    pickle.dump(model, f)"
   ]
  },
  {
   "cell_type": "markdown",
   "id": "71310e2d-37e9-4d0e-af21-91a9cf7683d0",
   "metadata": {},
   "source": [
    "## 3.3 Predictor Module\n",
    "* Using a .py predictor module to make predicctions"
   ]
  },
  {
   "cell_type": "code",
   "execution_count": 42,
   "id": "46632e2c-b638-496d-82d3-2463582af5f0",
   "metadata": {},
   "outputs": [
    {
     "name": "stdout",
     "output_type": "stream",
     "text": [
      "predictions shape: (526,)\n"
     ]
    },
    {
     "data": {
      "text/plain": [
       "company_id\n",
       "4     False\n",
       "32    False\n",
       "34    False\n",
       "36    False\n",
       "40     True\n",
       "Name: bankrupt, dtype: bool"
      ]
     },
     "execution_count": 42,
     "metadata": {},
     "output_type": "execute_result"
    }
   ],
   "source": [
    "# Importing module\n",
    "from predictor import make_predictions\n",
    "\n",
    "# Generating predictions\n",
    "y_test_pred = make_predictions(\n",
    "    data_filepath = 'poland-bankruptcy-data-2009-mvp-features.json',\n",
    "    model_filepath = 'model-gradient-boosting.pkl',\n",
    ")\n",
    "\n",
    "print('predictions shape:', y_test_pred.shape)\n",
    "y_test_pred.head()"
   ]
  },
  {
   "cell_type": "code",
   "execution_count": null,
   "id": "a947f489-1032-4f94-8433-f8587fe76d47",
   "metadata": {},
   "outputs": [],
   "source": []
  }
 ],
 "metadata": {
  "kernelspec": {
   "display_name": "Python 3 (ipykernel)",
   "language": "python",
   "name": "python3"
  },
  "language_info": {
   "codemirror_mode": {
    "name": "ipython",
    "version": 3
   },
   "file_extension": ".py",
   "mimetype": "text/x-python",
   "name": "python",
   "nbconvert_exporter": "python",
   "pygments_lexer": "ipython3",
   "version": "3.8.11"
  }
 },
 "nbformat": 4,
 "nbformat_minor": 5
}
